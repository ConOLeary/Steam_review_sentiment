{
 "cells": [
  {
   "cell_type": "code",
   "execution_count": 8,
   "metadata": {},
   "outputs": [
    {
     "name": "stdout",
     "output_type": "stream",
     "text": [
      "arkadaÅŸlarÄ±nÄ±zla oynayacaksanÄ±z alÄ±n\n",
      "True\n",
      "False\n",
      "neat little game. play if your staple fps game's server is down or sth. maps and weapon distribution system needs rework.\n",
      "True\n",
      "True\n",
      "7 Days to Die â€“ Ð²Ñ‹Ð¶Ð¸Ð²Ð°Ð½Ð¸Ðµ Ð² Ð·Ð¾Ð¼Ð±Ð¸-Ð°Ð¿Ð¾ÐºÐ°Ð»Ð¸Ð¿ÑÐ¸ÑÐµ. Ð˜Ð³Ñ€Ð° â€“ ÑˆÐµÐ´ÐµÐ²Ñ€ Ð² ÑÐ²Ð¾Ñ‘Ð¼ Ñ€Ð¾Ð´Ðµ. Ð­Ñ‚Ð¾ ÑÐ°Ð¼Ñ‹Ð¹ Ð»ÑƒÑ‡ÑˆÐ¸Ð¹ Ñ‚Ñ€Ñ‘Ñ…Ð¼ÐµÑ€Ð½Ñ‹Ð¹ ÑÐ¸Ð¼ÑƒÐ»ÑÑ‚Ð¾Ñ€ Ð²Ñ‹Ð¶Ð¸Ð²Ð°Ð½Ð¸Ñ Ð² Ð´Ð°Ð½Ð½Ñ‹Ð¹ Ð¼Ð¾Ð¼ÐµÐ½Ñ‚.\n",
      "True\n",
      "True\n",
      "Super game!\n",
      "True\n",
      "False\n",
      "Kinda decent f2p mmorpg that has no class limitations(hooray!)(and that game where i drained too much hours...) Community: In PvE, you may encounter friendly ppl(i managed to even encounter person that i love :o), while in PvP mostly complainers(those who complain about AT&T releasing too much of 1st in battle xD) or persons that make you turn into complainer.(As always!) Main review part: Graphics: Everything looks kinda pretty, but performance is not what expected for java and openGL...(8/10) Gameplay: SK features huge choice of equipment, which adds variety to the gear and gameplay itself(like you can use guns, or bombs, or swords.. or 2 of those... or all 3 xD) But because this game features grinding in big quantities you  may get bored(or may not if you do co-op with your friend(s))(8/10) Controls: In order to rekt m8s you need to change much(like binding weps to keys)(8/10) Setting: Kinda variable even if its supposed to be under ground.(10/10) Story: It's kinda interesting but begins to be rly interesting only when OOO decides to release new missions xD(like those new levels featuring herex 'n stuff)(8/10) Late game playability: This game features much equipment/accessories/stuff that will make you grind it to get it. Also getting last prestige badge which can take up to 5 months.(7/10) Overall rating: This game can be very good if you have friends and you're patient, but if not then it's not for ya... anyway this game doesn't cost a penny, so better try it out! Rank: A (8,2/10) P.S. review got updated at 30.10.15 and game's rank reduced.\n",
      "True\n",
      "False\n"
     ]
    }
   ],
   "source": [
    "import json_lines\n",
    "X= []; y= []; z= [];\n",
    "with open('reviews.json', 'rb') as f:\n",
    "    for item in json_lines.reader(f):\n",
    "        X.append(item['text'])\n",
    "        y.append(item['voted_up'])\n",
    "        z.append(item['early_access'])\n",
    "\n",
    "# for i in range(len(X)):\n",
    "for i in range(5):\n",
    "    print(X[i])\n",
    "    print(y[i])\n",
    "    print(z[i])"
   ]
  },
  {
   "cell_type": "code",
   "execution_count": null,
   "metadata": {},
   "outputs": [],
   "source": []
  }
 ],
 "metadata": {
  "kernelspec": {
   "display_name": "Python 3",
   "language": "python",
   "name": "python3"
  },
  "language_info": {
   "codemirror_mode": {
    "name": "ipython",
    "version": 3
   },
   "file_extension": ".py",
   "mimetype": "text/x-python",
   "name": "python",
   "nbconvert_exporter": "python",
   "pygments_lexer": "ipython3",
   "version": "3.9.1"
  }
 },
 "nbformat": 4,
 "nbformat_minor": 4
}
