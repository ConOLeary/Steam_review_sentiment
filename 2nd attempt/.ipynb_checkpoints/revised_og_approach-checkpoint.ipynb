{
 "cells": [
  {
   "cell_type": "code",
   "execution_count": 1,
   "metadata": {},
   "outputs": [],
   "source": [
    "import json_lines\n",
    "from langdetect import detect\n",
    "from langdetect import detect_langsasmr\n",
    "from sklearn.neural_network import MLPClassifier\n",
    "import numpy as np\n",
    "\n",
    "from sklearn.datasets import load_iris\n",
    "from sklearn.neural_network import MLPClassifier\n",
    "from sklearn.model_selection import train_test_split\n",
    "from sklearn.preprocessing import StandardScaler\n",
    "from sklearn.model_selection import KFold\n",
    "import pandas as pd\n",
    "from sklearn.metrics import plot_confusion_matrix\n",
    "import matplotlib.pyplot as plt\n",
    "\n",
    "MAX_FEATURES = 200 # incrasing this grants marginal increases in accuracy at the cost of run time\n",
    "MIN_ENGLISH = 0.9999\n",
    "LIMIT_INPUT_ROWS = 1500 # less then ~1,500 means you get a biased dataset, because for some reason the first load of reviews are all positive\n"
   ]
  },
  {
   "cell_type": "code",
   "execution_count": 2,
   "metadata": {},
   "outputs": [],
   "source": [
    "# READ IN INFO\n",
    "reviews= []; polarity= []; are_early= [];\n",
    "with open ('reviews.json', 'rb') as f:\n",
    "    i= 0\n",
    "    for item in json_lines.reader(f):\n",
    "        if i < LIMIT_INPUT_ROWS:\n",
    "            try:\n",
    "                langs = detect_langs(item['text'])\n",
    "            except:\n",
    "                pass\n",
    "            for lang in langs:\n",
    "                if str(lang)[0:2] == 'en':\n",
    "                    if float(str(lang)[3:]) > MIN_ENGLISH:\n",
    "                        reviews.append(item['text'])\n",
    "                        polarity.append(item['voted_up'])\n",
    "                        are_early.append(item['early_access'])\n",
    "                        i+= 1\n",
    "                        break\n",
    "        else:\n",
    "            break\n",
    "        "
   ]
  },
  {
   "cell_type": "code",
   "execution_count": 3,
   "metadata": {},
   "outputs": [],
   "source": [
    "# MOST FREQ WORDS AS FEATURES\n",
    "word_counts = {}\n",
    "for text in reviews:\n",
    "    for word in text:\n",
    "        if word in word_counts:\n",
    "            word_counts[word]+= 1\n",
    "        else:\n",
    "            word_counts[word]= 1\n",
    "word_counts= {k: v for k, v in sorted(word_counts.items(), key=lambda item: item[1], reverse=True)}\n",
    "trimd_word_counts= {}\n",
    "if len(word_counts) > MAX_FEATURES:\n",
    "    for i, entry in enumerate(word_counts):\n",
    "        if i >= MAX_FEATURES:\n",
    "            break\n",
    "        trimd_word_counts[entry]= word_counts[entry]\n",
    "    word_counts= trimd_word_counts"
   ]
  },
  {
   "cell_type": "code",
   "execution_count": 4,
   "metadata": {},
   "outputs": [],
   "source": [
    "# CREATE 1-HOT ENCODINGS\n",
    "amount_features = len(word_counts)\n",
    "one_hots = []\n",
    "for text in reviews:\n",
    "    one_hot = []\n",
    "    for i in range(MAX_FEATURES):\n",
    "        one_hot.append(0)\n",
    "    for word in text:\n",
    "        if word in word_counts:\n",
    "            one_hot[list(word_counts).index(word)]+= 1\n",
    "    one_hots.append(one_hot)\n",
    "\n",
    "for i, one_hot in enumerate(one_hots): # convert array of lists into 2d array\n",
    "    one_hot_arr = np.array(one_hot)\n",
    "    one_hots[i] = one_hot_arr\n",
    "x_one_hots = np.array(one_hots)\n",
    "\n",
    "y_one_hot= np.array(polarity, dtype=np.int)"
   ]
  },
  {
   "cell_type": "code",
   "execution_count": 5,
   "metadata": {
    "scrolled": false
   },
   "outputs": [
    {
     "name": "stdout",
     "output_type": "stream",
     "text": [
      "overall accuracy:  0.9686666666666667\n"
     ]
    },
    {
     "data": {
      "image/png": "[encoded data removed]",
      "text/plain": [
       "<Figure size 432x288 with 2 Axes>"
      ]
     },
     "metadata": {
      "needs_background": "light"
     },
     "output_type": "display_data"
    }
   ],
   "source": [
    "# SPLIT, TRAIN, PREDICT, GRAPH\n",
    "y_tests= []\n",
    "y_trains= []\n",
    "X_train_scaleds= []\n",
    "X_test_scaleds= []\n",
    "kfold= KFold(5, shuffle=True, random_state=1)\n",
    "train, test= kfold.split\n",
    "kfold= KFold(5, shuffle=True, random_state=1)\n",
    "for train_index, test_index in kfold.split(x_one_hots):\n",
    "    y_train= []\n",
    "    y_test= []\n",
    "    for index in train_index:\n",
    "        y_train.append(y_one_hot[index])\n",
    "    for index in test_index:\n",
    "        y_test.append(y_one_hot[index])\n",
    "    X_train= x_one_hots[train_index]\n",
    "    X_test= x_one_hots[test_index]\n",
    "    sc_X= StandardScaler()\n",
    "    X_train_scaled= sc_X.fit_transform(X_train)\n",
    "    X_test_scaled= sc_X.transform(X_test)\n",
    "    X_train_scaleds+= X_train_scaled.tolist()\n",
    "    X_test_scaleds+= X_test_scaled.tolist()\n",
    "    y_tests+= y_test\n",
    "    y_trains+= y_train\n",
    "    \n",
    "clf= MLPClassifier(hidden_layer_sizes=(amount_features, int(amount_features/2), int(amount_features/4)), activation=\"relu\", solver=\"adam\", random_state=1).fit(X_train_scaleds, y_trains)\n",
    "y_preds= clf.predict(X_test_scaleds)\n",
    "\n",
    "print(\"overall accuracy: \", clf.score(X_test_scaleds, y_tests))\n",
    "try:\n",
    "    fig= plot_confusion_matrix(clf, X_test_scaleds, y_tests, display_labels=[\"voted down\", \"voted up\"])\n",
    "except ValueError:\n",
    "    pass"
   ]
  },
  {
   "cell_type": "code",
   "execution_count": null,
   "metadata": {},
   "outputs": [],
   "source": []
  }
 ],
 "metadata": {
  "kernelspec": {
   "display_name": "Python 3",
   "language": "python",
   "name": "python3"
  },
  "language_info": {
   "codemirror_mode": {
    "name": "ipython",
    "version": 3
   },
   "file_extension": ".py",
   "mimetype": "text/x-python",
   "name": "python",
   "nbconvert_exporter": "python",
   "pygments_lexer": "ipython3",
   "version": "3.9.1"
  }
 },
 "nbformat": 4,
 "nbformat_minor": 4
}
