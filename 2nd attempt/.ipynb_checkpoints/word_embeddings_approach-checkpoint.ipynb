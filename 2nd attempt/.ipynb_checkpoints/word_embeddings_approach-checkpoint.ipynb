{
 "cells": [
  {
   "cell_type": "code",
   "execution_count": 1,
   "metadata": {},
   "outputs": [],
   "source": [
    "import random\n",
    "import json_lines\n",
    "from langdetect import detect_langs\n",
    "import nltk\n",
    "from nltk.stem import WordNetLemmatizer\n",
    "\n",
    "LIMIT_INPUT_ROWS= 100\n",
    "MIN_ENGLISH= 0.0\n",
    "WNL = WordNetLemmatizer()\n",
    "ALL_TAGS= ['CC', 'CD', 'DT', 'EX', 'FW', 'IN', 'JJ', 'JJR', 'JJS', 'LS', 'MD', 'NN', 'NNS', 'NNP', 'NNPS', 'PDT',\n",
    " 'POS', 'PRP', 'PRP$', 'RB', 'RBR', 'RBS', 'RP', 'TO', 'UH', 'VB', 'VBD', 'VBG', 'VBN', 'VBP', 'VBZ', 'WDT', 'WP',\n",
    " 'WP$', 'WRB']\n",
    "ACCEPTABLE_TAGS= ['CC', 'CD', 'DT', 'EX', 'FW', 'IN', 'JJ', 'JJR', 'JJS', 'LS', 'MD', 'NN', 'NNS', 'NNP', 'NNPS', 'PDT',\n",
    " 'POS', 'PRP', 'PRP$', 'RB', 'RBR', 'RBS', 'RP', 'TO', 'UH', 'VB', 'VBD', 'VBG', 'VBN', 'VBP', 'VBZ', 'WDT', 'WP',\n",
    " 'WP$', 'WRB']\n",
    "\n",
    "number_entries= 0\n",
    "with open ('reviews.json', 'rb') as f:\n",
    "    for item in json_lines.reader(f):\n",
    "        number_entries+= 1"
   ]
  },
  {
   "cell_type": "code",
   "execution_count": 2,
   "metadata": {},
   "outputs": [],
   "source": [
    "# READ IN INFO\n",
    "reviews= []; polarity= []; are_early= []\n",
    "included_indexs= []\n",
    "j= 0\n",
    "while j < LIMIT_INPUT_ROWS:\n",
    "    randint= random.randint(0, number_entries-1)\n",
    "    if not randint in included_indexs:\n",
    "        included_indexs.append(randint)\n",
    "        j+= 1\n",
    "    \n",
    "with open('reviews.json', 'rb') as f: # 5,000 entries in reviews.json\n",
    "    for counter, item in enumerate(json_lines.reader(f)):\n",
    "        if counter in included_indexs:\n",
    "            reviews.append(item['text'])\n",
    "            polarity.append(item['voted_up'])\n",
    "            are_early.append(item['early_access'])\n",
    "\n",
    "# END PRODUCTS: reviews, polarity, are_early"
   ]
  },
  {
   "cell_type": "code",
   "execution_count": 3,
   "metadata": {},
   "outputs": [],
   "source": [
    "# FILTER TEXT BY LANGUAGE\n",
    "\n",
    "filtered_reviews= []\n",
    "filtered_polarity= []\n",
    "filtered_are_early= []\n",
    "for i, text in enumerate(reviews):\n",
    "    try:\n",
    "        langs = detect_langs(text)\n",
    "    except:\n",
    "        pass\n",
    "    for lang in langs:\n",
    "        if str(lang)[0:2] == 'en':\n",
    "            if float(str(lang)[3:]) > MIN_ENGLISH:\n",
    "                filtered_reviews.append(reviews[i])\n",
    "                filtered_polarity.append(polarity[i])\n",
    "                filtered_are_early.append(are_early[i])\n",
    "reviews= filtered_reviews\n",
    "polarity= filtered_polarity\n",
    "are_early= filtered_are_early\n",
    "\n",
    "# END PRODUCTS: reviews, polarity, are_early"
   ]
  },
  {
   "cell_type": "code",
   "execution_count": 4,
   "metadata": {},
   "outputs": [],
   "source": [
    "# FILTER TEXT BY WORD TYPE\n",
    "\n",
    "#print(reviews)\n",
    "filtered_reviews= []\n",
    "for i, text in enumerate(reviews):\n",
    "    #print(\"-------------------------------------\")\n",
    "    new_text= []\n",
    "    split_text= text.split()\n",
    "    tags= nltk.pos_tag(split_text)\n",
    "    #print(tags)\n",
    "    #print(\"#############\")\n",
    "    lemd_split_text= []\n",
    "    for word in split_text:\n",
    "        lemd_split_text.append(WNL.lemmatize(word))\n",
    "    tags= nltk.pos_tag(lemd_split_text)\n",
    "    #print(tags)\n",
    "    for j, word in enumerate(lemd_split_text):\n",
    "        if tags[j][1] in ACCEPTABLE_TAGS:\n",
    "            new_text.append(word)\n",
    "    filtered_reviews.append(new_text)\n",
    "reviews= [' '.join([str(elem) for elem in sublist]) for sublist in filtered_reviews]\n",
    "#print(reviews)\n",
    "\n",
    "# END PRODUCTS: reviews, polarity, are_early"
   ]
  },
  {
   "cell_type": "code",
   "execution_count": 7,
   "metadata": {},
   "outputs": [
    {
     "name": "stdout",
     "output_type": "stream",
     "text": [
      "[['is', 'a', 'point-and-click', 'horror/adventure', 'game', 'that', 'last', 'about', 'two', 'and', 'a', 'half', 'hours.', 'Right', 'up', 'until', 'the', 'last', 'five', 'minute', 'or', 'so,', 'I', 'thought', 'I', 'wa', 'following', 'the', 'plot', 'pretty', 'well.', 'Then', 'the', 'Big', 'Reveal', 'finally', 'came,', 'the', 'nature', 'of', 'the', \"game's\", 'paranormal', 'threat', 'wa', 'explained,', 'and...', 'I', 'still', \"don't\", 'get', 'what', 'wa', '\"really\"', 'supposed', 'to', 'be', 'going', 'on.', 'Nevertheless,', 'I', 'enjoyed', 'the', 'ride.', 'The', 'story', 'is', 'paced', 'well,', 'with', 'creepy', 'element', 'being', 'added', 'in', 'just', 'the', 'right', 'amount', 'and', 'increment', 'to', 'keep', 'the', 'narrative', 'momentum', 'going', '(and', 'the', 'player', 'feeling', 'increasingly', 'uneasy).', 'The', 'voice', 'acting', 'is', 'also', 'quite', 'good', 'for', 'what', 'appears', 'to', 'be', 'a', 'fairly', 'low-budget', 'game', '(video', 'game', 'critic', 'Jim', 'Sterling', 'play', 'a', 'supporting', 'character).', 'A', 'warning', 'though:', 'this', 'is', 'not', 'a', 'game', 'for', 'puzzle', 'fans.', 'Most', 'of', 'the', 'game', 'unfolds', 'through', 'simple', 'fetch', 'quest', '(\"Hey', 'friend,', 'would', 'you', 'go', 'to', 'the', 'bar', 'and', 'get', 'me', 'a', 'shot', 'of', 'whiskey?\")', 'and', 'the', 'resulting', 'dialogue', 'upon', 'completion', 'of', 'said', 'fetching', '(\"Thanks', 'for', 'the', 'whiskey.', 'Hey,', 'did', 'I', 'ever', 'tell', 'you', 'about....\").', 'A', 'few', 'puzzle', 'are', 'interspersed', 'here', 'and', 'there,', 'but', 'the', 'answer', 'are', 'so', 'heavily', 'hinted', 'that', 'I', 'wa', 'never', 'stuck', 'for', 'more', 'than', 'thirty', 'second', 'or', 'so', 'and', 'this', 'is', 'coming', 'from', 'a', 'guy', 'who', 'almost', 'always', 'resort', 'to', 'a', 'walkthrough', 'at', 'least', 'a', 'few', 'time', 'before', 'finishing', 'most', 'other', 'adventure', 'games.', 'In', 'other', 'words,', 'play', 'for', 'it', 'story', 'and', 'atmosphere', 'rather', 'than', 'for', 'an', 'intellectual', 'challenge.', 'Oh,', 'and', 'just', 'in', 'case', \"you're\", 'confused', 'by', 'the', \"game's\", 'title:', \"it's\", 'called', 'a', '\"Trilogy\"', 'because', \"it's\", 'told', 'in', 'three', 'chapter', '(each', 'lasting', 'about', '45', 'minutes).', 'All', 'three', 'chapter', 'are', 'included', 'when', 'you', 'buy', 'the', 'game,', 'and', 'are', 'all', 'accessed', 'from', 'one', 'main', 'menu.', 'As', 'far', 'a', 'I', 'know,', 'there', \"aren't\", 'any', 'other', 'game', 'in', 'the', 'series', 'besides', 'this', 'one', '(though', 'I', 'believe', 'a', 'sequel', 'is', 'planned).'], ['Go', 'to', 'hell', 'and', 'go', 'to', 'make', 'Harem'], ['Great', 'game,', 'high', 'replayability...', 'One', 'of', 'those', 'game', 'that', 'just', 'get', 'better', 'and', 'better', 'the', 'more', 'you', 'play', 'it'], ['I', 'can', 'see', 'the', 'logic', 'behind', 'the', 'negative', 'reviews.', 'This', 'game', 'is', 'not', 'for', 'everyone.', 'It', 'requires', 'patience,', 'reflex', 'and', 'somewhat', 'grinding', 'for', 'achievement', 'therefore', 'the', 'items.', 'Now', 'if', 'you', 'are', 'not', 'a', 'fan', 'of', 'rogue-like,', 'action', 'genre,', 'this', 'game', \"wouldn't\", 'be', 'the', 'best', 'match', 'for', 'you.', 'If', 'you', 'are,', 'however', 'and', 'want', 'to', 'have', 'some', 'fun,', 'this', 'game', 'suit', 'your', 'need', 'perfectly.', 'I', 'will', 'start', 'with', 'saying', 'that', 'the', 'game', 'is', 'really', 'hard.', 'This', \"doesn't\", 'make', 'the', 'game', 'frustrating', 'though.', 'After', 'you', 'get', 'the', 'grasp', 'of', 'the', 'mechanic', 'and', 'familiar', 'with', 'the', 'items,', 'it', 'will', 'be', 'only', 'a', 'matter', 'of', 'time', 'to', 'finish', 'the', 'game.', 'David', 'Bowie', '(RIP)', 'is', 'a', 'playable', 'character', 'in', 'this', 'game', '(Though', 'I', \"don't\", 'think', 'he', 'would', 'appreciate', 'the', 'choice', 'of', 'soundtrack.).', 'Gameplay', 'is', 'fast-paced.', 'That', 'mean', 'there', 'will', 'be', 'time', 'you', \"won't\", 'even', 'understand', 'how', 'you', 'died', 'or', 'took', 'massive', 'amount', 'of', 'damage.', 'So', 'never', 'rely', 'on', 'your', 'health', 'being', 'full.', 'You', 'always', 'need', 'to', 'be', 'alert', 'and', 'keep', 'your', 'reflex', 'up', 'because', 'the', 'way', 'to', 'die', 'in', 'this', 'game', 'are', 'just', 'too', 'many.', 'Like', 'most', 'of', 'the', 'rogue-like', 'dungeon', 'crawlers,', 'RNG', 'factor', 'is', 'significant.', 'Game', 'ha', 'six', 'different', 'character', 'with', 'a', 'huge', 'item', 'pool.', 'There', 'are', 'many', 'thing', 'that', 'could', 'make', 'reaching', 'the', 'end', 'a', 'piece', 'of', 'cake.', 'You', 'can', 'get', 'the', 'most', 'OP', 'item', 'on', 'the', 'first', 'floors,', 'you', 'can', 'pray', 'to', 'RNG', 'god', 'and', 'get', 'some', 'ridiculous', 'stats', 'with', 'the', 'passive', 'items,', 'you', 'can', 'find', 'the', 'bos', 'room', 'without', 'too', 'much', 'wandering', 'around', 'the', 'room', 'and', 'these', 'thing', 'also', 'could', 'make', 'the', 'run', 'really', 'hard', 'vica-versa.', 'Simple,', 'pixelated,', 'yet', 'colorful', 'graphic', 'make', 'the', 'game', 'charming', 'and', 'kind', 'of', 'fit', 'the', 'style', 'of', 'the', 'game', 'itself,', 'in', 'my', 'opinion.', 'Music', 'is...', 'well,', 'it', 'is', 'dubstep.', 'Depends', 'on', 'your', 'approach', 'to', 'electro', 'music.', 'Although', 'I', \"don't\", 'like', 'dubstep', 'myself,', 'it', 'fit', 'the', 'fast-paced', 'theme', 'and', 'make', 'you', 'randomly', 'jump', 'and', 'shoot', 'to', 'everyone', 'and', 'everywhere,', 'because', 'the', 'groove', 'is', 'real.', 'Gameplay:', '8/10', 'Graphics', '7/10', 'Music:', '7/10', 'Replay', 'value:', '9/10', 'Overall:', '7.5/10,', 'a', 'good', 'game', 'for', 'dungeon', 'crawler', 'or', 'dubstep', 'fans.'], ['real', 'sh!t'], ['good', 'game,', 'very', 'old', 'school'], ['Playing', 'Closers:', '1.', 'Start', 'Up', 'The', 'Game', '2.', 'Kill', 'Monsters', 'In', 'Blaze', 'Of', 'Glory', '3.', 'Fight', 'Players', 'And', 'Ultimately', 'Die', '4.', 'Be', 'Amaze', 'By', 'The', 'Stylish', 'Artstyle', '5.', 'Do', 'A', 'Bunch', 'Of', 'Runs', '6.', 'Realize', 'There', 'A', 'Fatigue', 'System', '7.', 'Runs', 'Out', 'Of', 'Stamina', '8.', 'Create', 'New', 'Character', '9.', 'Seha', 'Wants', 'To', 'Go', 'To', 'The', 'Arcade', '10.', \"Seha's\", 'Friends', 'Still', 'At', 'The', 'Arcade', 'To', 'This', 'Very', 'Day', '11.', 'Run', 'Out', 'of', 'Account', 'Stamina', '12.', 'Scream', 'No', '13.', 'Repeat', 'Seriously', 'I', 'love', 'playing', 'this', 'game.'], ['â™¥â™¥â™¥â™¥â™¥â™¥', 'Selina', 'and', 'then', 'proceeded', 'to', 'beat', 'the', 'â™¥â™¥â™¥â™¥', 'out', 'of', 'Harvey', 'Dent', 'cause', 'you', 'got', 'caught', 'in', 'the', 'act?', \"That's\", 'just', 'a', 'random', 'batman', 'game.', 'â™¥â™¥â™¥â™¥â™¥â™¥', 'Selina', 'and', 'then', 'proceeded', 'to', 'beat', 'the', 'â™¥â™¥â™¥â™¥', 'out', 'of', 'Harvey', 'Dent', 'in', 'underwear', 'while', 'having', 'a', 'broken', 'shoulder', 'cause', 'the', 'â™¥â™¥â™¥â™¥â™¥â™¥', 'cat', 'opened', 'the', 'â™¥â™¥â™¥â™¥â™¥â™¥', 'door', 'and', 'Harvey', 'Dent', 'saw', 'you', 'almost', 'naked?', 'Batman', 'The', 'Telltale', 'Series.'], ['inception', 'v', 'bioshock', 'infinite', 'hadi', 'bakim'], ['+Classes', '+Weapons', '+Seasonal', 'Events', '-Stuck', 'on', 'object'], ['very', 'hard', 'but', 'very', 'fun'], ['11', 'of', '10', 'Angels'], ['Very', 'good', 'Fps-Shooter', '<3'], ['I', 'like', 'repairing', 'engines/canons', 'by', 'hitting', 'them', 'with', 'an', 'hammer', 'over', 'and', 'over', 'again', 'until', 'stuff', 'finally', 'work', 'again.'], ['\"', 'Fantastic', 'game', '!!', 'No', 'more', 'Dark', 'Souls', \"it's\", 'Time', 'to', 'DMC5', '<3', '<3', '<3', '<3', '\"Old', 'revuews', '*', \"it's\", 'Scam', 'No', 'online', 'at', 'all', '....', '*', 'No', 'Co-op', '*', 'Boring', 'game', '+', 'Short', 'story', 'GG'], ['DATE', '12-Mar-2019', 'SETUP', 'Microsoft', 'Windows', '10', '64-Bit', 'Microsoft', 'Surface', 'Book', '2016', '(GTX', '965M)', 'Laptop', 'Logitech', 'F710', 'Gamepad', 'RATING', '40%', '+', 'for', 'Optimization', 'for', 'Storytelling', '+', 'for', 'Immersion', 'for', 'Gameplay', 'for', 'Value', 'The', 'game', 'ran', 'smooth', '@1600x900', 'medium', 'setting', 'with', 'great', 'visual', 'and', 'aural', 'presentation.', 'The', 'voice', 'acting', 'is', 'good', 'enough', 'but', 'the', 'character', 'and', 'story', 'are', 'really', 'bad.', 'The', 'control', 'and', 'combat', 'mechanic', 'are', 'slow-pacing', 'instead', 'of', 'the', 'usual', 'hack', \"n'\", 'slash', 'button', 'mashing.', \"It's\", 'actually', 'really', 'fun...', 'HOWEVER...', 'the', 'enemy', 'respawns,', 'and', 'without', 'map', 'or', 'navigation', 'system,', 'you', 'will', 'find', 'yourself', 'backtracking', 'a', 'lot', 'trying', 'to', 'find', 'the', 'main', 'story', 'objective,', 'while', 'killing', 'the', 'same', 'enemy', 'over', 'and', 'over', 'again', 'using', 'the', 'slow-pacing', 'combat', 'system.', \"That's\", 'not', 'the', 'only', 'problem.', 'Although', 'the', 'game', 'have', 'beautiful', 'graphics,', 'you', 'basically', 'only', 'get', 'two', 'place', 'to', 'explore,', 'a', 'big', 'castle', '(complete', 'with', 'burial', 'site,', 'courtyard,', 'catacombs)', 'and', 'a', 'big', 'temple', 'in', 'another', 'world.'], [\"wasn't\", 'even', 'worth', 'my', 'time.', 'Just', 'silly', 'nonsense,', 'not', 'mini', 'golf.'], ['Played', 'it', 'for', 'a', 'couple', 'minute', 'and', 'I', 'wanted', 'to', 'literally', 'break', 'my', 'controller', 'in', 'half.', 'I', 'even', 'went', 'through', 'the', 'trouble', 'of', 'researching', 'if', 'a', 'real', 'rally', 'car', 'even', 'control', 'like', 'that', 'and', 'long', 'story', 'short,', 'it', \"doesn't.\", 'At', 'least', 'the', 'base', 'control', 'the', 'game', 'give', 'you', 'right', 'off', 'bat', \"aren't\", 'and', 'customising', 'it', 'to', 'my', 'liking', 'felt', 'like', 'an', 'unbelievably', 'tedious', 'task.', 'The', 'fact', 'that', 'you', 'have', 'to', 'load', 'into', 'a', 'match', 'just', 'to', 'test', 'whether', 'or', 'not', 'those', 'setting', 'are', 'to', 'your', 'liking', 'is', 'just', 'stupidity', 'to', 'me', 'a', 'well.', 'I', 'can', 'see', 'the', 'appeal', 'but', 'it', 'just', \"isn't\", 'for', 'me,', 'car', 'are', 'just', 'too', 'damn', 'slippery', 'and', 'control', 'to', 'unrealistically', 'for', 'my', 'liking.', 'You', 'can', 'literally', 'perform', 'a', 'complete', '360', 'degree', 'side', 'flip', 'by', 'just', 'knocking', 'a', 'corner', 'which', 'is', 'just', 'laughable.', 'Also', 'make', 'no', 'mistake,', 'I', 'enjoy', 'difficult', 'game', 'that', 'feel', 'fair', 'like', 'From', \"Soft's\", 'game', 'or', 'the', 'Ninja', 'Gaiden', 'game', 'but', 'I', 'feel', 'pure', 'frustration', 'every', 'time', 'I', 'load', 'up', 'a', 'match', 'and', 'it', 'just', \"doesn't\", 'feel', 'fair', 'to', 'me,', 'glad', 'I', \"didn't\", 'waste', 'my', 'money', 'on', 'this.', 'I', 'wont', 'even', 'review', 'the', 'game', 'since', 'I', 'have', 'completely', 'no', 'interest', 'in', 'rally', 'racer', 'and', 'I', \"don't\", 'think', \"I'd\", 'ever', 'touch', 'it', 'again,', 'let', 'alone', 'complete', 'it.'], ['Poorly', 'designed,', 'sad', 'because', 'it', 'ha', 'a', 'lot', 'of', 'potential'], [\"it's\", 'â™¥â™¥â™¥â™¥', 'event', 'pass!!!', 'i', \"can't\", 'sell', 'this', 'â™¥â™¥â™¥â™¥!!!'], ['Cant', 'even', 'create', 'an', 'account', 'not', 'worth', 'it'], ['This', 'game', \"wouldn't\", 'even', 'load,', 'when', 'better', 'game', 'would', 'load', 'on', 'my', 'pc.', 'This', 'is', 'for', 'some', 'reason', 'only', 'for', 'gaming', 'pcs.', \"Don't\", 'buy', 'if', 'you', \"don't\", 'have', 'a', 'good', 'pc.'], ['Its', 'not', 'fun', 'for', 'me.', 'Sadly', 'i', 'cannot', 'get', 'my', 'refund.'], ['So...', 'What', 'can', 'I', 'say', 'about', 'this', 'game,', 'I', 'mean', 'it', 'okay', 'I', 'guess..', 'I', 'like', 'graphic', 'and', 'futuristic', 'stuff,', 'but', \"it's\", 'not', 'original', 'and', \"it's\", 'nothing', 'new', 'in', 'video', 'games,', 'so', 'I', 'will', 'gonna', 'say', 'that', 'this', 'game', 'is', 'okay,', 'but', 'for', 'single', 'player', 'and', 'of', 'course', 'Zombies,', 'but', 'oh', 'my', 'lord,', 'that', 'multiplayer', 'mode,', ':D,', \"it's\", 'a', 'complete', 'joke,', 'bad', 'rip', 'off', 'from', 'Black', 'Ops', '3,', 'but', 'thats', 'kinda', 'okay,', 'the', 'worst', 'thing', 'is', 'cheaters,', 'cheaters,', 'almost,', 'like,', 'second', 'to', 'third', 'match', 'and', 'booom', 'there', 'you', 'have', 'it..', 'One', 'in', 'game,', 'minimum...', 'I', 'mean,', \"don't\", 'get', 'me', 'wrong,', 'Infinity', 'Ward', 'tried', 'something,', 'they', 'created', 'this', 'game', 'from', 'engine', 'built', 'same', 'for', 'CoD', 'Ghosts', '(I', 'mean', 'just', 'look', 'at', 'the', 'animations,', 'lower', 'textures,', 'some', 'sound', 'and', 'icon', 'in', 'game),', 'and', 'the', 'worst', 'part', 'is...', 'THIS', 'GAME', 'SUFFERS', 'FROM', 'SAME', 'SIMPTOMS', 'AS', 'GHOSTS', 'on', 'PC', ':D,', 'input', 'lag,', 'mouse', 'lag,', 'FPS', 'randomly', 'drop,', 'and', 'oh', 'my', 'god,', 'you', 'will', 'need', 'a', 'beast,', 'because', 'r9', '290x', \"can't\", 'hit', '1080p', '60', 'fps', 'on', 'very', 'low', 'texture', 'complete', 'joke', 'of', 'optimization...', 'So,', 'I', 'can', 'only', 'recommend', 'you', 'to', 'get', 'Black', 'Ops', '3', \"it's\", 'a', 'superb', 'game,', 'but', 'this,', \"it's\", 'a', 'rip', 'off', 'of', 'BO3,', 'Ghosts,', 'MW3,', 'even', 'it', 'got', 'a', 'variety', 'map', 'pack', 'from', 'older', 'CoDs...', 'And', 'yeap,', 'I', 'only', 'recommend', 'it', 'for', 'Single', 'Player', 'and', 'Zombies,', \"it's\", 'awesome', 'only', 'there', 'MP', 'only', 'with', 'hardened', 'bots...', 'Also,', 'purchase', 'PS4', 'copy,', 'it', 'much', 'better', 'optimized', 'then', 'PCs.'], ['Nice,', 'You', 'finally', 'managed', 'to', 'kill', 'csgo,', 'RIP', 'it', 'been', 'a', 'long', 'journey!'], ['all', 'this', 'money', 'and', 'development', \"could've\", 'went', 'into', 'a', 'goldmine', 'that', 'is', 'called', 'assault', 'squad', '2'], ['Honestly,', 'boring', 'a', 'hell', 'not', 'worth', 'the', 'money', 'a', 'reduced', 'shooter.'], ['The', 'only', 'game', 'on', 'the', 'steam', 'market', 'where', 'I', \"can't\", 'kill', 'a', 'person', 'standing', 'still.'], ['0/10', 'everything', 'is', 'russian,', 'blockpost', 'is', 'better.'], ['modders,', 'unstable', 'connections,', 'disconnecting', 'a', 'lot,', 'mission', 'bugs,', 'loading', 'times,', 'â™¥â™¥â™¥â™¥', 'community'], ['\"It', \"isn't\", 'easy', 'to', 'make', 'Focus', 'Trees\"', 'say', 'the', 'developer', 'demanding', '9.99', 'for', '4', 'focus', 'trees.', 'Meanwhile', 'in', 'the', 'community', 'workshop:', 'Almost', 'every', 'single', 'country', '(All', 'from', 'the', 'mod)', 'ha', 'a', 'balanced', 'focus', 'tree,', 'China,', 'PCR,', 'the', 'balkan', 'countries,', 'the', 'baltic,', 'the', 'northern', 'countries..'], ['Its', 'all', 'for', 'fun.', 'I', 'guess.', 'BUT', 'MY', 'WIFE', \"DON'T\", 'LIKE', 'IT!'], ['Completely', 'broken', 'game.', 'It', 'take', 'several', 'minute', 'to', 'get', 'past', 'intro', 'and', 'then', 'crash', 'when', 'you', 'try', 'to', 'change', 'resolution.'], ['Follow', 'the', 'step', 'below', 'to', 'permanently', 'remove/delete', '\"Voxelized\"', 'from', 'your', 'Steam', 'library.', 'Launch', 'Steam,', 'or', 'visit', 'Steam', 'support', 'site', 'and', 'log', 'in', 'with', 'your', 'account', 'information.', '1.', 'Click', 'â€œSteam', 'Supportâ€\\x9d', 'in', 'â€œHelpâ€\\x9d', 'after', 'launching', 'Steam.', '2.', 'Search', 'for', '\"Voxelized\",', 'the', 'game', 'that', 'you', 'want', 'to', 'remove', 'from', 'your', 'library.', '3.', 'After', 'finding', '\"Voxelized\",', 'simply', 'click', 'on', 'â€œI', 'want', 'to', 'permanently', 'remove', 'this', 'game', 'from', 'my', 'account.â€\\x9d', '4.', 'Select', 'â€œOk,', 'remove', 'the', 'listed', 'game', 'from', 'my', 'account', 'permanently.â€\\x9d', 'IT', 'IS', 'DONE.'], ['You', 'can', 'literally', 'play', 'a', 'a', 'fat', 'greedy', 'with', 'a', 'light', 'sabre.', \"What's\", 'not', 'to', 'love?', 'Everything', 'else', 'in', 'this', 'cencerous', 'game.', 'It', 'wasnt', 'a', 'bad', 'a', 'rogue', 'one', 'though...', 'Rogue', 'one', 'â™¥â™¥â™¥â™¥â™¥â™¥â™¥', 'sucket.', 'it', 'sucket', 'juicy', 'blue', 'wafles,', 'and', 'it', 'sucked', 'so', 'much', 'the', 'one', 'sucking', 'it', 'puked', 'and', 'turned', 'into', 'a', 'green', 'waffle.', 'I', \"don't\", 'like', 'waffle', 'anymore,', 'i', 'have', 'only', 'myself', 'to', 'blame.'], ['inititally', 'a', 'little', 'unnerving', 'but', 'literally', 'nothing', 'happened.', 'at', 'all.', 'not', 'fun,', 'interesting,', 'original', 'or', 'creative.', \"don't\", 'bother', 'playing', 'it']]\n"
     ]
    }
   ],
   "source": [
    "# GET REVIEWS AS LIST OF LISTS\n",
    "\n",
    "reviews_as_ll= [] # ll denoting the list of list data\n",
    "for text in reviews:\n",
    "    split_text= text.split()\n",
    "    ll_reviews.append(split_text)\n",
    "print(ll_reviews)\n",
    "\n",
    "# END PRODUCTS: ll_reviews"
   ]
  },
  {
   "cell_type": "code",
   "execution_count": null,
   "metadata": {},
   "outputs": [],
   "source": []
  }
 ],
 "metadata": {
  "kernelspec": {
   "display_name": "Python 3",
   "language": "python",
   "name": "python3"
  },
  "language_info": {
   "codemirror_mode": {
    "name": "ipython",
    "version": 3
   },
   "file_extension": ".py",
   "mimetype": "text/x-python",
   "name": "python",
   "nbconvert_exporter": "python",
   "pygments_lexer": "ipython3",
   "version": "3.9.1"
  }
 },
 "nbformat": 4,
 "nbformat_minor": 4
}
