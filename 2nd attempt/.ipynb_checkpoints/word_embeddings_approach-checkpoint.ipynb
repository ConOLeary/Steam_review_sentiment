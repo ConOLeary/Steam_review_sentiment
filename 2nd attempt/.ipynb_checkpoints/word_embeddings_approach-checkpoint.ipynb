{
 "cells": [
  {
   "cell_type": "code",
   "execution_count": 8,
   "metadata": {},
   "outputs": [],
   "source": [
    "import random\n",
    "import json_lines\n",
    "from langdetect import detect_langs\n",
    "import nltk\n",
    "from nltk.stem import WordNetLemmatizer\n",
    "import gensim\n",
    "from sklearn.model_selection import train_test_split\n",
    "\n",
    "LIMIT_INPUT_ROWS= 100\n",
    "MIN_ENGLISH= 0.0\n",
    "WNL = WordNetLemmatizer()\n",
    "ALL_TAGS= ['CC', 'CD', 'DT', 'EX', 'FW', 'IN', 'JJ', 'JJR', 'JJS', 'LS', 'MD', 'NN', 'NNS', 'NNP', 'NNPS', 'PDT',\n",
    " 'POS', 'PRP', 'PRP$', 'RB', 'RBR', 'RBS', 'RP', 'TO', 'UH', 'VB', 'VBD', 'VBG', 'VBN', 'VBP', 'VBZ', 'WDT', 'WP',\n",
    " 'WP$', 'WRB']\n",
    "ACCEPTABLE_TAGS= ['CC', 'CD', 'DT', 'EX', 'FW', 'IN', 'JJ', 'JJR', 'JJS', 'LS', 'MD', 'NN', 'NNS', 'NNP', 'NNPS', 'PDT',\n",
    " 'POS', 'PRP', 'PRP$', 'RB', 'RBR', 'RBS', 'RP', 'TO', 'UH', 'VB', 'VBD', 'VBG', 'VBN', 'VBP', 'VBZ', 'WDT', 'WP',\n",
    " 'WP$', 'WRB']\n",
    "MIN_WORD_OCCURRENCES= 5\n",
    "\n",
    "number_entries= 0\n",
    "with open ('reviews.json', 'rb') as f:\n",
    "    for item in json_lines.reader(f):\n",
    "        number_entries+= 1"
   ]
  },
  {
   "cell_type": "code",
   "execution_count": 2,
   "metadata": {},
   "outputs": [],
   "source": [
    "# READ IN INFO\n",
    "reviews= []; polarity= []; are_early= []\n",
    "included_indexs= []\n",
    "j= 0\n",
    "while j < LIMIT_INPUT_ROWS:\n",
    "    randint= random.randint(0, number_entries-1)\n",
    "    if not randint in included_indexs:\n",
    "        included_indexs.append(randint)\n",
    "        j+= 1\n",
    "    \n",
    "with open('reviews.json', 'rb') as f: # 5,000 entries in reviews.json\n",
    "    for counter, item in enumerate(json_lines.reader(f)):\n",
    "        if counter in included_indexs:\n",
    "            reviews.append(item['text'])\n",
    "            polarity.append(item['voted_up'])\n",
    "            are_early.append(item['early_access'])\n",
    "\n",
    "# END PRODUCTS: reviews, polarity, are_early"
   ]
  },
  {
   "cell_type": "code",
   "execution_count": 3,
   "metadata": {},
   "outputs": [],
   "source": [
    "# FILTER TEXT BY LANGUAGE\n",
    "\n",
    "filtered_reviews= []\n",
    "filtered_polarity= []\n",
    "filtered_are_early= []\n",
    "for i, text in enumerate(reviews):\n",
    "    try:\n",
    "        langs = detect_langs(text)\n",
    "    except:\n",
    "        pass\n",
    "    for lang in langs:\n",
    "        if str(lang)[0:2] == 'en':\n",
    "            if float(str(lang)[3:]) > MIN_ENGLISH:\n",
    "                filtered_reviews.append(reviews[i])\n",
    "                filtered_polarity.append(polarity[i])\n",
    "                filtered_are_early.append(are_early[i])\n",
    "reviews= filtered_reviews\n",
    "polarity= filtered_polarity\n",
    "are_early= filtered_are_early\n",
    "\n",
    "# END PRODUCTS: reviews, polarity, are_early"
   ]
  },
  {
   "cell_type": "code",
   "execution_count": 4,
   "metadata": {},
   "outputs": [],
   "source": [
    "# FILTER TEXT BY WORD TYPE\n",
    "\n",
    "#print(reviews)\n",
    "filtered_reviews= []\n",
    "for i, text in enumerate(reviews):\n",
    "    #print(\"-------------------------------------\")\n",
    "    new_text= []\n",
    "    split_text= text.split()\n",
    "    tags= nltk.pos_tag(split_text)\n",
    "    #print(tags)\n",
    "    #print(\"#############\")\n",
    "    lemd_split_text= []\n",
    "    for word in split_text:\n",
    "        lemd_split_text.append(WNL.lemmatize(word))\n",
    "    tags= nltk.pos_tag(lemd_split_text)\n",
    "    #print(tags)\n",
    "    for j, word in enumerate(lemd_split_text):\n",
    "        if tags[j][1] in ACCEPTABLE_TAGS:\n",
    "            new_text.append(word)\n",
    "    filtered_reviews.append(new_text)\n",
    "reviews= [' '.join([str(elem) for elem in sublist]) for sublist in filtered_reviews]\n",
    "#print(reviews)\n",
    "\n",
    "# END PRODUCTS: reviews, polarity, are_early"
   ]
  },
  {
   "cell_type": "code",
   "execution_count": 5,
   "metadata": {},
   "outputs": [
    {
     "name": "stdout",
     "output_type": "stream",
     "text": [
      "[['Kinda', 'decent', 'f2p', 'mmorpg', 'that', 'ha', 'no', 'class', 'limitations(hooray!)(and', 'that', 'game', 'where', 'i', 'drained', 'too', 'much', 'hours...)', 'Community:', 'In', 'PvE,', 'you', 'may', 'encounter', 'friendly', 'ppl(i', 'managed', 'to', 'even', 'encounter', 'person', 'that', 'i', 'love', ':o),', 'while', 'in', 'PvP', 'mostly', 'complainers(those', 'who', 'complain', 'about', 'AT&T', 'releasing', 'too', 'much', 'of', '1st', 'in', 'battle', 'xD)', 'or', 'person', 'that', 'make', 'you', 'turn', 'into', 'complainer.(As', 'always!)', 'Main', 'review', 'part:', 'Graphics:', 'Everything', 'look', 'kinda', 'pretty,', 'but', 'performance', 'is', 'not', 'what', 'expected', 'for', 'java', 'and', 'openGL...(8/10)', 'Gameplay:', 'SK', 'feature', 'huge', 'choice', 'of', 'equipment,', 'which', 'add', 'variety', 'to', 'the', 'gear', 'and', 'gameplay', 'itself(like', 'you', 'can', 'use', 'guns,', 'or', 'bombs,', 'or', 'swords..', 'or', '2', 'of', 'those...', 'or', 'all', '3', 'xD)', 'But', 'because', 'this', 'game', 'feature', 'grinding', 'in', 'big', 'quantity', 'you', 'may', 'get', 'bored(or', 'may', 'not', 'if', 'you', 'do', 'co-op', 'with', 'your', 'friend(s))(8/10)', 'Controls:', 'In', 'order', 'to', 'rekt', 'm8s', 'you', 'need', 'to', 'change', 'much(like', 'binding', 'weps', 'to', 'keys)(8/10)', 'Setting:', 'Kinda', 'variable', 'even', 'if', 'it', 'supposed', 'to', 'be', 'under', 'ground.(10/10)', 'Story:', \"It's\", 'kinda', 'interesting', 'but', 'begin', 'to', 'be', 'rly', 'interesting', 'only', 'when', 'OOO', 'decides', 'to', 'release', 'new', 'mission', 'xD(like', 'those', 'new', 'level', 'featuring', 'herex', \"'n\", 'stuff)(8/10)', 'Late', 'game', 'playability:', 'This', 'game', 'feature', 'much', 'equipment/accessories/stuff', 'that', 'will', 'make', 'you', 'grind', 'it', 'to', 'get', 'it.', 'Also', 'getting', 'last', 'prestige', 'badge', 'which', 'can', 'take', 'up', 'to', '5', 'months.(7/10)', 'Overall', 'rating:', 'This', 'game', 'can', 'be', 'very', 'good', 'if', 'you', 'have', 'friend', 'and', \"you're\", 'patient,', 'but', 'if', 'not', 'then', \"it's\", 'not', 'for', 'ya...', 'anyway', 'this', 'game', \"doesn't\", 'cost', 'a', 'penny,', 'so', 'better', 'try', 'it', 'out!', 'Rank:', 'A', '(8,2/10)', 'P.S.', 'review', 'got', 'updated', 'at', '30.10.15', 'and', \"game's\", 'rank', 'reduced.'], ['Things', 'get', 'broken,', 'then', 'fixed,', 'over', 'an', 'over,', 'but', 'it', 'still', 'keep', 'the', 'game', 'fresh', 'and', 'fun.', 'Dont', 'get', 'attactched', 'to', 'your', 'loot.'], ['Erotikpuzzle', 'von', '2020.', 'Es', 'handelt', 'sich', 'um', 'ein', 'echtes', 'Puzzle.', '40', 'Lvl', 'erwarten', 'dich,', 'von', 'einfach', 'bi', 'etwas', 'schwer.', 'Kommst', 'du', 'nicht', 'weiter?', 'drÃ¼cke', '\"H\".', 'Von', 'den', 'Zeichnungen', 'her', 'sind', 'e', 'selten', 'schÃ¶ne', 'Girls,', 'die', 'sich', 'fÃ¼r', 'dich', 'ausziehen,', 'bi', 'sie', 'Blank', 'sind.', 'Sehr', 'gut', 'gezeichnet', 'und', 'nach', 'koloriert.', 'Auch', 'die', 'Autos', 'sind', 'cool.', 'Ganz', 'klare', 'Empfehlung', 'fÃ¼r', 'diesis', 'Puzzle.', 'Meine', 'Gruppe', 'und', 'mein', 'Archiv', 'mit', 'Ã¼ber', '1.600', 'Reviews', 'hier:', 'ðŸ‘‘', 'Powered', 'by', 'HoI', '4', 'Deu', 'Kuratorengruppe', 'auf', 'deutsch/englisch', 'ðŸ‘‘', 'â', '€â', '€â', '€ðŸŽ‰', 'und', 'mehr', 'Reviews', 'von', 'mir', 'entdecken', 'ðŸŽŠ', 'Erotic', 'puzzle', 'from', '2020.', 'It', 'is', 'a', 'real', 'puzzle.', '40', 'Lvl', 'await', 'you,', 'from', 'easy', 'to', 'somewhat', 'difficult.', 'Are', 'you', 'stuck', 'press', '\"H\".', 'From', 'the', 'drawings,', 'there', 'are', 'seldom', 'beautiful', 'girl', 'who', 'undress', 'for', 'you', 'until', \"they're\", 'blank.', 'Very', 'well', 'drawn', 'and', 'colored.', 'The', 'car', 'are', 'cool', 'too.', 'Very', 'clear', 'recommendation', 'for', 'this', 'puzzle.', 'My', 'group', 'and', 'my', 'archive', 'with', 'over', '1,600', 'review', 'here:', 'ðŸ‘‘', 'Powered', 'by', 'HoI', '4', 'Deu', 'Curators', 'group', 'in', 'German', '/', 'English', 'ðŸ‘‘', 'â', '€â', '€â', '€ðŸŽ‰', 'and', 'discover', 'more', 'review', 'from', 'me', 'ðŸŽŠ'], ['Another', 'incredibly', 'fun', 'FPS.', 'Fast', 'and', 'tense', 'action.', 'Enemies', 'shed', 'flesh', 'now', 'a', 'you', 'lower', 'their', 'health,', 'environment', 'are', 'spectacular', 'throughout,', 'even', 'breath', 'taking', 'towards', 'later', 'levels.', 'The', 'jump', 'puzzle', 'are', 'fun', 'and', 'do', 'well', 'to', 'break', 'up', 'the', 'combat', 'encounters.', 'Extremely', 'violent,', 'I', 'winced', 'at', 'some', 'of', 'the', 'new', 'glory', 'kill', 'animations.', 'With', 'that', 'said,', 'there', 'is', 'a', 'speed-bump', 'here.', 'Upon', 'playing', 'for', 'the', 'first', 'time,', 'I', 'found', 'myself', 'struggling', 'a', 'I', 'wa', 'gravitating', 'to', 'how', 'I', 'played', 'the', 'previous', 'Doom', 'game,', 'pretty', 'much', 'shoot', 'with', 'your', 'available', 'favourite', 'gun,', 'glory', 'kill', 'when', 'you', 'can', 'and', 'stay', 'on', 'the', 'move.', 'Only', 'keeping', 'in', 'mind', 'simple', 'strategic', 'thought', 'such', 'a', 'save', 'the', 'rocket', 'launcher', 'for', 'the', 'big', 'guys.', 'This', 'time', 'around,', 'glory', 'kill', 'give', 'you', 'extra', 'health,', 'setting', 'enemy', 'on', 'fire', 'with', 'the', 'flamethrower', 'give', 'armour,', 'and', 'the', 'chainsaw', 'give', 'ammo', 'for', 'all', 'your', 'weapons,', 'enough', 'to', 'fill', 'them', 'to', 'almost', 'half', 'capacity', 'if', 'they', 'were', 'empty.', 'Enemies', 'have', 'weapon', 'that', 'you', 'can', 'shoot', 'off,', 'and', 'for', 'the', 'cacodemon', '(flying', 'enemy)', 'shooting', 'a', 'grenade', 'or', 'sticky', 'bomb', 'in', 'it', 'mouth', 'will', 'stagger', 'it', '(allow', 'you', 'to', 'glory', 'kill', 'it).', 'Glory', 'killing', 'charge', 'up', 'a', \"'Blood\", \"Punch'\", 'which', 'is', 'a', 'super', 'melee', 'attack', 'which', 'can', 'take', 'out', 'multiple', 'small', 'enemies,', 'and', 'can', 'help', 'you', 'knock', 'off', 'the', 'armour', 'of', 'a', 'specific', 'big', 'enemy.', 'You', 'now', 'have', 'a', 'double', 'jump', 'and', 'double', 'dash', 'which', 'requires', 'frequent', 'use', 'in', 'and', 'out', 'of', 'combat.', 'Without', 'going', 'in', 'depth', 'on', 'each', 'and', 'every', 'weapon', 'and', 'enemy,', 'basically', 'there', 'is', 'another', 'layer', 'of', 'thought', 'the', 'gameplay', 'demand', 'from', 'you', 'this', 'time', 'around.', 'Personally', 'it', 'took', 'some', 'getting', 'used', 'to,', 'over', 'quite', 'a', 'bit', 'of', 'time,', 'but', 'it', 'wa', 'worth', 'it.', 'By', 'about', 'the', 'middle', 'of', 'the', 'game', 'managing', 'my', 'resource', 'became', 'second', 'nature', 'and', 'in', 'the', 'level', 'leading', 'up', 'to', 'the', 'BFG-10000,', 'this', 'song', 'came', 'on', 'at', 'the', 'beginning', 'of', 'an', 'encounter.', 'It', 'wa', 'at', 'that', 'point', 'I', 'wa', 'thankful', 'for', 'the', 'gameplay', 'tweak', 'from', 'the', 'previous', 'game.', 'Mowing', 'enemy', 'down', 'to', 'such', 'a', 'fitting', 'soundtrack', 'is', 'even', 'more', 'exhilarating', 'when', \"you're\", 'not', 'allowed', 'to', 'make', 'thing', 'repetitive.', 'The', 'previous', 'game,', 'a', 'good', 'a', 'it', 'was,', 'did', 'get', 'repetitive', 'by', 'the', 'end', 'but', 'that', \"doesn't\", 'happen', 'here.', 'Using', 'mission', 'select', 'to', 'get', 'the', 'collectable', 'I', 'missed', 'is', 'a', 'blast,', 'and', 'feel', 'kind', 'of', 'new', 'now', 'that', 'I', 'have', 'most', 'of', 'the', 'upgrades,', 'so', 'there', 'is', 'still', 'a', 'lot', 'of', 'replayability', 'for', 'me', 'yet.', 'Multiplayer', 'is', 'OK,', '3', 'player', 'matches,', 'one', 'play', 'the', 'slayer,', 'the', 'other', '2', 'play', 'a', 'big', 'demon', 'each.', \"It's\", 'not', 'a', 'fun', 'a', 'the', 'death', 'match', 'and', 'soccer', 'mode', 'of', 'the', 'previous', \"games'\", 'multiplayer,', 'but', 'it', \"doesn't\", 'really', 'matter', 'for', 'me', 'a', 'the', 'campaign', 'is', 'phenomenal.'], ['Great', 'game'], ['Very', 'good', 'game,', 'I', 'remember', 'playing', 'this', 'in', '2010', 'and', 'had', 'lot', 'of', 'fun', 'in', 'those', 'days.', 'But', 'it', 'currently', 'need', 'some', 'work', 'from', 'devs', 'to', 'fix', 'a', 'lot', 'of', 'issue', 'in', 'this', 'new', 'version', 'of', 'Zone', '4.', 'I', 'will', 'name', 'some', 'of', 'the', 'problem', 'for', 'now', 'that', 'urgently', 'need', 'fixes:', 'server', 'instability;', 'input', 'delay;', 'lag', 'spikes;', 'glitch', 'like', 'infinite', 'combo', 'from', 'some', 'class', 'like', 'Boxing', 'and', 'Taekwondo;', 'rebalance', 'the', 'range,', 'speed', 'and', 'number', 'of', 'hit', 'of', 'some', 'skill', 'from', 'class', 'like', 'Boxing,', 'Taekwondo', 'and', 'Hapkido,', 'because', 'it', 'break', 'the', 'fairness', 'in', 'a', 'clean', 'PvP', 'fight;', 'PvP', 'channel', 'is', 'dead,', 'because', \"there's\", 'no', 'incentive(better', 'prizes)', 'to', 'play', 'it.', 'For', 'now', 'I', 'will', 'only', 'put', 'these', 'a', 'priorities.', 'Later', 'when', 'the', 'update', 'brings', 'fix', 'I', 'will', 'update', 'my', 'review.'], ['Cyka', 'blyat,', 'this', 'is', 'russian', 'simulator', '2k16'], [\"I't\", 'a', 'must', 'have', 'free', 'tool', 'for', 'vr', 'fitness', 'games.'], ['This', 'is', 'one', 'of', 'the', 'best', 'game', 'of', 'all', 'time'], ['First', 'of', 'all,', 'let', 'me', 'confess', 'that', 'I', 'absolutely', 'adore', 'birds.', 'So', \"it's\", 'needle', 'to', 'say', 'that', 'this', 'game', 'ha', 'caught', 'my', 'eye.', 'But', 'I', 'had', 'no', 'clue', 'that', 'the', 'story', 'that', 'unveals', 'behind', 'this', 'glorious', 'art', 'accompanied', 'by', 'beautiful', 'classical', 'tune', 'would', 'be', 'that', 'good.', 'What', 'started', 'a', 'a', 'nice', 'investigative/courthouse', 'adventure', 'evolved', 'in', 'a', 'full', 'on', 'political', 'drama,', 'with', 'masterfully', 'fleshed-out', 'evolving', 'character', 'which', 'you', 'come', 'to', 'love.', 'Surprisingly', 'solid', 'and', 'humorous', 'writing', 'make', 'this', 'one', 'of', 'the', 'best', 'game', \"I've\", 'played', 'in', 'years.', 'Might', 'be', 'the', 'best', 'bird-themed', 'game', 'out', 'there', '(yes,', 'considerably', 'better', 'than', 'Hatoful', 'Boyfriend).'], ['Really', 'love', 'the', 'game.', 'The', 'enemy', 'and', 'your', 'dodge', 'are', 'so', 'on', 'point.', 'Combat', 'is', 'really', 'fun.', 'A', 'lot', 'of', 'weapon', 'to', 'find', 'in', 'the', 'world', 'and', 'get', 'from', 'boss', 'from', 'the', 'crafting', 'item', 'they', 'drop.', 'Huge', 'amount', 'of', 'trait', 'to', 'customize', 'your', 'character.', 'Lots', 'of', 'active', 'skill', 'to', 'slot', 'into', 'your', 'weapons.', 'A', 'fun', 'game', 'overall.', 'Looking', 'forward', 'to', 'see', 'if', 'they', 'add', 'something', 'else', 'to', 'the', 'game', 'after', 'a', 'while.', 'Like', 'new', 'area', 'and', 'gear.', 'Possibly', 'new', 'skill', 'and', 'trait', 'a', 'well', 'a', 'new', 'game', 'modes.'], ['This', 'game', 'is', 'fantastic,', 'but', 'a', 'bit', 'too', 'expensive', 'at', 'full', 'price.', 'Wait', 'for', 'discount', 'and', 'then', 'buy', 'it.', 'I', 'really', 'recommend', 'it!'], ['Is', 'nice', 'man', ':^)', '(Intercontinental', 'server', 'are', 'pretty', 'bad', 'though,you', 'know', 'what', 'to', 'do.)'], ['What', 'a', 'bunch', 'of', 'entitled', 'crybabies.', 'Bad', 'korean', 'translation?', 'So', 'what?', 'Is', 'your', '\"thumbs', 'down\"', 'justified?', 'Of', 'course', 'not.', \"It's\", 'like', 'not', 'getting', 'a', 'PHD', 'because', 'you', 'made', 'a', 'couple', 'spelling', 'mistakes.', 'I', 'am', 'ashamed', 'that', 'this', 'game', 'had', 'such', 'a', 'toxic', 'korean', 'fanbase.', 'Not', 'only', 'korean', 'jumped', 'on', 'this', 'bangwagon.', 'This', 'game', 'is', 'one', 'of', 'the', 'best', \"I've\", 'played', 'IN', 'YEARS,', 'and', 'many', 'of', 'you', 'say', 'the', 'same.', 'So', 'why', 'the', 'thumb', 'down?', 'You', 'want', 'developer', 'to', 'change', 'translation', 'by', 'lowering', 'rating', 'below', '50%', 'DURING', 'A', 'SUMMBER', 'SALE?', 'This', 'is', 'one', 'of', 'the', 'biggest', 'opportunity', 'for', 'them', 'to', 'earn', 'money', 'to', 'continue', 'development!', 'And', 'their', 'game', 'is', 'no', 'longer', 'being', 'recomended', 'because', 'of', 'it', 'rating!', 'You', 'can', 'ignore', 'them,', 'you', 'can', 'boycott', 'them,', 'but', 'changing', 'your', 'review', 'like', 'that', 'is', 'such', 'a', 'bowel', 'movement', 'I', 'would', 'totally', 'spit', 'in', 'your', 'face', 'if', 'I', 'met', 'you', 'in', 'person.'], ['Very', 'good', 'game', '10/10', 'would', 'reccommend', '(best', 'on', 'low', 'gravity', 'to', 'troll)'], ['Let', 'me', 'start', 'off', 'with', 'saying', 'this', 'game', 'is', 'not', 'taken', 'lightly', 'on', 'pc', 'specs;', \"You're\", 'going', 'to', 'need', 'some', 'beefy', 'hardwear', 'to', 'run', 'this', 'game', 'at', 'a', 'stable', '60+', 'fps.', 'But', 'besides', 'the', 'poor', 'optimisation,', 'this', 'game', 'is', 'beautiful', 'looking,', 'the', 'game', 'is', 'hard', 'to', 'play', 'solo', 'but', 'once', 'you', 'get', 'a', 'few', 'friend', 'or', 'even', 'one', 'friend', 'and', 'you', 'guy', 'start', 'a', 'trive,', \"you'll\", 'start', 'to', 'gain', 'more', 'power', 'and', 'strength', 'through', 'your', 'upgrades,', 'plus', 'the', 'upgrade', \"you'll\", 'get', 'in', 'tool', 'and', 'buildings.', 'Also', 'who', \"doesn't\", 'want', 'to', 'ride', 'dinosaurs?', 'Rate:', '8.5/10'], ['pretty', 'good'], ['You', 'like', 'MMOs?', 'You', 'like', 'RPGs?', 'You', 'like', 'MMORPGs?', 'You', 'like', 'a', 'cheap', 'game?', 'You', 'want', 'to', 'play', 'with', 'friends?', 'You', 'want', 'to', 'have', 'a', 'lot', 'of', 'thing', 'to', 'do?', 'Buy', 'this', 'game...'], ['Absolutely', 'fantastic', 'Tycoon', 'game!', 'A', 'definite', 'must', 'have,', 'but', 'where-o-where', 'is', 'the', 'expansion/sequel/DLC?!', 'I', 'must', 'have', 'more!'], ['Satisfying', 'to', 'kill', 'other', 'hunter'], ['TL:DR', 'Toxic', 'sometimes,', 'fun', 'other', 'times.', \"You'll\", 'get', 'demolished', 'if', \"you're\", 'not', 'good', 'at', \"FPS',\", 'like', 'seriously', 'â™¥â™¥â™¥â™¥â™¥â™¥.', \"Don't\", 'spend', 'irl', 'money', 'on', 'operators,', 'use', 'ingame', 'currency.'], ['\"A', 'thick', 'atmosphere', 'that', 'will', 'make', 'you', 'feel', 'on-edge', 'throughout', 'the', 'whole', 'game.\"', 'So', 'true,', 'after', 'countless', 'jump', 'scare', 'and', 'nearly', 'one', 'heart', 'attack(not', 'exaggerating!)', 'I', 'had', 'to', 'stop', 'playing(for', 'now),', 'because', 'that', 'constant', 'atmosphere', 'of', 'terror', 'and', 'insanity', 'gave', 'me', 'a', 'headache.', '+Very', 'realistic', '+great', 'physic', '+mind', 'game', '+jump', 'scares!', '+soundtrack', '+truly', 'terrifying', '+you', 'never', 'know', 'what', 'to', 'expect', 'next', '-Cant', 'think', 'of', 'any,', 'except', 'that', 'it', 'VERY', 'scary', 'and', 'unsettling', 'Awesome', 'horror', 'game,', 'Cant', 'remember', 'what', 'game', 'scared', 'me', 'so', 'much', 'since', 'F.E.A.R.', 'It', 'is', 'a', 'pleasant', 'surprise', 'in', 'horror', 'genre,', 'and', 'it', 'is', 'not', 'even', 'complete!'], ['If', 'you', 'love', 'raging,', 'this', 'is', 'possibly', 'the', 'best', 'game', 'for', 'you.'], [\"Don't\", 'waste', 'your', 'time.'], [], ['Do', 'not', 'buy', 'this', 'game.', 'This', 'game', 'is', 'still', 'clearly', 'in', 'pre-alpha.', 'Periscope', 'Games', 'have', 'no', 'knowledge', 'of', 'how', 'gun', 'work', 'aside', 'from', 'the', 'look', 'and', 'sound.', 'You', 'will', 'be', 'laying', 'down', 'shooting', 'and', 'looking', 'like', 'a', 'spastic;', 'in', 'reality,', 'the', 'gun', 'is', 'swaying', 'all', 'over', 'the', 'place.', 'Movement', 'is', 'sticky.', 'You', 'will', 'feel', 'a', 'if', 'you', 'are', 'carrying', 'a', 'boulder', 'on', 'your', 'back.', 'Vehicles', 'still', 'cannot', 'drive', 'through', 'fence', 'unless', 'you', 'are', 'going', 'Mach', '5.', 'Spawns', 'are', 'as', 'backwards.', 'The', 'enemy', 'spawn', 'closer', 'to', 'objective', 'than', 'you', 'do.', 'For', 'the', 'first', 'time', 'in', 'your', 'life,', 'trust', 'a', 'Jew.', 'This', 'game', 'is', 'not', 'worth', 'the', '$30', \"you'd\", 'be', 'paying', 'for', 'it.'], ['Ð¤Ð¸Ð³Ð½Ñ\\x8f('], ['Feels', 'like', 'a', 'classic', 'Blizzard', 'launch.', 'I', 'have', 'lagged', 'out', 'randomly', 'and', 'it', 'keep', 'saying', 'to', 'check', 'my', 'hardware', 'etc.', 'etc.', 'Seeing', 'a', 'how', 'only', '37%', 'of', 'my', 'CPU', 'and', '46%', 'of', 'my', 'memory', 'is', 'being', 'used', 'I', 'am', 'not', 'seeing', 'an', 'issue', 'at', 'all.', 'On', 'top', 'of', 'that', 'no', 'matter', 'the', 'graphic', 'setting', 'I', 'have', 'it', 'on', 'be', 'it', 'max', 'or', 'lowest,', 'I', 'still', 'lag', 'out.', 'So', 'best', 'possible', 'answer', 'is', 'that', 'you', 'were', 'not', 'prepared', 'for', 'launch.', 'Now', 'mid', 'strike', 'I', 'got', 'crashed', 'with', 'the', 'following', 'error:', '\"Problem', 'reading', 'game', 'content.', 'Please', 'close', 'Destiny', '2,', 'right', 'click', 'on', 'Destiny', '2', 'in', 'the', 'Steam', 'app', 'to', 'run', \"'VERIFY\", 'INTEGRITY', 'OF', 'GAME', \"FILES...'\", 'in', \"'properties'.\", 'Then', 'restart', 'Destiny', '2', 'to', 'try', 'again.\"', 'After', 'doing', 'this,', 'everything', 'wa', '100%', 'fine,', 'but', 'still', 'get', 'the', 'same', 'error', 'and', 'even', 'others', 'that', 'make', 'absolutely', 'no', 'sense.', 'Fix', 'your', 'stuff', 'before', 'launching', 'it', 'or', 'at', 'least', 'make', 'it', 'capable', 'of', 'handling', 'people.', 'Edit:', 'Finally', 'fixed', 'it', 'a', 'couple', 'day', 'ago.', 'The', 'game', 'wa', 'refusing', 'to', 'detect', 'my', 'VRAM', 'properly.', 'Took', 'A', 'LOT', 'of', 'work', 'for', 'it', 'to', 'function', 'properly.', 'A', 'lot', 'more', 'than', 'it', 'should', 'have', 'which', 'is', 'why', 'I', 'still', 'mark', 'this', 'a', 'a', 'No', 'on', 'recommendation.'], ['Nice,', 'You', 'finally', 'managed', 'to', 'kill', 'csgo,', 'RIP', 'it', 'been', 'a', 'long', 'journey!'], ['Honestly,', 'boring', 'a', 'hell', 'not', 'worth', 'the', 'money', 'a', 'reduced', 'shooter.'], ['Remove', 'team', 'match', 'or', 'put', 'them', 'in', 'their', 'own', 'category.', 'You', \"shouldn't\", 'rely', 'on', 'xx', 'number', 'of', 'people', 'to', 'get', 'you', 'to', 'pas', 'and', 'they', 'could', 'troll', 'you.', 'If', \"you're\", 'wanting', 'the', '5', 'game', 'in', 'a', 'row', 'achievement', 'then', 'good', 'luck', 'a', \"you're\", 'at', 'your', 'team', 'mercy', 'for', 'it.', \"I've\", 'lost', 'every', 'game', 'because', 'team', 'matches.', 'Feelsbeanedman.'], [\"I've\", 'been', 'playing', 'this', 'game', 'since', 'the', 'day', 'it', 'came', 'out.', 'It', 'wa', 'supposed', 'to', 'be', 'a', 'remaster', 'of', 'Contract', 'Wars,', \"Absolutsoft's\", 'browser', 'fps.', 'And', 'it', 'wa', 'just', 'that,', 'for', 'a', 'while', 'A', 'balanced', 'and', 'fun', 'shooter', 'with', 'a', 'le', 'arcadey', 'feel', 'than', 'most', 'other', 'fps', 'game', 'that', \"I've\", 'played.', 'However,', 'the', 'game', 'wa', 'super', 'buggy,', 'and', 'it', 'died', 'quickly', 'since', 'it', 'wa', 'a', 'paid', 'game,', 'while', 'Contract', 'Wars', 'wa', 'f2p.', 'Fast', 'forward', '3', 'years,', 'and', 'the', 'game', 'ha', 'been', '\"\"remade\"\"', 'several', 'times,', 'each', 'straying', 'further', 'and', 'further', 'from', 'what', 'made', 'Contract', 'Wars', 'so', 'great.', 'Now,', 'we', 'have', 'a', 'generic,', 'buggy,', 'and', 'unbalanced', 'game', 'that', 'is', 'now', 'arcadey', 'in', 'all', 'the', 'wrong', 'places,', 'while', 'still', 'retaining', 'feature', 'that', \"shouldn't\", 'be', 'in', 'an', 'arcade', 'fps.', 'This', 'game', 'might', 'be', 'fun', 'for', 'a', 'dozen', 'hours,', 'but', 'a', 'a', 'veteran', 'who', 'only', 'ha', 'access', 'to', 'high', 'level', 'servers,', 'the', 'game', 'is', 'overriden', 'by', 'people', 'who', 'abuse', 'OP', 'weapon', 'and', 'attachments,', 'and', 'know', 'exactly', 'where', 'to', 'camp', 'on', 'every', 'level,', 'so', 'that', 'the', 'conquest', 'game', 'mode', 'is', 'unwinnable', 'for', 'one', 'of', 'the', 'teams.', 'If', 'you', 'live', 'in', 'North', 'America,', 'have', 'fun', 'playing', 'on', '200', 'ping', 'server', 'a', 'you', 'get', 'sniped', 'from', 'behind', 'walls.', '4/10.', 'ps,', \"they've\", 'been', 'ignoring', 'the', 'feedback', 'from', 'non', 'russians,', 'such', 'a', 'myself,', 'although', 'me', 'and', 'a', 'few', 'other', 'people', 'have', 'put', 'in', '300+', 'hour', 'and', 'know', 'what', 'this', 'game', 'need', 'more', 'than', 'most', 'of', 'the', 'other', 'players.'], ['I', 'said', 'Not', 'Recommend,', 'but', 'this', 'game', 'ha', 'quite', 'a', 'bit', 'of', 'potential.', 'On', 'first', 'experience,', 'the', 'mechanic', 'are', 'there', 'to', 'make', 'this', 'a', 'good', 'game.', 'However,', 'the', 'game', 'feel', 'extremely', 'clunky', 'and', 'tacky.', 'Especially', 'the', 'movement.', 'Getting', 'stuck', 'on', 'object', 'that', 'you', 'really', \"shouldn't\", 'ha', 'been', 'a', 'massive', 'problem', 'for', 'me.', 'The', 'gun', 'sway,', 'while', 'I', 'respect', 'what', \"they're\", 'trying', 'to', 'do,', 'quite', 'a', 'lot', 'of', 'the', 'time,', 'make', 'the', 'gun', 'play', 'feel', 'disgusting,', 'and', 'sometimes', 'make', 'it', 'downright', 'unplayable.', 'Leaning', 'mechanic', 'is', 'also', 'quite', 'tacky.', 'The', 'map', 'design', 'make', 'it', 'so', 'that,', 'a', 'lot', 'of', 'the', 'time,', \"you'll\", 'get', 'shot', 'from', 'a', 'lot', 'of', 'angles,', 'with', 'no', 'idea', 'where', 'the', 'player', 'have', 'come', 'from,', 'only', 'to', 'find', 'out', 'that', \"they're\", 'camping.', 'The', 'gameplay,', 'I', 'feel,', 'relies', 'a', 'lot', 'on', 'camping.', 'From', 'short', 'time', 'playing', 'this', 'game,', 'I', 'can', 'say', 'that', \"you'll\", 'encounter', 'A', 'â™¥â™¥â™¥â™¥', 'TON', 'of', 'annoying,', 'tacky', 'gameplay', 'mechanic', 'that', 'feel', 'extremely', 'unfinished.', 'But', 'hey,', 'this', 'is', 'an', 'Early', 'Access', 'game,', 'so', 'I', 'expect', 'that', 'the', 'tacky', 'gameplay', 'will', 'be', 'fixed', 'up', 'in', 'the', 'future.', 'But', 'right', 'now,', 'if', \"you're\", 'like', 'me,', 'you', 'probably', 'wont', 'have', 'an', 'enjoyable', 'time', 'playing', 'this', 'game.'], ['i', 'lowered', 'the', 'screen', 'resolution', 'to', 'a', 'really', 'low', 'resolution', 'and', 'i', 'cant', 'turn', 'it', 'back', 'because', 'it', 'too', 'BIG', 'please', 'fix', 'it'], ['you', 'need', 'to', 'buy', 'the', 'dlc', 'to', 'play', 'this', 'game', 'basically'], [\"I've\", 'only', 'been', 'able', 'to', 'play', 'for', 'about', 'an', 'hour', 'thanks', 'to', 'several', 'things:', '-This', 'game', 'is', 'EXTREMELY', 'ANTI-NEW', 'PLAYERS.', 'I', 'wa', 'spawnkilled', 'over', '10', 'time', 'by', 'different', 'people', 'while', 'trying', 'to', 'figure', 'out', 'the', 'controls.', 'I', 'also', 'asked', 'in', 'the', 'chat', 'if', 'anyone', 'knew', 'how', 'to', 'get', 'oxygen', 'in', 'the', 'chat,', 'and', 'wa', 'just', 'told', 'do', 'shut', 'up.', 'Got', 'called', 'some', 'pretty', 'epic', 'insult', 'when', 'I', 'said', 'to', 'my', 'pteranodon', 'group', 'that', 'I', \"didn't\", 'know', 'how', 'to', 'hunt', 'fish.', 'Even', 'the', 'admins', \"don't\", 'want', 'to', 'help', 'people,', 'and', 'I', 'know', 'that', 'they', 'have', 'a', 'bad', 'reputation', 'for', 'favouritism', 'and', 'banning', 'people', 'they', \"don't\", 'like.', 'Obviously', \"that's\", 'not', 'the', \"game's\", 'fault,', \"I'm\", 'just', 'saying', 'that', 'if', 'you', 'want', 'a', 'warm,', 'welcoming', 'community', 'in', 'a', 'game,', 'this', 'game', 'is', 'definitely', 'not', 'for', 'The', 'graphics...', 'I', 'know', 'people', 'make', 'it', 'sound', 'worse', 'than', 'it', 'is', 'when', 'it', 'come', 'to', 'how', 'bad', 'this', \"game's\", 'graphic', 'are,', 'so', \"I'll\", 'give', 'my', 'honest', 'opinion:', 'The', 'graphic', 'in', 'this', 'game', 'remind', 'me', 'of', 'one', 'of', 'those', 'free', 'online', 'mobile', 'dinosaur', 'game', 'you', 'find', 'out', 'of', 'pure', 'boredom.', 'This', 'game', 'cannot', 'compete', 'with', 'graphic', 'from', 'game', 'such', 'a', 'The', 'Isle,', 'and', 'I', 'know', 'I', \"shouldn't\", 'compare', 'them,', 'but', 'I', 'really', \"don't\", 'understand', 'why', 'you', 'would', 'play', 'this', 'if', 'you', 'own', 'The', 'Isle.', '-Features,', 'though,', 'are', 'different', 'from', 'game', 'like', 'The', 'Isle.', 'In', 'Beasts', 'of', 'Bermuda,', 'there', 'are', 'function', 'such', 'a', 'grabbing', 'food', 'and', 'offspring,', 'which', 'I', 'like.', 'The', 'game', \"isn't\", 'terrible,', 'just...', 'very...', 'hard', 'to', 'enjoy.', 'It', 'feel', 'like', 'a', 'massive', 'downgrade', 'from', 'The', 'Isle.', 'But', 'yeah,', 'it', 'ha', 'some', 'really', 'nice', 'features,', 'like', 'the', 'completely', 'customisable', 'skins,', 'the', 'obeseity', 'thing', 'is', 'quite', 'funny', 'at', 'first,', 'and', 'like', 'I', 'said,', 'and', 'the', 'nesting', 'system', 'is', 'quite', 'nice.', 'I', \"wouldn't\", 'reccommend', 'the', 'game', 'if:', '-You', \"can't\", 'pick', 'up', 'a', 'game', 'in', 'literally', '30', 'second', 'or', 'die', \"-You're\", 'looking', 'for', 'a', 'game', 'with', 'a', 'friendly', 'community', 'and', 'fair,', 'helpful', 'admins', '-You', 'dislike', 'the', 'game', 'you', 'payed', 'Â£10-Â£15', 'for', 'looking', 'like', 'a', 'free', 'mobile', 'game', 'Thanks', 'for', 'reading', ':D'], ['Torch', 'Cave', 'is', 'a', 'good', 'example', 'how', 'platform', 'game', 'should', 'NOT', 'be.', 'You', 'can', 'get', '382', 'achievement', 'in', 'le', 'than', '5', 'minutes.', 'Just', 'spam', 'your', 'spacebar', 'for', '382', 'time', 'and', 'congratulations,', 'you', 'already', 'collected', 'all', 'achievements.', \"There's\", 'no', 'point', 'on', 'playing', 'this', 'game', 'when', 'you', 'want', 'to', 'get', 'all', 'of', 'the', 'achievements.'], ['A', 'great', 'game', 'let', 'down', 'by', 'function', 'and', 'performance', 'issues....', 'The', 'game', 'started', 'off', 'amazing', 'but', 'then', 'it', 'started', 'giving', 'me', 'errors,', 'uninstall', 'prompt', 'and', 'randomly', 'deciding', 'not', 'to', 'support', '21:9', 'so', 'I', 'guess', 'most', 'all', 'player', 'with', 'ultrawide', 'monitor', 'are', 'nonexistant', 'except', 'those', 'who', 'can', 'accept', 'their', 'game', 'running', 'at', '16:9', 'and', 'looking', 'like', 'â™¥â™¥â™¥â™¥;', 'even', 'after', 'this,', 'I', 'continued', 'playing', 'but', 'when', 'I', 'migrated', 'my', 'steam', 'folder', 'to', 'my', 'E:', 'drive,', 'Paladins', 'simply', 'stopped', 'working', 'â™¥â™¥â™¥â™¥', 'THIS', 'â™¥â™¥â™¥â™¥', 'â™¥â™¥â™¥â™¥', 'IM', 'DONE'], ['â™¥â™¥â™¥â™¥', 'kick', 'slip', 'bug', 'useing', '!!!', 'fix', 'this', 'â™¥â™¥â™¥â™¥'], [\"It's\", 'honestly', 'severely', 'overrated.', 'The', 'focus', 'on', 'melee', 'kill', 'via', 'chainsaw,', 'fist', 'and', 'flame-thrower', 'make', 'gun', 'feel', 'almost', 'useless', 'coupled', 'with', 'the', 'need', 'to', 'NOT', 'kill', 'thing', 'with', 'gun', 'and', 'instead', 'reliance', 'on', 'closing', 'in', 'to', 'finish', 'with', 'one', 'of', 'your', 'hotkeys', 'make', 'the', 'gun-play', 'awful.', 'Add', 'to', 'that', 'some', 'completely', 'unneeded', 'and', 'unwanted', 'platforming', 'make', 'this', 'a', 'real', 'chore.', 'Then', 'you', 'have', 'the', 'fact', 'that', 'the', 'game', 'stifle', 'freedom', 'by', 'forcing', 'you', 'to', 'use', 'certain', 'gun', '(with', 'certain', 'mods)', 'against', 'some', 'enemies.', 'Gone', 'is', 'the', 'carefree', 'way', 'of', 'giving', 'you', 'the', 'tool', 'and', 'letting', 'you', 'play', 'it', 'your', 'way,', 'because', 'if', 'you', \"don't\", 'follow', \"Eternal's\", 'strict', 'rule', 'you', 'are', 'going', 'to', 'have', 'trouble.', 'Really', 'disappointed', 'after', 'buying', 'the', 'game', 'expecting', 'a', 'decent', 'sequel', 'to', '2016.', 'It', \"isn't\", 'Doom', 'anymore...', 'something', 'I', 'thought', \"I'd\", 'never', 'say.', 'RIP.', 'Jimbo', 'Rating:', '5/10', 'being', 'generous', 'due', 'to', 'awesome', 'sound', 'and', 'engine.'], ['D3D11', 'failed', 'to', 'initialize'], ['The', 'game', 'crash', 'somtimes', 'it', 'doe', 'not', 'have', 'a', 'setting', 'menu', 'and', 'sometimes', 'it', 'dosent', 'let', 'you', 'move'], ['among', 'u', 'ha', 'a', 'good', 'concept', 'but', 'the', 'game', 'is', 'ruined', 'by', 'troll', 'and', 'you', 'are', 'more', 'than', 'likely', 'to', 'get', 'ejected', 'for', 'literally', 'nothing', 'or', 'just', 'get', 'ejected', 'when', 'people', 'are', 'bored.', '1/10'], ['Free', 'to', 'play', '????', 'Danke,', 'lasst', 'halt', 'noch', 'mehr', 'gesocks', 'rein.'], ['Brings', 'back', 'great', 'memories.', 'To', 'bad', 'the', 'game', 'is', 'dead', 'and', 'the', 'devs', 'abandoned', 'it.']]\n"
     ]
    }
   ],
   "source": [
    "# GET REVIEWS AS LIST OF LISTS\n",
    "\n",
    "reviews_as_ll= [] # ll denoting the list of list data\n",
    "for text in reviews:\n",
    "    split_text= text.split()\n",
    "    reviews_as_ll.append(split_text)\n",
    "print(reviews_as_ll)\n",
    "\n",
    "# END PRODUCTS: ll_reviews"
   ]
  },
  {
   "cell_type": "code",
   "execution_count": 9,
   "metadata": {
    "scrolled": true
   },
   "outputs": [],
   "source": [
    "model = gensim.models.Word2Vec(reviews_as_ll, min_count= MIN_WORD_OCCURRENCES)\n",
    "model.train(other_sentences)  # can be a non-repeatable, 1-pass generator"
   ]
  },
  {
   "cell_type": "code",
   "execution_count": 10,
   "metadata": {},
   "outputs": [
    {
     "ename": "TypeError",
     "evalue": "'Word2Vec' object is not subscriptable",
     "output_type": "error",
     "traceback": [
      "\u001b[0;31m---------------------------------------------------------------------------\u001b[0m",
      "\u001b[0;31mTypeError\u001b[0m                                 Traceback (most recent call last)",
      "\u001b[0;32m<ipython-input-10-f2ca963230b3>\u001b[0m in \u001b[0;36m<module>\u001b[0;34m\u001b[0m\n\u001b[0;32m----> 1\u001b[0;31m \u001b[0mmodel\u001b[0m\u001b[0;34m[\u001b[0m\u001b[0;34m'gear'\u001b[0m\u001b[0;34m]\u001b[0m  \u001b[0;31m# raw NumPy vector of a word\u001b[0m\u001b[0;34m\u001b[0m\u001b[0;34m\u001b[0m\u001b[0m\n\u001b[0m",
      "\u001b[0;31mTypeError\u001b[0m: 'Word2Vec' object is not subscriptable"
     ]
    }
   ],
   "source": [
    "model['gear']  # raw NumPy vector of a word"
   ]
  },
  {
   "cell_type": "code",
   "execution_count": null,
   "metadata": {},
   "outputs": [],
   "source": []
  }
 ],
 "metadata": {
  "kernelspec": {
   "display_name": "Python 3",
   "language": "python",
   "name": "python3"
  },
  "language_info": {
   "codemirror_mode": {
    "name": "ipython",
    "version": 3
   },
   "file_extension": ".py",
   "mimetype": "text/x-python",
   "name": "python",
   "nbconvert_exporter": "python",
   "pygments_lexer": "ipython3",
   "version": "3.9.1"
  }
 },
 "nbformat": 4,
 "nbformat_minor": 4
}
