{
 "cells": [
  {
   "cell_type": "code",
   "execution_count": 1,
   "metadata": {},
   "outputs": [],
   "source": [
    "import random\n",
    "import json_lines\n",
    "from langdetect import detect_langs\n",
    "import nltk\n",
    "from nltk.stem import WordNetLemmatizer\n",
    "import gensim\n",
    "from sklearn.model_selection import train_test_split\n",
    "\n",
    "LIMIT_INPUT_ROWS= 100\n",
    "MIN_ENGLISH= 0.0\n",
    "WNL = WordNetLemmatizer()\n",
    "ALL_TAGS= ['CC', 'CD', 'DT', 'EX', 'FW', 'IN', 'JJ', 'JJR', 'JJS', 'LS', 'MD', 'NN', 'NNS', 'NNP', 'NNPS', 'PDT',\n",
    " 'POS', 'PRP', 'PRP$', 'RB', 'RBR', 'RBS', 'RP', 'TO', 'UH', 'VB', 'VBD', 'VBG', 'VBN', 'VBP', 'VBZ', 'WDT', 'WP',\n",
    " 'WP$', 'WRB']\n",
    "ACCEPTABLE_TAGS= ['CC', 'CD', 'DT', 'EX', 'FW', 'IN', 'JJ', 'JJR', 'JJS', 'LS', 'MD', 'NN', 'NNS', 'NNP', 'NNPS', 'PDT',\n",
    " 'POS', 'PRP', 'PRP$', 'RB', 'RBR', 'RBS', 'RP', 'TO', 'UH', 'VB', 'VBD', 'VBG', 'VBN', 'VBP', 'VBZ', 'WDT', 'WP',\n",
    " 'WP$', 'WRB']\n",
    "MIN_WORD_OCCURRENCES= 5\n",
    "\n",
    "number_entries= 0\n",
    "with open ('reviews.json', 'rb') as f:\n",
    "    for item in json_lines.reader(f):\n",
    "        number_entries+= 1"
   ]
  },
  {
   "cell_type": "code",
   "execution_count": 2,
   "metadata": {},
   "outputs": [],
   "source": [
    "# READ IN INFO\n",
    "reviews= []; polarity= []; are_early= []\n",
    "included_indexs= []\n",
    "j= 0\n",
    "while j < LIMIT_INPUT_ROWS:\n",
    "    randint= random.randint(0, number_entries-1)\n",
    "    if not randint in included_indexs:\n",
    "        included_indexs.append(randint)\n",
    "        j+= 1\n",
    "    \n",
    "with open('reviews.json', 'rb') as f: # 5,000 entries in reviews.json\n",
    "    for counter, item in enumerate(json_lines.reader(f)):\n",
    "        if counter in included_indexs:\n",
    "            reviews.append(item['text'])\n",
    "            polarity.append(item['voted_up'])\n",
    "            are_early.append(item['early_access'])\n",
    "\n",
    "# END PRODUCTS: reviews, polarity, are_early"
   ]
  },
  {
   "cell_type": "code",
   "execution_count": 3,
   "metadata": {},
   "outputs": [
    {
     "name": "stdout",
     "output_type": "stream",
     "text": [
      "ERROR: langs failed to define itself. Happens occassionally - just rerun\n",
      "ERROR: langs failed to define itself. Happens occassionally - just rerun\n",
      "ERROR: langs failed to define itself. Happens occassionally - just rerun\n"
     ]
    }
   ],
   "source": [
    "# FILTER TEXT BY LANGUAGE\n",
    "\n",
    "filtered_reviews= []\n",
    "filtered_polarity= []\n",
    "filtered_are_early= []\n",
    "for i, text in enumerate(reviews):\n",
    "    try:\n",
    "        langs = detect_langs(text)\n",
    "    except:\n",
    "        print(\"ERROR: langs failed to define itself. Happens occassionally - just rerun\")\n",
    "        pass\n",
    "    for lang in langs:\n",
    "        if str(lang)[0:2] == 'en':\n",
    "            if float(str(lang)[3:]) > MIN_ENGLISH:\n",
    "                filtered_reviews.append(reviews[i])\n",
    "                filtered_polarity.append(polarity[i])\n",
    "                filtered_are_early.append(are_early[i])\n",
    "reviews= filtered_reviews\n",
    "polarity= filtered_polarity\n",
    "are_early= filtered_are_early\n",
    "\n",
    "# END PRODUCTS: reviews, polarity, are_early"
   ]
  },
  {
   "cell_type": "code",
   "execution_count": 4,
   "metadata": {},
   "outputs": [
    {
     "name": "stdout",
     "output_type": "stream",
     "text": [
      "[\"The gun and crank in this area go through Trevor Phillips Enterprises... or they ain't going!\", \"One of the greatest GTA ever made. Great story and ton of stuff to do with many side quest and many storyline mission (~40h) to beat the main story and iconic character such a Big Smoke, CJ, Sweet, Ryder, the same looking cop and gangs, Grove Street, Ballas, Varrios Los Aztecas, Los Santos Vagos, San Fierro Rifa and many more. CJ return back to Los Santos to his mom's funeral, thing were a they use to be. CJ decides to stay in Los Santos, he re-builds his reputation and help Grove Street back to the top. Everything seems to go for them, then one day he find out Big Smoke and Ryder are with Ballas. Officer Tenpenny drive You out of the city into the countryside. There Cj meet new people and he travel to San Fierro he there meet Wu Zi Mu, Z and FBI Agent. He help them. The FBI agent kidnapped your brother Sweet and you are sent to the new land Las Venturas, (now all bridge have been unlocked), he start to help people in Las Venturas, when CJ ha done everything he can, he became the owner of a casino. He come back to Los Santos and find out that Ballas took everything over. With his new friend CJ is job is now to bring balance to Los Santos a there is a chaos on the street, he kill Big Smoke and Officer Tenpenny and restores balance back to Los Santos. Good physic but the steam version (graphics) aren't really good. I'm using a graphic mod and it look way better. Also due to license expiring 12 song were removed. I say don't buy it on steam.\", ':p the best game i have play /..more fun play with friend', '60 fps high graphic it felt like a mini movie', 'I like it :). Good price for this good game. I swear to you, I thought the other guy wa Will and not the female! It look so much like the male character from the show. I just learned today that it wa the female from the show.I recommend this pack a it is fun.', \"I only put about five hour into it, so I'm sure there's plenty of stuff I haven't seen/done yet. First off, this is one of those odd European simulation games. You're a car mechanic. You fix cars. No jetpacks, no fire breathing dragons, no guns. At the start you're dropped into your garage. There's no tutorial. Occasionally when you look at a menu, or try something out there will be a brief tooltip about what that particular feature does. This can hamper your enjoyment. For example I spent a good 15 minute trying to figure out how to order parts. I should have seen the obvious, that you use your computer to search for, then order parts. Makes perfect sense in retrospect. But, you say, how is the repair portion? You know, the actual meat of the game! At first, everything is deeply confusing. First, you look at the repair order. In the beginning it tell you what part need to be replaced. You go over, select the proper view mode, and start clicking on parts. In one mode, part can be inspected. In another mode you can disassemble parts. In another you reassemble. So, basically it goes, find the problem, remove bit until you can remove the problem part, replace and reassemble. Later more difficult job appear, that give you a general idea of the problem, and you need to search for the bad part yourself. Eventually you wind up doing bodywork a well a other repairs. Also there is a point where you can buy, repair and resell cars, but I haven't gotten to that point yet. The layout of part is somewhat simplified. There isn't any wiring that I've seen so far, and I haven't had an interior job yet. These thing may happen later though. As you do more jobs, you gain experience. This allows you to have access to more tools, more in depth jobs, and different kind of car to work on. I'd say I'd recommend the game. It's oddly calming and soothing, while at the same time providing an interesting challenge. It doe have a demo, so if you're interested, try it out!\", 'cool and edgy', 'Ð½Ð¾Ñ€Ð¼ Ð¸Ð³Ñ€Ð° Ð»ÑƒÑ‡ÑˆÐ°Ñ\\x8fÑ\\x8fÑ\\x8fÑ\\x8f', 'I think one of best RPG MMO. Worth to play and spend some time on it', \"Wait for a sale and pretend New Dawn is expansion DLC for Far Cry 5. Its a slice of strawberry cheesecake at the end of a meal yum but if you skip the main you'll be left feeling hungry. Yes, your mum wa right call her sometime <3\", \"My goodness! A brutal, gory Metroidvania-esque action platformer, the highlight of this game ha to be the Hi-Bit Pixel art! Play a ol' screw top head a you seek Penance something something Catholic misery.\", 'Awesome game! Great new take on XCOM with it combat system, lore, etc. I find it annoying to get piece of equipment but thats part of the fun, trying to figure out how to go thru mission with ill-equipped soldiers. However, there are some random crash that happen which kinda make me annoyed at the devs because there have never been other crash with the other game when I have played them. After 7 hours. I think this game is great! Pick it up if it on sale and if you are a fan of XCOM already (or not)', 'Camels can swim 10/10 best game ever update: killing ice bear with dragon 11/10 best game ever', 'fun game but crash too often', 'Mother... father.... please forgive me....', 'Legitimate key bought through Groupees revoked with no reason given. Devs were paid and are scammers.', \"Great game, to bad it's crashing my video card driver every 10 minutes.... So, for me it's unplayable... GTX780 Driver 10.18.13.5850 (it's the latest version.)\", \"I'm an old CA player since 2012 and i have to say. CA isn't the same game it used to be. I do not recommend playing this game unless you want it for nostalgia. Reason is because, everything ha changed and there are said to be hacker in the game too. If you want a better version of CA. Head to CA:Reloaded. Either Steam version or non-steam version.\", 'TIL how to kill an in-game economy in a day', 'Sh*t game :) sorry for the noob devs but thats the truth :)', \"Very sad these time we live in... CS with operator skins... Valve you do everything to earn money, aren't you? Billions are not enough? Disgusting. Also it is even more disgusting how you've turned a legendary game into an infantile F2P garbage. What come next, vehicles? Will CS:GO be the next Fortnite? Fix your bad code first (which always sucked btw.: hitboxes, hit reg lottery aka missing bullets, RNG death) provide 128 tick mm server and do more against cheaters... Review by someone who play CS since 1999.\", \"Utter â™¥â™¥â™¥â™¥â™¥â™¥â™¥â™¥ toxic players,i don't mind â™¥â™¥â™¥â™¥â™¥â™¥ hitboxes even after they're fixed trust factor? trust factor is non existent hacker this game had been knowed for still let them â™¥â™¥â™¥â™¥ around like they own the game overall this game imo is totally â™¥â™¥â™¥â™¥â™¥â™¥ up....\", \"it's a terrarium for cheater\", 'modders, unstable connections, disconnecting a lot, mission bugs, loading times, â™¥â™¥â™¥â™¥ community', 'Complete garbage. Loads up fine to the menu prompt of \"Press A\" and won\\'t go past. Tried with keyboard and gamepad, along with fresh install. Complete trash and a waste of time a it is completely unplayable.', 'c go suck ass.', 'They started this game and many and adding but after couple years, they it and moved on to their you still reading this? why?? is the reason above not enough for you to not buy this game and avoid it at all costs? ok ok. ill tell you my reason why you should avoid this game. -tutorial is terrible -loading screen are way to long -game save are very rare and in order to not lose hour of progress, you gotta remember to click that save button(where are we, in early 2000 when a save button wa a thing?) -no alert/warning of any sort when a thief steal something from your shop -no option to close your shop or end the day whenever you want in order to re arrange your shop, or just quit the game and manage your real life stuff. -your home doesnt have any use, except displaying some random trophy that the game didnt even notify you that you got them and when you got them... -when a vegetable is fully grown, many time when you try pick it up, it just vanishes and you never receive your crop -you can only accept 1 quest at any given time and only way to check the accepted quest progress is to go all the way back to your shop and check the quest board -items in quest book are very small icon and there for really hard to figure out what item are requested from you to finish the quest, unless you go back to your shop and check the quest board ONCE AGAIN... -shop organization list is very bad and need allot of improvement and option to sort item by helmets, armors, sword and so on... -no way to see what gear is better for your champion and if it worth putting it on him or not in order to make him stronger -in skill firstly unlock the \"customer talk I\", it will help you at beginning, lvl 2 and 3 you dont really need, even later in game -avoid unlocking different customer classes(mage, rogue and druid) until you first unlock everything else, reason behind it is, if you unlock for example a mage, he will only accept potions, mage armor. but quest ask from you mostly to sell armor, weapon and potions, so youll have very hard time finding \"armor\" npc to sell them the armor, swords, shields. -farming is broken most of the time so no point in unlocking it all, but if you do decide to unlock it, youll get quest to sell 30 weed or some other vegetable, and like i mentioned above, you cant gather fully grown crop most of the time Even in this unfinished and abandoned stage of the game, it still fun for couple of hours, but i highly recommend everyone to buy this game only when it on sale, otherwise not really worth it. but yet again, it only 4 euro full price, so you decide, but i suppose you get what you pay for.', 'The fact that some idiot seems to think it wa a great idea to stop the flow of combat to highlight every tiny thing that happens on the field is just too bloody irritating. It happens way too often and make everything tedious. I hate this mechanic when overused in ANY type of game. Unfortunately, this game too, suffers from it.', '\"Sure, let me go find this red flower in a completely green jungle while being colorblind\"', 'this game look cool it fun, but it a pay to win type of game', \"This game is overpriced. I'll tell you the positive and negative side :) -------------------------------------------------- POSITIVE: -You can have a lot of fun in this game solo or with friends. -On the early access you could earn more money than the game price. -There is FPP and TPP. -There is not only one single map. There is 2 maps. -There is voice chat so that you can communicate with your Teamates. -There is cool skin which you can get every week if you are playing enough to get BP (Battle Points). NEGATIVE: -The game is really bad optimized -It ha ridiculous mechanic -Spectating mode ha many bug -A lot of hacker (70% of game im killed by hackers). -Really high price. -Bad graphic for 2017 game.(GTA V ha better graphics[2013]) -A lot of bug and glitches. -There is hardly any loot on the second map. -There is server lag almost every game. -------------------------------------------------- After 400 hour on this game I can say that I do NOT recommend it! It's not worth the money. Thanks for reading! I hope this review will help you to decide on buying or not :)\", 'Play Payday 2 instead.', \"This game is for a really niche audience, that audience? Car boy who are angry that their parent took their Xbox and need to play a game to calm their angry because they've already punched through all the drywall in the house. And if that's good then aww jeez you're going to like this game. Buy buy it on sale, Â£9 for this? Too high, it should really be Â£3 Â£4.Almost everyone else will find this game insanely boring and annoying. You're just a small car on a race track going broom broom but hey, some people like that. My experience? I played 11 minutes, got board and then left the game running for 2 hour 30 mins, put on my speaker and cleaned my room because the soundtrack is AMAZING and work great a background music.Overall thoughts:0 / 10 game10 / 10 room cleaning background music.\", 'This game is such a big let down. Dinosaurs escaping every 2 second for no reason at all. Destroying electric and concrete fence without any problem every 2 seconds. â™¥â™¥â™¥â™¥â™¥â™¥ island progression system. The stupidest AI ever. Linear gameplay system for monkeys.', 'Dying game. Would not recommend.', 'This game can get very toxic quickly. This game ha done almost nothing to stop cheating. It is not to bad to play with a group of friend but otherwise I would not invest to much into this game.', 'For the sake of balance what is STG44 LEVEL 3 on recruit soldier and cheapest unit ?? MULTIPLAYER GOD not much some new thing and reskin from mod and mo supporter not worth it but it realy rrealy op in mp what is this ???']\n"
     ]
    }
   ],
   "source": [
    "# FILTER TEXT BY WORD TYPE\n",
    "\n",
    "#print(reviews)\n",
    "filtered_reviews= []\n",
    "for i, text in enumerate(reviews):\n",
    "    #print(\"-------------------------------------\")\n",
    "    new_text= []\n",
    "    split_text= text.split()\n",
    "    tags= nltk.pos_tag(split_text)\n",
    "    #print(tags)\n",
    "    #print(\"#############\")\n",
    "    lemd_split_text= []\n",
    "    for word in split_text:\n",
    "        lemd_split_text.append(WNL.lemmatize(word))\n",
    "    tags= nltk.pos_tag(lemd_split_text)\n",
    "    #print(tags)\n",
    "    for j, word in enumerate(lemd_split_text):\n",
    "        if tags[j][1] in ACCEPTABLE_TAGS:\n",
    "            new_text.append(word)\n",
    "    filtered_reviews.append(new_text)\n",
    "reviews= [' '.join([str(elem) for elem in sublist]) for sublist in filtered_reviews]\n",
    "print(reviews)\n",
    "\n",
    "# END PRODUCTS: reviews, polarity, are_early"
   ]
  },
  {
   "cell_type": "code",
   "execution_count": 5,
   "metadata": {},
   "outputs": [],
   "source": [
    "# GET REVIEWS AS LIST OF LISTS\n",
    "\n",
    "no_sentences= 0\n",
    "reviews_as_ll= [] # ll denoting the list of list data\n",
    "for text in reviews:\n",
    "    split_text= text.split()\n",
    "    reviews_as_ll.append(split_text)\n",
    "    no_sentences+= 1\n",
    "\n",
    "# END PRODUCTS: ll_reviews, no_sentences"
   ]
  },
  {
   "cell_type": "code",
   "execution_count": 6,
   "metadata": {},
   "outputs": [],
   "source": [
    "X_train, X_test, y_train, y_test= train_test_split(reviews_as_ll, polarity, test_size=0.2, random_state=42)"
   ]
  },
  {
   "cell_type": "code",
   "execution_count": 7,
   "metadata": {
    "scrolled": true
   },
   "outputs": [
    {
     "data": {
      "text/plain": [
       "(1692, 11795)"
      ]
     },
     "execution_count": 7,
     "metadata": {},
     "output_type": "execute_result"
    }
   ],
   "source": [
    "model= gensim.models.Word2Vec(min_count= MIN_WORD_OCCURRENCES)\n",
    "model.build_vocab(reviews_as_ll)\n",
    "model.train(reviews_as_ll, total_examples=no_sentences, epochs=model.epochs)  # can be a non-repeatable, 1-pass generator"
   ]
  },
  {
   "cell_type": "code",
   "execution_count": 11,
   "metadata": {
    "scrolled": true
   },
   "outputs": [
    {
     "name": "stdout",
     "output_type": "stream",
     "text": [
      "[('are', 0.4341857433319092), ('to', 0.41584882140159607), ('you', 0.41312918066978455), ('of', 0.3936181664466858), ('and', 0.3795650899410248), ('a', 0.3577914834022522), ('but', 0.3577427864074707), ('that', 0.3477071523666382), ('at', 0.34456679224967957), ('-There', 0.3431721031665802)]\n"
     ]
    }
   ],
   "source": [
    "#model['gear']  # raw NumPy vector of a word\n",
    "sims= model.wv.most_similar('the', topn=10)  # get other similar words\n",
    "print(sims)"
   ]
  },
  {
   "cell_type": "code",
   "execution_count": null,
   "metadata": {},
   "outputs": [],
   "source": []
  }
 ],
 "metadata": {
  "kernelspec": {
   "display_name": "Python 3",
   "language": "python",
   "name": "python3"
  },
  "language_info": {
   "codemirror_mode": {
    "name": "ipython",
    "version": 3
   },
   "file_extension": ".py",
   "mimetype": "text/x-python",
   "name": "python",
   "nbconvert_exporter": "python",
   "pygments_lexer": "ipython3",
   "version": "3.9.1"
  }
 },
 "nbformat": 4,
 "nbformat_minor": 4
}
