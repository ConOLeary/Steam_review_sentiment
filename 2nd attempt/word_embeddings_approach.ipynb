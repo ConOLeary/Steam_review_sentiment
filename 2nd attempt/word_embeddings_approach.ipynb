{
 "cells": [
  {
   "cell_type": "code",
   "execution_count": 1,
   "metadata": {},
   "outputs": [],
   "source": [
    "import random\n",
    "import json_lines\n",
    "from langdetect import detect_langs\n",
    "import nltk\n",
    "from nltk.stem import WordNetLemmatizer\n",
    "from sklearn.model_selection import train_test_split\n",
    "import gensim\n",
    "from gensim.models import KeyedVectors\n",
    "\n",
    "LIMIT_INPUT_ROWS= 200\n",
    "MIN_ENGLISH= 0.0\n",
    "WNL = WordNetLemmatizer()\n",
    "REMOVEABLE_CHARS= '[^A-Za-z ]'\n",
    "ALL_TAGS= ['CC', 'CD', 'DT', 'EX', 'FW', 'IN', 'JJ', 'JJR', 'JJS', 'LS', 'MD', 'NN', 'NNS', 'NNP', 'NNPS', 'PDT',\n",
    " 'POS', 'PRP', 'PRP$', 'RB', 'RBR', 'RBS', 'RP', 'TO', 'UH', 'VB', 'VBD', 'VBG', 'VBN', 'VBP', 'VBZ', 'WDT', 'WP',\n",
    " 'WP$', 'WRB']\n",
    "ACCEPTABLE_TAGS= ['CC', 'CD', 'DT', 'EX', 'FW', 'IN', 'JJ', 'JJR', 'JJS', 'LS', 'MD', 'NN', 'NNS', 'NNP', 'NNPS', 'PDT',\n",
    " 'POS', 'PRP', 'PRP$', 'RB', 'RBR', 'RBS', 'RP', 'TO', 'UH', 'VB', 'VBD', 'VBG', 'VBN', 'VBP', 'VBZ', 'WDT', 'WP',\n",
    " 'WP$', 'WRB']\n",
    "MIN_WORD_OCCURRENCES= 5\n",
    "\n",
    "number_entries= 0\n",
    "with open ('reviews.json', 'rb') as f:\n",
    "    for item in json_lines.reader(f):\n",
    "        number_entries+= 1"
   ]
  },
  {
   "cell_type": "code",
   "execution_count": 2,
   "metadata": {},
   "outputs": [],
   "source": [
    "# READ IN INFO\n",
    "reviews= []; polarity= []; are_early= []\n",
    "included_indexs= []\n",
    "j= 0\n",
    "while j < LIMIT_INPUT_ROWS:\n",
    "    randint= random.randint(0, number_entries-1)\n",
    "    if not randint in included_indexs:\n",
    "        included_indexs.append(randint)\n",
    "        j+= 1\n",
    "    \n",
    "with open('reviews.json', 'rb') as f: # 5,000 entries in reviews.json\n",
    "    for counter, item in enumerate(json_lines.reader(f)):\n",
    "        if counter in included_indexs:\n",
    "            reviews.append(item['text'])\n",
    "            polarity.append(item['voted_up'])\n",
    "            are_early.append(item['early_access'])\n",
    "\n",
    "# END PRODUCTS: reviews, polarity, are_early"
   ]
  },
  {
   "cell_type": "code",
   "execution_count": 3,
   "metadata": {},
   "outputs": [],
   "source": [
    "# FILTER TEXT BY CHARACTER\n",
    "\n",
    "import re\n",
    "new_reviews= []\n",
    "for i, text in enumerate(reviews):\n",
    "    text= re.sub(REMOVEABLE_CHARS, '', text)\n",
    "    if not str.isspace(text) and text != \"\":\n",
    "        new_reviews.append(text)\n",
    "#     else:\n",
    "#         print(\"removed [\"+text+\"]\")\n",
    "# print(reviews)\n",
    "# print(\"########################################################################\")\n",
    "# print(new_reviews)\n",
    "reviews= new_reviews\n",
    "\n",
    "# END PRODUCTS: reviews"
   ]
  },
  {
   "cell_type": "code",
   "execution_count": 4,
   "metadata": {},
   "outputs": [],
   "source": [
    "# FILTER TEXT BY LANGUAGE\n",
    "\n",
    "filtered_reviews= []\n",
    "filtered_polarity= []\n",
    "filtered_are_early= []\n",
    "for i, text in enumerate(reviews):\n",
    "    try:\n",
    "        langs = detect_langs(text)\n",
    "    except:\n",
    "        print(\"[\"+text+\"]\")\n",
    "        print(\"ERROR: langs failed to define itself. Happens occassionally - just rerun\")\n",
    "        pass\n",
    "    for lang in langs:\n",
    "        if str(lang)[0:2] == 'en':\n",
    "            if float(str(lang)[3:]) > MIN_ENGLISH:\n",
    "                filtered_reviews.append(reviews[i])\n",
    "                filtered_polarity.append(polarity[i])\n",
    "                filtered_are_early.append(are_early[i])\n",
    "reviews= filtered_reviews\n",
    "polarity= filtered_polarity\n",
    "are_early= filtered_are_early\n",
    "\n",
    "#print(reviews)\n",
    "# END PRODUCTS: reviews, polarity, are_early"
   ]
  },
  {
   "cell_type": "code",
   "execution_count": 5,
   "metadata": {},
   "outputs": [],
   "source": [
    "# FILTER TEXT BY WORD TYPE\n",
    "\n",
    "#print(reviews)\n",
    "filtered_reviews= []\n",
    "for i, text in enumerate(reviews):\n",
    "    #print(\"-------------------------------------\")\n",
    "    new_text= []\n",
    "    split_text= text.split()\n",
    "    tags= nltk.pos_tag(split_text)\n",
    "    #print(tags)\n",
    "    #print(\"#############\")\n",
    "    lemd_split_text= []\n",
    "    for word in split_text:\n",
    "        lemd_split_text.append(WNL.lemmatize(word))\n",
    "    tags= nltk.pos_tag(lemd_split_text)\n",
    "    #print(tags)\n",
    "    for j, word in enumerate(lemd_split_text):\n",
    "        if tags[j][1] in ACCEPTABLE_TAGS:\n",
    "            new_text.append(word)\n",
    "    filtered_reviews.append(new_text)\n",
    "reviews= [' '.join([str(elem) for elem in sublist]) for sublist in filtered_reviews]\n",
    "\n",
    "# END PRODUCTS: reviews, polarity, are_early"
   ]
  },
  {
   "cell_type": "code",
   "execution_count": 6,
   "metadata": {},
   "outputs": [],
   "source": [
    "# GET REVIEWS AS LIST OF LISTS\n",
    "\n",
    "no_sentences= 0\n",
    "reviews_as_ll= [] # ll denoting the list of list data\n",
    "for text in reviews:\n",
    "    split_text= text.split()\n",
    "    reviews_as_ll.append(split_text)\n",
    "    no_sentences+= 1\n",
    "\n",
    "# END PRODUCTS: reviews_as_ll, no_sentences"
   ]
  },
  {
   "cell_type": "code",
   "execution_count": 7,
   "metadata": {},
   "outputs": [],
   "source": [
    "for i, review in enumerate(reviews_as_ll):\n",
    "    for j, word in enumerate(review):\n",
    "        reviews_as_ll[i][j]= word.lower()"
   ]
  },
  {
   "cell_type": "code",
   "execution_count": 8,
   "metadata": {},
   "outputs": [
    {
     "name": "stdout",
     "output_type": "stream",
     "text": [
      "['gather', 'with', 'your', 'friend', 'to', 'play', 'chat', 'troll', 'and', 'laugh', 'together', 'participate', 'in', 'the', 'upcoming', 'event', 'create', 'your', 'own', 'tribe', 'and', 'share', 'on', 'the', 'forum', 'challenge', 'your', 'friend', 'to', 'get', 'the', 'top', 'title', 'and', 'then', 'challenge', 'the', 'world', 'by', 'farming', 'your', 'first', 'youll', 'be', 'challenged', 'by', 'dozen', 'if', 'not', 'hundred', 'of', 'other', 'mouse', 'to', 'be', 'the', 'best']\n",
      "['this', 'is', 'better', 'then', 'any', 'game', 'in', 'the', 'world', 'i', 'really', 'recommend', 'it']\n",
      "['nice', 'idea', 'brain', 'training', 'pure', 'how', 'fast', 'you', 'are', 'test', 'yourself', 'd']\n",
      "['really', 'nice', 'for', 'camper', 'and', 'beginner']\n",
      "['medallions', 'humminggame', 'of', 'the', 'decade', 'it', 'gotta', 'be']\n",
      "['i', 'love', 'this', 'game', 'it', 'isnt', 'the', 'og', 'dugeon', 'keeper', 'but', 'it', 'is', 'a', 'close', 'a', 'it', 'can', 'get']\n",
      "['verry', 'verry', 'bad', 'game']\n",
      "['its', 'such', 'a', 'great', 'game', 'tho', 'it', 'keep', 'crashing', 'for', 'me', 'whenever', 'im', 'about', 'to', 'complete', 'a', 'mission', 'but', 'anyhow', 'the', 'open', 'world', 'is', 'massive', 'and', 'the', 'sling', 'shot', 'thingymabob', 'just', 'make', 'the', 'game', 'so', 'fun', 'and', 'stealing', 'car', 'and', 'all', 'those', 'stuff', 'just', 'driving', 'around', 'or', 'jumping', 'around', 'with', 'ur', 'parachute', 'man', 'it', 'so', 'fun', 'i', 'highly', 'recommend', 'this', 'game']\n",
      "['be', 'the', 'queen', 'and', 'slave', 'you', 'all']\n",
      "['amazing', 'experience', 'not', 'a', 'moneyhungry', 'dev', 'team', 'just', 'try', 'it']\n",
      "['shot', 'alot', 'of', 'peepz', 'gud', 'game']\n",
      "['manga', 'anime', 'netflix', 'adaptation']\n",
      "['you', 'get', 'to', 'talk', 'to', 'people', 'around', 'the', 'world', 'and', 'it', 'so', 'fun', 'i', 'didnt', 'think', 'that', 'it', 'wa', 'going', 'to', 'be', 'one', 'of', 'those', 'game', 'that', 'i', 'could', 'play', 'for', 'hour', 'and', 'lose', 'track', 'of', 'time', 'in', 'but', 'with', 'all', 'of', 'the', 'custom', 'avatar', 'talented', 'musician', 'and', 'all', 'of', 'friendly', 'people', 'it', 'a', 'blast', 'i', 'havent', 'had', 'a', 'bad', 'experience', 'so', 'far', 'in', 'all', 'of', 'my', 'time', 'in', 'the', 'game', 'so', 'far', 'and', 'i', 'dont', 'think', 'that', 'ill', 'run', 'into', 'any', 'in', 'the', 'future', 'if', 'i', 'do', 'i', 'will', 'edit', 'this', 'review', 'but', 'for', 'now', 'i', 'will', 'enjoy', 'my', 'time', 'in', 'this', 'game', 'i', 'do', 'use', 'the', 'htc', 'vive', 'when', 'i', 'play', 'this', 'game', 'so', 'i', 'cant', 'really', 'say', 'what', 'it', 'is', 'like', 'in', 'mouse', 'and', 'keyboard', 'mode', 'but', 'if', 'you', 'have', 'any', 'vr', 'headset', 'this', 'game', 'is', 'a', 'must', 'have', 'even', 'if', 'you', 'dont', 'have', 'a', 'vr', 'headset', 'you', 'should', 'still', 'give', 'this', 'game', 'a', 'try', 'ive', 'met', 'so', 'many', 'people', 'in', 'the', 'game', 'that', 'only', 'use', 'mouse', 'and', 'keyboard', 'and', 'they', 'have', 'hundred', 'of', 'hour', 'in', 'the', 'game', 'so', 'there', 'is', 'content', 'for', 'everyone', 'and', 'this', 'content', 'is', 'endless', 'i', 'should', 'add', 'that', 'this', 'game', 'help', 'with', 'your', 'social', 'skill', 'a', 'lot', 'ive', 'noticed', 'that', 'im', 'able', 'to', 'keep', 'longer', 'conversation', 'now', 'in', 'the', 'real', 'world', 'after', 'talking', 'for', 'so', 'long', 'in', 'vr', 'chat', 'so', 'for', 'any', 'people', 'who', 'struggle', 'to', 'talk', 'to', 'people', 'vrchat', 'can', 'really', 'help', 'ive', 'heard', 'about', 'a', 'lot', 'of', 'story', 'online', 'youtube', 'mostly', 'about', 'how', 'people', 'come', 'into', 'this', 'game', 'to', 'get', 'over', 'their', 'fear', 'of', 'public', 'interaction', 'which', 'i', 'thought', 'is', 'kind', 'of', 'cool', 'to', 'end', 'this', 'review', 'ive', 'been', 'rambling', 'on', 'long', 'enough', 'i', 'just', 'want', 'to', 'say', 'that', 'i', 'think', 'that', 'everyone', 'who', 'happens', 'to', 'come', 'across', 'this', 'game', 'need', 'to', 'try', 'it', 'at', 'least', 'once', 'and', 'my', 'guess', 'is', 'that', 'they', 'will', 'be', 'hooked', 'the', 'great', 'thing', 'about', 'vrchat', 'is', 'that', 'it', 'one', 'of', 'those', 'game', 'where', 'anybody', 'can', 'play', 'whether', 'you', 'are', 'female', 'male', 'old', 'young', 'it', 'doesnt', 'matter', 'ive', 'met', 'some', 'guy', 'that', 'are', 'up', 'to', 'year', 'old', 'and', 'then', 'ive', 'also', 'met', 'people', 'who', 'were', 'like', 'year', 'old', 'so', 'it', 'is', 'literally', 'for', 'anyone', 'also', 'for', 'the', 'female', 'out', 'there', 'no', 'it', 'not', 'one', 'of', 'those', 'game', 'where', 'you', 'get', 'harassed', 'im', 'sure', 'that', 'it', 'ha', 'happened', 'but', 'in', 'my', 'experience', 'all', 'of', 'the', 'girl', 'that', 'ive', 'met', 'said', 'that', 'it', 'really', 'isnt', 'that', 'bad', 'and', 'seeing', 'a', 'girl', 'in', 'this', 'game', 'is', 'actually', 'pretty', 'common', 'in', 'fact', 'i', 'think', 'that', 'every', 'world', 'that', 'i', 'go', 'into', 'i', 'think', 'there', 'is', 'at', 'least', 'one', 'girl', 'like', 'most', 'game', 'though', 'there', 'are', 'more', 'guy', 'on', 'this', 'game', 'but', 'for', 'the', 'most', 'part', 'they', 'are', 'friendly', 'people', 'this', 'isnt', 'csgo', 'or', 'rainbow', 'six', 'siege', 'where', 'people', 'are', 'just', 'toxic', 'and', 'harass', 'you', 'if', 'you', 'decide', 'to', 'download', 'the', 'game', 'have', 'fun']\n",
      "['cv']\n",
      "['my', 'name', 'jeff']\n",
      "['the', 'charactors', 'are', 'so', 'cute']\n",
      "['i', 'have', 'no', 'doubt', 'game', 'is', 'perfect', 'and', 'you', 'can', 'play', 'solo', 'or', 'with', 'your', 'team', 'meat']\n",
      "['the', 'game', 'is', 'still', 'alive', 'thats', 'the', 'incredible', 'thing', 'about', 'it', 'the', 'game', 'had', 'no', 'official', 'server', 'if', 'i', 'could', 'recall', 'the', 'player', 'had', 'to', 'host', 'their', 'server', 'via', 'hldj', 'even', 'after', 'having', 'this', 'flaw', 'counterstrike', 'had', 'a', 'lot', 'of', 'server', 'a', 'variety', 'of', 'server', 'and', 'a', 'bunch', 'of', 'player', 'counterstrike', 'wa', 'my', 'first', 'multiplayer', 'game', 'i', 'started', 'playing', 'this', 'on', 'pub', 'server', 'casual', 'terrorist', 'v', 'counterterrorist', 'but', 'the', 'real', 'fun', 'wa', 'on', 'multimod', 'server', 'with', 'a', 'lot', 'of', 'different', 'and', 'interesting', 'mod', 'there', 'are', 'still', 'many', 'server', 'up', 'and', 'with', 'decent', 'player']\n",
      "['it', 'alot', 'of', 'fun', 'when', 'you', 'arent', 'wrongfully', 'accused']\n",
      "['charge', 'once', 'more', 'unto', 'the', 'breach']\n",
      "['what', 'can', 'you', 'say', 'you', 'just', 'have', 'to', 'love', 'that', 'amazing', 'rusty', 'lake', 'universe', 'at', 'least', 'i', 'do', 'played', 'all', 'of', 'them', 'multiple', 'time', 'on', 'my', 'pc', 'and', 'the', 'one', 'not', 'available', 'on', 'pc', 'yet', 'i', 'played', 'on', 'my', 'smartphone', 'every', 'little', 'game', 'add', 'just', 'a', 'little', 'bit', 'more', 'to', 'the', 'that', 'wonderful', 'experience', 'samsara', 'room', 'while', 'very', 'very', 'short', 'just', 'doe', 'the', 'same', 'thing', 'adding', 'a', 'little', 'piece', 'to', 'the', 'bigger', 'picture', 'i', 'played', 'it', 'before', 'but', 'i', 'dont', 'think', 'it', 'will', 'be', 'much', 'longer', 'maybe', 'two', 'hour', 'at', 'most', 'and', 'i', 'really', 'looking', 'forward', 'to', 'that', 'cube', 'escape', 'collection', 'coming', 'to', 'stream', 'soon', 'a', 'very', 'special', 'collection', 'of', 'free', 'game', 'only', 'available', 'on', 'a', 'smartphone', 'before', 'pretty', 'sure', 'i', 'gone', 'get', 'them', 'the', 'minute', 'they', 'are', 'added', 'here', 'just', 'to', 'get', 'the', 'excuse', 'to', 'replay', 'them', 'all', 'over', 'again', 'and', 'again', 'and', 'again', 'pretty', 'sure', 'they', 'are', 'free', 'but', 'i', 'even', 'would', 'pay', 'them', 'some', 'money', 'just', 'that', 'they', 'devs', 'can', 'work', 'on', 'a', 'few', 'more', 'just', 'keep', 'them', 'coming']\n",
      "['great', 'gamebut', 'it', 'is', 'so', 'easy']\n",
      "['this', 'game', 'is', 'really', 'cool', 'altho', 'the', 'graphic', 'are', 'dated', 'it', 'a', 'funny', 'and', 'interesting', 'mission', 'gaming', 'playing', 'game', 'it', 'dark', 'atmospheric', 'the', 'sound', 'is', 'good', 'it', 'reminds', 'of', 'other', 'game', 'such', 'a', 'vampire', 'masquarade', 'and', 'this', 'is', 'my', 'first', 'time', 'playing', 'this', 'kind', 'of', 'followup', 'from', 'the', 'older', 'game', 'i', 'remember', 'reading', 'review', 'in', 'my', 'pc', 'gamer', 'long', 'time', 'ago', 'that', 'thief', 'wa', 'a', 'really', 'good', 'game', 'and', 'it', 'is', 'i', 'give', 'this', 'game', 'a', 'out', 'of', 'rating']\n",
      "['this', 'game', 'is', 'amazing', 'everything', 'about', 'this', 'game', 'is', 'amazing', 'it', 'need', 'work', 'on', 'optimization', 'and', 'performance', 'but', 'i', 'know', 'itll', 'be', 'worked', 'it', 'its', 'still', 'day', 'one', 'i', 'have', 'been', 'playing', 'in', 'nonstop', 'edit', 'at', 'hour', 'i', 'got', 'my', 'first', 'crash', 'after', 'that', 'and', 'all', 'i', 'got', 'maybe', 'two', 'more', 'but', 'it', 'wasnt', 'that', 'much', 'of', 'a', 'big', 'deal', 'since', 'i', 'wa', 'almost', 'done', 'with', 'the', 'main', 'story', 'this', 'is', 'one', 'of', 'the', 'best', 'game', 'ive', 'ever', 'played', 'and', 'i', 'recommend', 'it', 'wholeheartedly', 'edit', 'as', 'i', 'finished', 'the', 'game', 'i', 'wa', 'so', 'upset', 'it', 'wa', 'over', 'although', 'i', 'am', 'in', 'love', 'with', 'this', 'game', 'hopefully', 'they', 'release', 'the', 'second', 'on', 'pc', 'but', 'im', 'thinking', 'of', 'getting', 'it', 'on', 'ps', 'either', 'way', 'i', 'love', 'this', 'series', 'thanks', 'sony', 'and', 'guerilla', 'for', 'letting', 'u', 'pc', 'gamers', 'experience', 'this', 'masterpiece', 'of', 'a', 'game']\n",
      "['just', 'go', 'for', 'most', 'dialogue', 'opening', 'setting', 'for', 'your', 'character', 'and', 'enjoy', 'the', 'amazing', 'atmosphere', 'where', 'magic', 'cooperates', 'with', 'cybernetic', 'technology', 'gain', 'creative', 'knowledge', 'about', 'soul', 'and', 'shadow', 'spare', 'a', 'much', 'a', 'you', 'can', 'to', 'talk', 'with', 'tenarmed', 'ambrose', 'you', 'will', 'never', 'regret']\n",
      "['tutorial', 'how', 'to', 'learn', 'slavic', 'language']\n",
      "['my', 'goodness', 'a', 'brutal', 'gory', 'metroidvaniaesque', 'action', 'platformer', 'the', 'highlight', 'of', 'this', 'game', 'ha', 'to', 'be', 'the', 'hibit', 'pixel', 'art', 'play', 'a', 'ol', 'screw', 'top', 'head', 'a', 'you', 'seek', 'penance', 'something', 'something', 'catholic', 'misery']\n",
      "['hard', 'to', 'get', 'into', 'but', 'fun', 'to', 'mess', 'around', 'in']\n",
      "['only', 'game', 'ive', 'had', 'a', 'lot', 'of', 'fun', 'playing', 'in', 'a', 'long', 'time']\n",
      "['it', 'wa', 'okay', 'just', 'a', 'little', 'tho']\n",
      "['best', 'total', 'war', 'so', 'far', 'cant', 'recommend', 'it', 'enough', 'very', 'well', 'optimized', 'a', 'well', 'gj', 'ca']\n",
      "['this', 'game', 'is', 'just', 'amazing', 'ok', 'xd', 'nothing', 'more', 'is', 'needed', 'to', 'be', 'said']\n",
      "['business', 'tour', 'its', 'a', 'funny', 'game', 'especially', 'when', 'you', 'play', 'with', 'your', 'friend', 'if', 'you', 'dont', 'get', 'angry', 'everything', 'will', 'be', 'fine']\n",
      "['this', 'wa', 'the', 'first', 'time', 'i', 'ever', 'played', 'bioshock', 'and', 'i', 'wa', 'instantly', 'hooked', 'i', 'love', 'it']\n",
      "['very', 'good', 'game', 'i', 'love', 'this', 'game']\n",
      "['start', 'wallpaper', 'engine', 'stare', 'at', 'your', 'screen']\n",
      "['an', 'excellent', 'well', 'round', 'game', 'that', 'manages', 'to', 'retain', 'all', 'the', 'accuracy', 'required', 'to', 'make', 'it', 'an', 'in', 'depth', 'simulator', 'would', 'highly', 'recommend', 'this', 'anyone', 'whether', 'you', 'are', 'starting', 'out', 'building', 'your', 'first', 'pc', 'or', 'a', 'wizard', 'wanting', 'to', 'play', 'around', 'with', 'all', 'manner', 'of', 'hardware', 'configuration', 'there', 'is', 'something', 'for', 'everyone']\n",
      "['very', 'good', 'game', 'it', 'frase', 'for', 'the', 'item', 'sistem', 'is', 'will', 'keep', 'you', 'playing', 'forever']\n",
      "['its', 'a', 'good', 'game', 'you', 'are', 'willing', 'to', 'put', 'in', 'the', 'hour', 'and', 'practice']\n",
      "['best', 'game', 'to', 'play', 'with', 'your', 'family']\n",
      "['not', 'the', 'best', 'one', 'of', 'the', 'series', 'still', 'great', 'especially', 'enjoyed', 'the', 'stealth', 'part']\n",
      "['i', 'love', 'the', 'game', 'so', 'far', 'but', 'there', 'are', 'a', 'few', 'thing', 'that', 'i', 'want', 'to', 'nitpick', 'on', 'st', 'the', 'search', 'engine', 'for', 'downloading', 'map', 'is', 'so', 'weird', 'its', 'inconsistent', 'for', 'me', 'say', 'i', 'saw', 'a', 'map', 'but', 'i', 'wasnt', 'able', 'to', 'download', 'it', 'and', 'i', 'search', 'the', 'title', 'of', 'the', 'song', 'the', 'map', 'doesnt', 'show', 'up', 'even', 'though', 'i', 'just', 'saw', 'the', 'map', 'or', 'if', 'i', 'type', 'in', 'the', 'word', 'party', 'it', 'show', 'me', 'song', 'that', 'doesnt', 'even', 'have', 'the', 'word', 'party', 'in', 'it', 'nd', 'i', 'think', 'the', 'accuracy', 'meter', 'is', 'a', 'little', 'forgiving', 'sometimes', 'i', 'would', 'press', 'a', 'key', 'very', 'late', 'and', 'it', 'still', 'counted', 'the', 'note', 'in', 'the', 'combo', 'hopefully', 'they', 'make', 'the', 'accuracy', 'meter', 'more', 'strict', 'with', 'the', 'timing', 'overall', 'i', 'would', 'very', 'much', 'recommend', 'this', 'game', 'and', 'encourage', 'everyone', 'who', 'is', 'into', 'vsrg', 'to', 'play', 'it', 'and', 'maybe', 'even', 'support', 'the', 'devs']\n",
      "['ive', 'had', 'a', 'lot', 'of', 'fun', 'with', 'this', 'game', 'so', 'far', 'the', 'playerbase', 'is', 'growing', 'and', 'it', 'definitely', 'an', 'enjoyable', 'experience', 'when', 'playing', 'with', 'others', 'the', 'concept', 'mechanic', 'and', 'overall', 'gameplay', 'is', 'simple', 'but', 'the', 'game', 'shine', 'in', 'it', 'intriguing', 'social', 'aspect', 'the', 'd', 'design', 'and', 'camera', 'work', 'could', 'be', 'improved', 'but', 'the', 'card', 'artwork', 'is', 'excellent', 'the', 'sound', 'is', 'good', 'and', 'the', 'atmospheric', 'music', 'along', 'with', 'the', 'announcer', 'voice', 'add', 'to', 'the', 'overall', 'experience', 'it', 'took', 'me', 'about', 'an', 'hour', 'to', 'understand', 'most', 'of', 'the', 'basic', 'card', 'and', 'rule', 'understanding', 'how', 'everything', 'work', 'together', 'and', 'the', 'various', 'role', 'is', 'part', 'of', 'the', 'challenge', 'but', 'i', 'think', 'it', 'also', 'add', 'to', 'the', 'enjoyment', 'i', 'wa', 'a', 'bit', 'confused', 'at', 'time', 'on', 'what', 'my', 'role', 'wa', 'and', 'how', 'i', 'should', 'react', 'in', 'certain', 'situation', 'but', 'that', 'encouraged', 'me', 'to', 'try', 'to', 'be', 'creative', 'when', 'i', 'wa', 'challenged', 'on', 'my', 'identity', 'theres', 'plenty', 'of', 'help', 'available', 'but', 'just', 'joining', 'in', 'with', 'others', 'is', 'a', 'good', 'way', 'to', 'help', 'you', 'get', 'a', 'crashcourse', 'in', 'learning', 'the', 'basic', 'get', 'some', 'friend', 'together', 'and', 'play', 'a', 'few', 'hand', 'youre', 'likely', 'to', 'have', 'a', 'good', 'time']\n",
      "['the', 'game', 'ha', 'been', 'ripped', 'off', 'hated', 'bad', 'update', 'and', 'much', 'more', 'but', 'this', 'game', 'will', 'always', 'be', 'my', 'number', 'it', 'ha', 'been', 'adapted', 'and', 'developed', 'so', 'well', 'over', 'the', 'past', 'year', 'and', 'from', 'the', 'beginning', 'when', 'i', 'am', 'bored', 'or', 'have', 'nothing', 'to', 'do', 'i', 'launch', 'tf', 'tf', 'is', 'such', 'a', 'game', 'that', 'you', 'can', 'cling', 'on', 'to', 'overall', 'best', 'game', 'i', 'have', 'ever', 'played', 'out', 'of']\n",
      "['workshop']\n",
      "['grand', 'theft', 'bugs', 'v']\n",
      "['le', 'jeux', 'trs', 'bien', 'trs', 'cool', 'sauf', 'quand', 'tu', 'as', 'de', 'sputains', 'de', 'montees', 'de', 'ping', 'a', 'alors', 'que', 'tu', 'as', 'la', 'putain', 'de', 'fibre']\n",
      "['bad', 'game', 'in', 'the', 'world']\n",
      "['never', 'buying', 'anything', 'by', 'daybreak']\n",
      "['i', 'wa', 'unable', 'to', 'play', 'this', 'game', 'it', 'launched', 'and', 'played', 'the', 'intro', 'video', 'but', 'it', 'wouldnt', 'accept', 'any', 'keyboard', 'input', 'on', 'the', 'screen', 'where', 'i', 'would', 'enter', 'the', 'serial', 'number', 'i', 'tried', 'applying', 'the', 'patch', 'running', 'in', 'compatibility', 'mode', 'and', 'downloading', 'nglide', 'a', 'mentioned', 'in', 'the', 'discussion', 'post', 'but', 'an', 'not', 'willing', 'to', 'invest', 'any', 'more', 'time', 'in', 'troubleshooting', 'this', 'game']\n",
      "['bitmonster', 'senior', 'developer', 'are', 'u', 'all', 'dead', 'last', 'update']\n",
      "['cof', 'storyline', 'is', 'so', 'boring', 'and', 'isnt', 'scary', 'at', 'all', 'lag', 'glitch', 'bug', 'crash', 'etc', 'most', 'of', 'em', 'i', 'fixed', 'but', 'still', 'buggy', 'graphics', 'this', 'game', 'make', 'you', 'mad', 'sick', 'and', 'depression', 'it', 'ha', 'the', 'old', 'resident', 'evil', 'games', 'mechanic', 'i', 'like', 're', 'btw', 'but', 'at', 'least', 'the', 'uninstall', 'button', 'work']\n",
      "['this', 'is', 'an', 'open', 'letter', 'aimed', 'at', 'revealing', 'the', 'censorship', 'going', 'on', 'right', 'now', 'by', 'the', 'chinese', 'mod', 'which', 'taleworlds', 'is', 'oblivious', 'to', 'this', 'is', 'a', 'good', 'game', 'but', 'it', 'doesnt', 'mean', 'will', 'make', 'me', 'kowtow', 'to', 'china', 'this', 'virus', 'is', 'from', 'china', 'wuhan', 'ccp', 'can', 'lie', 'to', 'your', 'people', 'but', 'cant', 'lie', 'u', 'welcome', 'to', 'ban', 'me', 'in', 'online', 'mode', 'the', 'developer', 'must', 'to', 'pay', 'for', 'what', 'they', 'do', 'to', 'stop', 'the', 'freedom', 'of', 'speech']\n",
      "['used', 'to', 'be', 'a', 'good', 'game', 'but', 'all', 'the', 'update', 'hava', 'ruined', 'it', 'over', 'time']\n",
      "['i', 'need', 'a', 'review', 'uff', 'ya']\n",
      "['got', 'it', 'from', 'a', 'freebie', 'loving', 'friend', 'a', 'a', 'gift', 'redeemed', 'tried', 'it', 'on', 'k', 'nope', 'tried', 'it', 'on', 'k', 'nope', 'dont', 'even', 'try', 'this', 'on', 'vr', 'unless', 'you', 'wanna', 'puke', 'its', 'basically', 'an', 'apple', 'and', 'shell', 'collecting', 'simulator', 'and', 'a', 'very', 'very', 'unoptimized', 'glitchy', 'piece', 'of', 'at', 'that', 'too', 'theres', 'nothing', 'mmo', 'about', 'it', 'so', 'the', 'title', 'is', 'misleading', 'apparently', 'the', 'dev', 'bribing', 'people', 'for', 'review', 'on', 'top', 'of', 'that', 'everything', 'about', 'this', 'is', 'just', 'wrong', 'if', 'you', 'somehow', 'got', 'it', 'a', 'a', 'gift', 'or', 'by', 'some', 'mistake', 'and', 'past', 'the', 'point', 'of', 'refund', 'leave', 'it', 'to', 'idle', 'master', 'to', 'rip', 'the', 'card', 'out', 'of', 'it', 'carcass', 'and', 'then', 'shoot', 'it', 'in', 'it', 'glitchy', 'pixel', 'head', 'and', 'then', 'cleanse', 'it', 'with', 'fire', 'just', 'to', 'make', 'sure', 'it', 'dead', 'and', 'stay', 'that', 'way']\n",
      "['johnny', 'doe', 'not', 'like', 'glitchy', 'game', 'johnny', 'doe', 'not', 'like', 'uplay', 'johnny', 'had', 'to', 'use', 'window', 'compatibility', 'mode', 'because', 'started', 'crashing', 'johnny', 'did', 'not', 'have', 'fun']\n",
      "['this', 'game', 'is', 'like', 'real', 'life', 'those', 'who', 'are', 'trying', 'to', 'earn', 'some', 'money', 'to', 'buy', 'themselves', 'a', 'decent', 'apartmentcar', 'will', 'be', 'constantly', 'killed', 'camped', 'and', 'abused', 'by', 'those', 'who', 'swim', 'in', 'a', 'pool', 'full', 'of', 'money', 'not', 'to', 'mention', 'how', 'horrible', 'developer', 'are', 'by', 'taking', 'money', 'from', 'people', 'that', 'earned', 'it', 'legit', 'because', 'of', 'modder', 'issue', 'i', 'wouldnt', 'recommend', 'you', 'this', 'game', 'unless', 'you', 'have', 'a', 'crew', 'to', 'play', 'with', 'because', 'it', 'impossible', 'to', 'play', 'alone']\n",
      "['get', 'this', 'thing', 'away', 'from', 'me', 'forever', 'please', 'it', 'scare', 'me']\n",
      "['nobody', 'play', 'this', 'game', 'cuz', 'it', 'free']\n",
      "['the', 'base', 'gameplay', 'is', 'alright', 'the', 'shooting', 'is', 'fun', 'enough', 'and', 'the', 'very', 'wellmade', 'animation', 'never', 'seem', 'to', 'become', 'tiresome', 'to', 'watch', 'everything', 'else', 'wasnt', 'done', 'right', 'my', 'biggest', 'gripe', 'is', 'exploration', 'while', 'the', 'game', 'start', 'strong', 'in', 'this', 'regard', 'soon', 'enough', 'the', 'level', 'design', 'becomes', 'nothing', 'more', 'than', 'a', 'series', 'of', 'gauntlet', 'room', 'that', 'are', 'connected', 'by', 'oneway', 'drop', 'and', 'door', 'even', 'though', 'there', 'is', 'absolutely', 'no', 'reason', 'why', 'they', 'need', 'to', 'be', 'oneway', 'if', 'you', 'decide', 'you', 'want', 'to', 'go', 'back', 'and', 'look', 'for', 'some', 'secret', 'you', 'have', 'to', 'restart', 'the', 'entire', 'level', 'and', 'sit', 'through', 'all', 'the', 'unskippable', 'cutscenes', 'again', 'it', 'doesnt', 'help', 'that', 'there', 'are', 'no', 'manual', 'save', 'only', 'checkpoint', 'and', 'there', 'are', 'plenty', 'of', 'bottomless', 'pit', 'to', 'fall', 'into', 'so', 'if', 'you', 'are', 'the', 'sort', 'of', 'person', 'who', 'prefers', 'to', 'explore', 'every', 'nook', 'and', 'cranny', 'over', 'using', 'a', 'guide', 'get', 'ready', 'to', 'restart', 'from', 'some', 'annoying', 'checkpoint', 'lot', 'of', 'time', 'also', 'one', 'of', 'the', 'collectible', 'us', 'a', 'reference', 'to', 'the', 'original', 'game', 'so', 'if', 'you', 'never', 'played', 'that', 'you', 'are', 'very', 'unlikely', 'to', 'find', 'it', 'the', 'challenge', 'feel', 'more', 'like', 'fetch', 'quest', 'than', 'challenge', 'annoying', 'chore', 'that', 'discourage', 'you', 'to', 'approach', 'fight', 'the', 'way', 'youd', 'want', 'to', 'and', 'on', 'top', 'of', 'all', 'that', 'most', 'of', 'the', 'time', 'you', 'have', 'to', 'look', 'at', 'the', 'game', 'through', 'a', 'horrible', 'looking', 'piss', 'filter', 'the', 'original', 'doom', 'game', 'used', 'plenty', 'of', 'colour', 'including', 'vibrant', 'blue', 'in', 'this', 'one', 'you', 'dont', 'get', 'anything', 'other', 'than', 'gray', 'and', 'orange', 'dont', 'pay', 'full', 'price', 'for', 'this']\n",
      "['kiyv', 'not', 'commiestyle', 'kiev', 'since', 'when', 'doe', 'ukrainian', 'kherson', 'belong', 'to', 'russia', 'im', 'going', 'for', 'refund', 'now', 'dear', 'ignorant', 'devs']\n",
      "['this', 'game', 'although', 'being', 'the', 'original', 'is', 'bad', 'it', 'ha', 'about', 'main', 'level', 'and', 'then', 'after', 'that', 'there', 'is', 'nothing', 'to', 'do', 'the', 'level', 'editor', 'is', 'for', 'personal', 'use', 'only', 'and', 'if', 'you', 'are', 'looking', 'to', 'play', 'more', 'level', 'you', 'cant', 'i', 'advise', 'just', 'getting', 'geometry', 'dash', 'much', 'better']\n",
      "['this', 'game', 'gave', 'me', 'cancer']\n",
      "['not', 'much', 'too', 'do', 'right', 'now', 'wait', 'until', 'they', 'add', 'thing', 'to', 'do']\n",
      "['the', 'game', 'is', 'really', 'good', 'and', 'all', 'but', 'the', 'melee', 'fighting', 'and', 'the', 'community', 'are', 'pretty', 's', 'h', 'i', 't', 'melee', 'is', 'so', 'bad', 'that', 'often', 'you', 'will', 'see', 'people', 'moving', 'in', 'circle', 'trying', 'to', 'stab', 'each', 'other', 'community', 'is', 'really', 'toxic', 'many', 'time', 'you', 'will', 'hear', 'earrape', 'one', 'time', 'when', 'i', 'wa', 'playing', 'some', 'changed', 'his', 'name', 'into', 'mine', 'and', 'then', 'he', 'started', 'the', 'earrape', 'and', 'guess', 'who', 'wa', 'kicked', 'from', 'the', 'server']\n",
      "['yarrak', 'gb', 'oyun', 'alanin', 'akli', 'yoktur', 'amini', 'skeym', 'byle', 'oyunun']\n",
      "['trash', 'game', 'it', 'start', 'on', 'my', 'nd', 'monitor', 'when', 'trying', 'to', 'put', 'on', 'first', 'monitor', 'it', 'crash', 'waste', 'of', 'the']\n",
      "['they', 'could', 'have', 'done', 'better', 'job', 'with', 'the', 'audio', 'and', 'really', 'walk', 'you', 'trough', 'the', 'story', 'with', 'a', 'little', 'more', 'information', 'about', 'the', 'two', 'fella', 'and', 'make', 'the', 'gameplay', 'a', 'little', 'more', 'enjoyable', 'overall', 'it', 'a', 'great', 'game', 'if', 'you', 'like', 'raw', 'combat', 'its', 'just', 'not', 'for', 'me', 'id', 'like', 'if', 'they', 'implemented', 'more', 'combat', 'skill', 'which', 'you', 'could', 'unlock', 'like', 'in', 'other', 'game', 'have', 'a', 'wonderful', 'day']\n",
      "['game', 'in', 'short', 'war', 'thunder', 'but', 'in', 'bad', 'pros', 'modern', 'tank', 'i', 'guess', 'no', 'long', 'waiting', 'time', 'for', 'match', 'cons', 'bad', 'graphic', 'decent', 'perfomance', 'awful', 'physics', 'fly', 'bugswhat', 'the', 'hell', 'boring', 'gameplaymostly', 'point', 'and', 'shoot', 'only', 'reason', 'you', 'should', 'play', 'it', 'if', 'war', 'thunder', 'and', 'world', 'of', 'tanks', 'dont', 'work', 'on', 'your', 'os', 'like', 'me']\n",
      "['cant', 'play', 'the', 'game', 'if', 'driver', 'signature', 'enforcement', 'is', 'disabled']\n",
      "['i', 'like', 'the', 'game', 'but', 'it', 'would', 'be', 'nice', 'to', 'get', 'more', 'help', 'in', 'the', 'kitchen', 'to', 'take', 'care', 'of', 'the', 'thief', 'and', 'homeless', 'also', 'once', 'youve', 'done', 'the', 'campaign', 'on', 'single', 'player', 'you', 'cant', 'go', 'any', 'further', 'because', 'even', 'though', 'it', 'say', 'coop', 'recommended', 'it', 'is', 'actually', 'required', 'to', 'do', 'the', 'endless', 'and', 'challenge', 'so', 'basically', 'unless', 'you', 'have', 'friend', 'who', 'have', 'this', 'game', 'to', 'play', 'with', 'once', 'youve', 'done', 'the', 'campaign', 'you', 'cant', 'go', 'any', 'further', 'and', 'you', 'have', 'to', 'buy', 'sushi', 'bros']\n",
      "['ram', 'ps']\n",
      "['mods', 'killed', 'this', 'game', 'but', 'then', 'again', 'so', 'did', 'the', 'stamnia', 'bar']\n",
      "['theres', 'a', 'lot', 'of', 'manure', 'in', 'this', 'fact', 'it', 'appears', 'to', 'be', 'made', 'entirely', 'of', 'manure']\n",
      "['worst', 'game', 'in', 'whole', 'of', 'the', 'call', 'of', 'duty', 'series']\n",
      "['take', 'two', 'ha', 'taken', 'it', 'upon', 'themselves', 'to', 'drive', 'their', 'game', 'into', 'the', 'ground', 'its', 'going', 'well', 'so', 'far', 'also', 'ive', 'played', 'over', 'hour', 'of', 'this', 'game', 'and', 'i', 'dont', 'see', 'why', 'they', 'felt', 'the', 'need', 'to', 'send', 'out', 'cease', 'and', 'decists', 'to', 'modders', 'after', 'all', 'this', 'time', 'or', 'even', 'at', 'all', 'please', 'fix']\n",
      "['this', 'game', 'is', 'the', 'opposite', 'of', 'fun', 'it', 'is', 'very', 'boring', 'and', 'the', 'task', 'are', 'a', 'waste', 'of', 'time', 'with', 'timer', 'on', 'them', 'if', 'you', 'want', 'a', 'real', 'game', 'get', 'some', 'hentai', 'game', 'on', 'steam', 'they', 'have', 'better', 'story', 'and', 'are', 'good', 'looking', 'private', 'part', 'of', 'female', 'this', 'game', 'is', 'easy', 'to', 'beat', 'and', 'after', 'i', 'have', 'completed', 'everything', 'without', 'cheat', 'engine', 'and', 'a', 'save', 'file', 'from', 'a', 'random', 'person', 'on', 'youtube', 'everything', 'feel', 'so', 'boring', 'the', 'price', 'for', 'this', 'game', 'is', 'a', 'joke', 'it', 'should', 'be', 'cheaper', 'or', 'just', 'wait', 'for', 'it', 'to', 'be', 'on', 'sale', 'the', 'lego', 'jurassic', 'park', 'game', 'wa', 'more', 'fun', 'than', 'this', 'horrific', 'dead', 'island', 'of', 'a', 'game', 'i', 'hope', 'that', 'you', 'can', 'read', 'my', 'comment', 'and', 'understand', 'that', 'this', 'dinosaur', 'stink', 'bomb', 'of', 'a', 'game', 'is', 'not', 'worth', 'your', 'hard', 'earned', 'money', 'i', 'personally', 'wasted', 'so', 'much', 'in', 'the', 'dlc', 'and', 'the', 'game', 'itself', 'because', 'i', 'am', 'rich', 'like', 'that', 'but', 'because', 'you', 'are', 'on', 'steam', 'i', 'know', 'you', 'are', 'the', 'broke', 'thing', 'that', 'walk', 'and', 'sits', 'make', 'sure', 'to', 'subscribe', 'and', 'leave', 'a', 'comment', 'on', 'which', 'part', 'of', 'my', 'stream', 'wa', 'your', 'favorite', 'mine', 'personally', 'wa', 'when', 'the', 'dinosaur', 'game', 'stole', 'my', 'money', 'and', 'steam', 'said', 'no', 'to', 'my', 'refund']\n",
      "['this', 'game', 'used', 'to', 'be', 'especially', 'with', 'mod', 'with', 'the', 'oct', 'th', 'update', 'note', 'turn', 'at', 'the', 'last', 'second', 'to', 'straight', 'up', 'and', 'down', 'the', 'new', 'screen', 'are', 'pretty', 'to', 'look', 'at', 'but', 'the', 'gameplay', 'is', 'not', 'nearly', 'a', 'fun', 'a', 'it', 'used', 'to', 'be', 'would', 'not', 'recommend', 'anymore', 'at', 'point', 'it', 'is', 'unbearably', 'annoying', 'to', 'play', 'now']\n",
      "['i', 'have', 'no', 'clue', 'how', 'to', 'play', 'a', 'racing', 'game', 'that', 'is', 'clearly', 'designed', 'for', 'only', 'the', 'most', 'skilled', 'player', 'with', 'the', 'best', 'equipment', 'from', 'the', 'very', 'start', 'well', 'no', 'not', 'really', 'from', 'the', 'very', 'start', 'its', 'only', 'revealed', 'how', 'even', 'moderately', 'skilled', 'player', 'are', 'weeded', 'out', 'after', 'the', 'second', 'hour', 'coincidence', 'i', 'think', 'not', 'even', 'though', 'i', 'got', 'it', 'on', 'sale', 'i', 'seriously', 'regret', 'the', 'purchase', 'and', 'the', 'days', 'of', 'dling', 'a', 'gb', 'game', 'and', 'it', 'just', 'a', 'hair', 'too', 'late', 'for', 'a', 'refund', 'and', 'this', 'from', 'someone', 'who', 'almost', 'certainly', 'is', 'bordering', 'on', 'racing', 'hour', 'on', 'steam', 'though', 'many', 'are', 'offline', 'even', 'the', 'couple', 'of', 'hundred', 'hour', 'in', 'the', 'original', 'dirt', 'rally', 'didnt', 'prepare', 'for', 'the', 'frustrating', 'hopelessness', 'of', 'dirt', 'rally', 'racing', 'at', 'night', 'with', 'no', 'light', 'of', 'any', 'kind', 'made', 'available', 'by', 'any', 'mean', 'are', 'you', 'fracking', 'kidding', 'me', 'apparently', 'not', 'very', 'disappointing']\n",
      "['even', 'though', 'the', 'game', 'got', 'updated', 'recently', 'there', 'are', 'not', 'enough', 'content', 'game', 'mode', 'model', 'map', 'and', 'etc', 'to', 'play', 'this', 'game', 'with', 'others', 'sure', 'you', 'can', 'buy', 'the', 'game', 'during', 'a', 'sale', 'or', 'when', 'it', 'ha', 'a', 'discount', 'but', 'buying', 'garrys', 'mod', 'would', 'be', 'a', 'better', 'option', 'due', 'to', 'the', 'amount', 'of', 'workshop', 'content', 'it', 'ha', 'compared', 'to', 'this', 'game']\n",
      "['i', 'wouldnt', 'buy', 'any', 'of', 'their', 'game', 'at', 'all', 'dont', 'buy', 'guy', 'the', 'price', 'they', 'say', 'is', 'lie', 'just', 'wait', 'couple', 'week', 'it', 'will', 'be', 'half', 'price']\n",
      "['i', 'bought', 'this', 'off', 'humble', 'bundle', 'so', 'i', 'cant', 'get', 'my', 'money', 'back', 'for', 'this', 'abortion']\n",
      "['might', 'be', 'good', 'if', 'u', 'like', 'puzzle', 'game']\n",
      "['checkmate', 'atheist']\n",
      "['pros', 'good', 'graphic', 'a', 'good', 'recreation', 'of', 'the', 'maplestory', 'world', 'into', 'd', 'player', 'made', 'item', 'house', 'building', 'removal', 'of', 'fair', 'fight', 'social', 'system', 'and', 'guild', 'the', 'mount', 'are', 'a', 'little', 'bit', 'of', 'fun', 'cons', 'unintresting', 'and', 'uninspiring', 'quest', 'some', 'might', 'be', 'but', 'not', 'alot', 'are', 'destinyesuske', 'loot', 'based', 'system', 'of', 'unrewarding', 'proportion', 'daily', 'cap', 'on', 'almost', 'everything', 'not', 'very', 'good', 'keyboard', 'and', 'mouse', 'support', 'skill', 'varity', 'is', 'lacking', 'comparitive', 'to', 'the', 'last', 'game', 'no', 'second', 'or', 'futher', 'job', 'advancement', 'comparitive', 'to', 'last', 'game', 'level', 'cap', 'is', 'far', 'le', 'than', 'it', 'wa', 'last', 'time', 'decreasing', 'overall', 'leveling', 'frequency', 'membership', 'being', 'le', 'than', 'worth', 'it', 'basic', 'event', 'guild', 'progression', 'costing', 'far', 'too', 'many', 'mesos', 'the', 'grind', 'for', 'material', 'to', 'upgrade', 'weapon', 'the', 'unrewarding', 'randomisation', 'of', 'loot', 'from', 'high', 'end', 'dungions', 'the', 'dungeon', 'reward', 'cap', 'the', 'devs', 'the', 'ever', 'sinking', 'player', 'count', 'suggestions', 'remove', 'all', 'cap', 'on', 'everything', 'make', 'loot', 'more', 'rewarding', 'for', 'dungeon', 'make', 'the', 'game', 'le', 'like', 'destiny', 'make', 'better', 'quest', 'final', 'verdict', 'while', 'i', 'will', 'be', 'occasionaly', 'replaying', 'and', 'will', 'rewrite', 'the', 'review', 'a', 'thing', 'change', 'currently', 'i', 'can', 'absoulutely', 'not', 'reccomend', 'this', 'game', 'to', 'anyone', 'due', 'to', 'the', 'massive', 'change', 'from', 'the', 'last', 'game', 'and', 'due', 'to', 'it', 'not', 'really', 'having', 'much', 'stregnth', 'to', 'stand', 'on', 'it', 'own', 'even', 'seen', 'a', 'a', 'standalone', 'mmorpg', 'due', 'to', 'it', 'various', 'tendancys', 'to', 'try', 'to', 'follow', 'the', 'mmoprger', 'market', 'final', 'score', 'whenever', 'it', 'fun', 'it', 'a']\n",
      "['game', 'will', 'not', 'start', 'in', 'fullscreen', 'mode', 'checked', 'the', 'discussion', 'section', 'and', 'most', 'people', 'are', 'having', 'this', 'exact', 'issue', 'good', 'thing', 'is', 'that', 'there', 'is', 'a', 'workaround', 'that', 'seems', 'to', 'work', 'for', 'some', 'you', 'need', 'to', 'set', 'the', 'exe', 'file', 'of', 'the', 'game', 'compatible', 'with', 'windows', 'xp', 'via', 'property', 'ok', 'good', 'i', 'got', 'the', 'game', 'running', 'but', 'now', 'i', 'ran', 'into', 'issue', 'with', 'the', 'game', 'not', 'recognizing', 'gamepad', 'inputper', 'the', 'discussion', 'section', 'there', 'isnt', 'a', 'straightforward', 'solution', 'to', 'this', 'worst', 'of', 'all', 'the', 'developer', 'openly', 'admits', 'these', 'issue', 'but', 'ha', 'stated', 'that', 'the', 'game', 'is', 'no', 'longer', 'supported', 'and', 'no', 'fix', 'will', 'be', 'provided', 'because', 'of', 'the', 'older', 'game', 'engine', 'at', 'that', 'point', 'why', 'not', 'remove', 'this', 'from', 'the', 'steam', 'store', 'instead', 'of', 'trying', 'to', 'cash', 'in', 'on', 'a', 'completely', 'broken', 'game']\n",
      "['forsaken', 'gave', 'me', 'hope', 'that', 'destiny', 'would', 'finally', 'achieve', 'the', 'greatness', 'that', 'destiny', 'wa', 'after', 'it', 'last', 'dlc', 'even', 'more', 'so', 'when', 'bungie', 'finally', 'split', 'with', 'activision', 'which', 'made', 'me', 'think', 'at', 'first', 'that', 'everything', 'is', 'going', 'to', 'be', 'great', 'from', 'now', 'on', 'i', 'thought', 'shadowkeep', 'wa', 'not', 'just', 'going', 'to', 'be', 'a', 'good', 'dlc', 'but', 'also', 'a', 'positive', 'turning', 'point', 'for', 'the', 'series', 'so', 'i', 'immediately', 'bought', 'the', 'entire', 'season', 'pass', 'bundle', 'but', 'sadly', 'destiny', 'ha', 'disappointed', 'me', 'much', 'more', 'than', 'it', 'ha', 'positively', 'surprised', 'me', 'the', 'new', 'seasons', 'just', 'suck', 'the', 'new', 'content', 'isnt', 'content', 'let', 'alone', 'new', 'content', 'you', 'basically', 'are', 'just', 'playing', 'old', 'stuff', 'to', 'earn', 'old', 'stuff', 'with', 'a', 'few', 'new', 'thing', 'mixed', 'in', 'season', 'passes', 'should', 'atleast', 'come', 'with', 'a', 'strike', 'crucible', 'map', 'and', 'a', 'gambit', 'map', 'even', 'that', 'is', 'such', 'a', 'bare', 'minimum', 'but', 'instead', 'we', 'get', 'to', 'grind', 'bounties', 'which', 'is', 'definitely', 'the', 'type', 'of', 'grind', 'ive', 'been', 'always', 'looking', 'for', 'the', 'new', 'content', 'is', 'either', 'just', 'a', 'new', 'horde', 'mode', 'or', 'gear', 'that', 'they', 'recycled', 'from', 'destiny', 'and', 'if', 'they', 'add', 'actual', 'new', 'gear', 'that', 'also', 'look', 'cool', 'it', 'almost', 'always', 'is', 'something', 'from', 'the', 'eververse', 'taking', 'for', 'example', 'with', 'shadowkeeps', 'launch', 'we', 'have', 'the', 'launch', 'of', 'a', 'new', 'raid', 'garden', 'of', 'salvation', 'a', 'garden', 'vex', 'based', 'raid', 'that', 'ha', 'u', 'fighting', 'our', 'way', 'through', 'the', 'mysterious', 'black', 'garden', 'from', 'd', 'within', 'it', 'we', 'get', 'a', 'reskinned', 'set', 'of', 'armour', 'a', 'new', 'exotic', 'weapon', 'quest', 'some', 'kinetic', 'and', 'energy', 'weapon', 'and', 'god', 'forbid', 'why', 'there', 'is', 'no', 'heavy', 'weapon', 'is', 'beyond', 'me', 'a', 'very', 'below', 'average', 'loot', 'pool', 'i', 'would', 'say', 'for', 'a', 'newly', 'released', 'expansion', 'raid', 'however', 'there', 'is', 'no', 'ship', 'no', 'sparrow', 'and', 'no', 'ghost', 'within', 'this', 'raid', 'except', 'what', 'should', 'be', 'considered', 'the', 'ship', 'and', 'sparrow', 'for', 'this', 'raid', 'is', 'locked', 'behind', 'the', 'premium', 'tier', 'of', 'the', 'season', 'pas', 'and', 'a', 'vex', 'harpy', 'ghost', 'shell', 'harpers', 'shell', 'can', 'be', 'purchased', 'from', 'eververse', 'why', 'wasnt', 'any', 'of', 'this', 'moved', 'to', 'help', 'fill', 'the', 'absence', 'of', 'loot', 'in', 'a', 'end', 'game', 'activity', 'honestly', 'there', 'need', 'to', 'be', 'some', 'kind', 'of', 'respect', 'put', 'towards', 'these', 'cosmetic', 'bungie', 'if', 'you', 'are', 'designing', 'something', 'that', 'is', 'themed', 'to', 'a', 'certain', 'activity', 'or', 'season', 'dont', 'hide', 'it', 'behind', 'a', 'eververse', 'paywall', 'and', 'actually', 'put', 'it', 'down', 'a', 'a', 'earnable', 'reward', 'in', 'activites', 'it', 'show', 'that', 'we', 'have', 'gone', 'and', 'earned', 'them', 'through', 'either', 'a', 'loot', 'drop', 'in', 'a', 'end', 'game', 'activity', 'or', 'like', 'youve', 'done', 'before', 'certain', 'high', 'tier', 'triumph', 'so', 'a', 'they', 'are', 'not', 'a', 'rng', 'loot', 'dependant', 'why', 'not', 'have', 'the', 'thorn', 'ornament', 'a', 'a', 'reward', 'for', 'solo', 'flawless', 'creates', 'a', 'sense', 'ofpride', 'and', 'accomplishment', 'for', 'doing', 'so', 'rather', 'then', 'just', 'an', 'emblem', 'before', 'finishing', 'this', 'review', 'i', 'quickly', 'just', 'want', 'to', 'point', 'out', 'a', 'few', 'other', 'thing', 'surprisingly', 'small', 'trials', 'pool', 'with', 'the', 'armor', 'being', 'yet', 'another', 'reskin', 'no', 'ritual', 'weapon', 'quite', 'a', 'lot', 'of', 'hacker', 'more', 'error', 'code', 'than', 'you', 'could', 'humanly', 'count', 'still', 'no', 'vendor', 'refresh', 'this', 'season', 'is', 'a', 'bounty', 'simulator', 'again', 'strikes', 'are', 'still', 'useless', 'after', 'years', 'of', 'feedback', 'another', 'season', 'without', 'a', 'raid', 'with', 'no', 'word', 'of', 'how', 'often', 'we', 'can', 'expect', 'them', 'or', 'even', 'when', 'we', 'can', 'expect', 'the', 'next', 'one', 'eververse', 'seems', 'to', 'get', 'the', 'most', 'attention', 'looks', 'like', 'the', 'only', 'balance', 'bungie', 'really', 'care', 'about', 'is', 'the', 'one', 'for', 'my', 'bank', 'account', 'just', 'the', 'general', 'amount', 'and', 'quality', 'of', 'content', 'is', 'lacking', 'it', 'honestly', 'feel', 'like', 'destiny', 'ha', 'been', 'in', 'a', 'slow', 'decline', 'since', 'they', 'parted', 'way', 'with', 'activision', 'because', 'at', 'that', 'time', 'they', 'got', 'someone', 'to', 'put', 'pressure', 'on', 'them', 'to', 'make', 'actual', 'content', 'wether', 'the', 'content', 'wa', 'good', 'or', 'not', 'it', 'wa', 'still', 'content', 'and', 'not', 'hour', 'of', 'bounty', 'grinding', 'which', 'doesnt', 'mean', 'that', 'i', 'want', 'them', 'back', 'because', 'the', 'eververse', 'is', 'already', 'bad', 'enough', 'edit', 'the', 'new', 'event', 'guardian', 'games', 'is', 'about', 'deciding', 'which', 'class', 'is', 'the', 'best', 'one', 'not', 'by', 'doing', 'challenge', 'that', 'take', 'skill', 'and', 'would', 'be', 'fun', 'but', 'by', 'boring', 'bounty', 'grinding', 'bungie', 'is', 'really', 'putting', 'a', 'hell', 'lot', 'of', 'effort', 'into', 'these', 'huh']\n",
      "['shame', 'it', 'so', 'bugged', 'it', 'wa', 'a', 'good', 'idea']\n",
      "['suck', 'dev', 'suck', 'more']\n",
      "['game', 'look', 'really', 'nice', 'for', 'the', 'time', 'it', 'came', 'out', 'but', 'it', 'optimized', 'badly', 'and', 'suck']\n",
      "['if', 'a', 'server', 'ha', 'an', 'inactive', 'mod', 'or', 'the', 'server', 'doe', 'not', 'run', 'on', 'a', 'good', 'engine', 'the', 'whole', 'game', 'is', 'not', 'even', 'playable', 'cause', 'the', 'extreme', 'lagg', 'u', 'have', 'my', 'gaming', 'pc', 'is', 'over', 'euro', 'this', 'game', 'is', 'just', 'up']\n",
      "['not', 'that', 'great', 'if', 'you', 'want', 'to', 'play', 'ww', 'game', 'play', 'rising', 'storm', 'it', 'is', 'better', 'than', 'this']\n"
     ]
    }
   ],
   "source": [
    "for sentence in reviews_as_ll:\n",
    "    print(sentence)"
   ]
  },
  {
   "cell_type": "code",
   "execution_count": 9,
   "metadata": {},
   "outputs": [],
   "source": [
    "#X_train, X_test, y_train, y_test= train_test_split(reviews_as_ll, polarity, test_size=0.2, random_state=42)"
   ]
  },
  {
   "cell_type": "code",
   "execution_count": 10,
   "metadata": {
    "scrolled": true
   },
   "outputs": [
    {
     "data": {
      "text/plain": [
       "(7829, 24260)"
      ]
     },
     "execution_count": 10,
     "metadata": {},
     "output_type": "execute_result"
    }
   ],
   "source": [
    "model= gensim.models.Word2Vec(min_count= MIN_WORD_OCCURRENCES, vector_size=5)\n",
    "model.build_vocab(reviews_as_ll)\n",
    "model.train(reviews_as_ll, total_examples=no_sentences, epochs=model.epochs) # can be a non-repeatable, 1-pass generator"
   ]
  },
  {
   "cell_type": "code",
   "execution_count": 11,
   "metadata": {},
   "outputs": [],
   "source": [
    "# Store just the words + their trained embeddings.\n",
    "word_vectors = model.wv\n",
    "word_vectors.save(\"word2vec.wordvectors\")\n",
    "\n",
    "# Load back with memory-mapping = read-only, shared across processes.\n",
    "wv = KeyedVectors.load(\"word2vec.wordvectors\", mmap='r')\n",
    "\n",
    "#vector = wv['the']  # Get numpy vector of a word"
   ]
  },
  {
   "cell_type": "code",
   "execution_count": 13,
   "metadata": {},
   "outputs": [
    {
     "name": "stdout",
     "output_type": "stream",
     "text": [
      "####### GAME #######\n",
      "[-0.12886366  0.28580472  0.26098183 -0.4688893  -0.18429965]\n",
      "####### PLAYER #######\n",
      "[ 0.16223831  0.2709357   0.5825483  -0.6290702  -0.27084538]\n"
     ]
    }
   ],
   "source": [
    "print(\"####### GAME #######\")\n",
    "vector = wv['amazing']\n",
    "print(vector)\n",
    "print(\"####### PLAYER #######\")\n",
    "vector = wv['good']\n",
    "print(vector)"
   ]
  },
  {
   "cell_type": "code",
   "execution_count": null,
   "metadata": {},
   "outputs": [],
   "source": []
  }
 ],
 "metadata": {
  "kernelspec": {
   "display_name": "Python 3",
   "language": "python",
   "name": "python3"
  },
  "language_info": {
   "codemirror_mode": {
    "name": "ipython",
    "version": 3
   },
   "file_extension": ".py",
   "mimetype": "text/x-python",
   "name": "python",
   "nbconvert_exporter": "python",
   "pygments_lexer": "ipython3",
   "version": "3.9.1"
  }
 },
 "nbformat": 4,
 "nbformat_minor": 4
}
