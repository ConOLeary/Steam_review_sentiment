{
 "cells": [
  {
   "cell_type": "code",
   "execution_count": 1,
   "metadata": {},
   "outputs": [],
   "source": [
    "import random\n",
    "import json_lines\n",
    "from langdetect import detect_langs\n",
    "import nltk\n",
    "from nltk.stem import WordNetLemmatizer\n",
    "import gensim\n",
    "from sklearn.model_selection import train_test_split\n",
    "\n",
    "LIMIT_INPUT_ROWS= 200\n",
    "MIN_ENGLISH= 0.0\n",
    "WNL = WordNetLemmatizer()\n",
    "REMOVEABLE_CHARS= '[^A-Za-z ]'\n",
    "ALL_TAGS= ['CC', 'CD', 'DT', 'EX', 'FW', 'IN', 'JJ', 'JJR', 'JJS', 'LS', 'MD', 'NN', 'NNS', 'NNP', 'NNPS', 'PDT',\n",
    " 'POS', 'PRP', 'PRP$', 'RB', 'RBR', 'RBS', 'RP', 'TO', 'UH', 'VB', 'VBD', 'VBG', 'VBN', 'VBP', 'VBZ', 'WDT', 'WP',\n",
    " 'WP$', 'WRB']\n",
    "ACCEPTABLE_TAGS= ['CC', 'CD', 'DT', 'EX', 'FW', 'IN', 'JJ', 'JJR', 'JJS', 'LS', 'MD', 'NN', 'NNS', 'NNP', 'NNPS', 'PDT',\n",
    " 'POS', 'PRP', 'PRP$', 'RB', 'RBR', 'RBS', 'RP', 'TO', 'UH', 'VB', 'VBD', 'VBG', 'VBN', 'VBP', 'VBZ', 'WDT', 'WP',\n",
    " 'WP$', 'WRB']\n",
    "MIN_WORD_OCCURRENCES= 5\n",
    "\n",
    "number_entries= 0\n",
    "with open ('reviews.json', 'rb') as f:\n",
    "    for item in json_lines.reader(f):\n",
    "        number_entries+= 1"
   ]
  },
  {
   "cell_type": "code",
   "execution_count": 2,
   "metadata": {},
   "outputs": [],
   "source": [
    "# READ IN INFO\n",
    "reviews= []; polarity= []; are_early= []\n",
    "included_indexs= []\n",
    "j= 0\n",
    "while j < LIMIT_INPUT_ROWS:\n",
    "    randint= random.randint(0, number_entries-1)\n",
    "    if not randint in included_indexs:\n",
    "        included_indexs.append(randint)\n",
    "        j+= 1\n",
    "    \n",
    "with open('reviews.json', 'rb') as f: # 5,000 entries in reviews.json\n",
    "    for counter, item in enumerate(json_lines.reader(f)):\n",
    "        if counter in included_indexs:\n",
    "            reviews.append(item['text'])\n",
    "            polarity.append(item['voted_up'])\n",
    "            are_early.append(item['early_access'])\n",
    "\n",
    "# END PRODUCTS: reviews, polarity, are_early"
   ]
  },
  {
   "cell_type": "code",
   "execution_count": 3,
   "metadata": {},
   "outputs": [],
   "source": [
    "# FILTER TEXT BY CHARACTER\n",
    "\n",
    "import re\n",
    "new_reviews= []\n",
    "for i, text in enumerate(reviews):\n",
    "    text= re.sub(REMOVEABLE_CHARS, '', text)\n",
    "    if not str.isspace(text) and text != \"\":\n",
    "        new_reviews.append(text)\n",
    "#     else:\n",
    "#         print(\"removed [\"+text+\"]\")\n",
    "# print(reviews)\n",
    "# print(\"########################################################################\")\n",
    "# print(new_reviews)\n",
    "reviews= new_reviews\n",
    "\n",
    "# END PRODUCTS: reviews"
   ]
  },
  {
   "cell_type": "code",
   "execution_count": null,
   "metadata": {},
   "outputs": [],
   "source": [
    "# FILTER TEXT BY LANGUAGE\n",
    "\n",
    "filtered_reviews= []\n",
    "filtered_polarity= []\n",
    "filtered_are_early= []\n",
    "for i, text in enumerate(reviews):\n",
    "    try:\n",
    "        langs = detect_langs(text)\n",
    "    except:\n",
    "        print(\"[\"+text+\"]\")\n",
    "        print(\"ERROR: langs failed to define itself. Happens occassionally - just rerun\")\n",
    "        pass\n",
    "    for lang in langs:\n",
    "        if str(lang)[0:2] == 'en':\n",
    "            if float(str(lang)[3:]) > MIN_ENGLISH:\n",
    "                filtered_reviews.append(reviews[i])\n",
    "                filtered_polarity.append(polarity[i])\n",
    "                filtered_are_early.append(are_early[i])\n",
    "reviews= filtered_reviews\n",
    "polarity= filtered_polarity\n",
    "are_early= filtered_are_early\n",
    "\n",
    "#print(reviews)\n",
    "# END PRODUCTS: reviews, polarity, are_early"
   ]
  },
  {
   "cell_type": "code",
   "execution_count": null,
   "metadata": {},
   "outputs": [],
   "source": [
    "# FILTER TEXT BY WORD TYPE\n",
    "\n",
    "#print(reviews)\n",
    "filtered_reviews= []\n",
    "for i, text in enumerate(reviews):\n",
    "    #print(\"-------------------------------------\")\n",
    "    new_text= []\n",
    "    split_text= text.split()\n",
    "    tags= nltk.pos_tag(split_text)\n",
    "    #print(tags)\n",
    "    #print(\"#############\")\n",
    "    lemd_split_text= []\n",
    "    for word in split_text:\n",
    "        lemd_split_text.append(WNL.lemmatize(word))\n",
    "    tags= nltk.pos_tag(lemd_split_text)\n",
    "    #print(tags)\n",
    "    for j, word in enumerate(lemd_split_text):\n",
    "        if tags[j][1] in ACCEPTABLE_TAGS:\n",
    "            new_text.append(word)\n",
    "    filtered_reviews.append(new_text)\n",
    "reviews= [' '.join([str(elem) for elem in sublist]) for sublist in filtered_reviews]\n",
    "\n",
    "# END PRODUCTS: reviews, polarity, are_early"
   ]
  },
  {
   "cell_type": "code",
   "execution_count": null,
   "metadata": {},
   "outputs": [],
   "source": [
    "# GET REVIEWS AS LIST OF LISTS\n",
    "\n",
    "no_sentences= 0\n",
    "reviews_as_ll= [] # ll denoting the list of list data\n",
    "for text in reviews:\n",
    "    split_text= text.split()\n",
    "    reviews_as_ll.append(split_text)\n",
    "    no_sentences+= 1\n",
    "\n",
    "# END PRODUCTS: ll_reviews, no_sentences"
   ]
  },
  {
   "cell_type": "code",
   "execution_count": null,
   "metadata": {},
   "outputs": [],
   "source": [
    "X_train, X_test, y_train, y_test= train_test_split(reviews_as_ll, polarity, test_size=0.2, random_state=42)"
   ]
  },
  {
   "cell_type": "code",
   "execution_count": null,
   "metadata": {
    "scrolled": true
   },
   "outputs": [],
   "source": [
    "model= gensim.models.Word2Vec(min_count= MIN_WORD_OCCURRENCES, vector_size=5)\n",
    "model.build_vocab(reviews_as_ll)\n",
    "model.train(reviews_as_ll, total_examples=no_sentences, epochs=model.epochs) # can be a non-repeatable, 1-pass generator"
   ]
  },
  {
   "cell_type": "code",
   "execution_count": null,
   "metadata": {
    "scrolled": true
   },
   "outputs": [],
   "source": [
    "sims= model.wv.most_similar('the', topn=10)  # get other similar words\n",
    "print(sims)"
   ]
  },
  {
   "cell_type": "code",
   "execution_count": null,
   "metadata": {},
   "outputs": [],
   "source": [
    "vector = model.wv['the']\n",
    "print(vector)"
   ]
  },
  {
   "cell_type": "code",
   "execution_count": null,
   "metadata": {},
   "outputs": [],
   "source": []
  },
  {
   "cell_type": "code",
   "execution_count": null,
   "metadata": {},
   "outputs": [],
   "source": []
  }
 ],
 "metadata": {
  "kernelspec": {
   "display_name": "Python 3",
   "language": "python",
   "name": "python3"
  },
  "language_info": {
   "codemirror_mode": {
    "name": "ipython",
    "version": 3
   },
   "file_extension": ".py",
   "mimetype": "text/x-python",
   "name": "python",
   "nbconvert_exporter": "python",
   "pygments_lexer": "ipython3",
   "version": "3.9.1"
  }
 },
 "nbformat": 4,
 "nbformat_minor": 4
}
