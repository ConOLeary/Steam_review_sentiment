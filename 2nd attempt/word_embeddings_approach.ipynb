{
 "cells": [
  {
   "cell_type": "code",
   "execution_count": 1,
   "metadata": {},
   "outputs": [],
   "source": [
    "import random\n",
    "import json_lines\n",
    "from langdetect import detect_langs\n",
    "import nltk\n",
    "from nltk.stem import WordNetLemmatizer\n",
    "from sklearn.model_selection import train_test_split\n",
    "import gensim\n",
    "from gensim.models import KeyedVectors\n",
    "import numpy as np\n",
    "from sklearn.neural_network import MLPClassifier\n",
    "from sklearn.metrics import plot_confusion_matrix\n",
    "\n",
    "LIMIT_INPUT_ROWS= 300\n",
    "MIN_ENGLISH= 0.0\n",
    "WNL = WordNetLemmatizer()\n",
    "REMOVEABLE_CHARS= '[^A-Za-z ]'\n",
    "ALL_TAGS= ['CC', 'CD', 'DT', 'EX', 'FW', 'IN', 'JJ', 'JJR', 'JJS', 'LS', 'MD', 'NN', 'NNS', 'NNP', 'NNPS', 'PDT',\n",
    " 'POS', 'PRP', 'PRP$', 'RB', 'RBR', 'RBS', 'RP', 'TO', 'UH', 'VB', 'VBD', 'VBG', 'VBN', 'VBP', 'VBZ', 'WDT', 'WP',\n",
    " 'WP$', 'WRB']\n",
    "ACCEPTABLE_TAGS= ['CC', 'CD', 'DT', 'EX', 'FW', 'IN', 'JJ', 'JJR', 'JJS', 'LS', 'MD', 'NN', 'NNS', 'NNP', 'NNPS', 'PDT',\n",
    " 'POS', 'PRP', 'PRP$', 'RB', 'RBR', 'RBS', 'RP', 'TO', 'UH', 'VB', 'VBD', 'VBG', 'VBN', 'VBP', 'VBZ', 'WDT', 'WP',\n",
    " 'WP$', 'WRB']\n",
    "MIN_WORD_OCCURRENCES= 1\n",
    "VEC_SIZE= 20\n",
    "MAX_GRAMS= 4\n",
    "AMOUNT_OF_FILTS= 50 # put to 100 probably\n",
    "\n",
    "number_entries= 0\n",
    "with open ('reviews.json', 'rb') as f:\n",
    "    for item in json_lines.reader(f):\n",
    "        number_entries+= 1"
   ]
  },
  {
   "cell_type": "code",
   "execution_count": 2,
   "metadata": {},
   "outputs": [],
   "source": [
    "# READ IN INFO\n",
    "reviews= []; polarity= []; are_early= []\n",
    "included_indexs= []\n",
    "j= 0\n",
    "while j < LIMIT_INPUT_ROWS:\n",
    "    randint= random.randint(0, number_entries-1)\n",
    "    if not randint in included_indexs:\n",
    "        included_indexs.append(randint)\n",
    "        j+= 1\n",
    "    \n",
    "with open('reviews.json', 'rb') as f: # 5,000 entries in reviews.json\n",
    "    for counter, item in enumerate(json_lines.reader(f)):\n",
    "        if counter in included_indexs:\n",
    "            reviews.append(item['text'])\n",
    "            polarity.append(item['voted_up'])\n",
    "            are_early.append(item['early_access'])\n",
    "\n",
    "# END PRODUCTS: reviews, polarity, are_early"
   ]
  },
  {
   "cell_type": "code",
   "execution_count": 3,
   "metadata": {},
   "outputs": [],
   "source": [
    "# FILTER TEXT BY CHARACTER\n",
    "\n",
    "import re\n",
    "new_reviews= []\n",
    "for i, text in enumerate(reviews):\n",
    "    text= re.sub(REMOVEABLE_CHARS, '', text)\n",
    "    if not str.isspace(text) and text != \"\":\n",
    "        new_reviews.append(text)\n",
    "#     else:\n",
    "#         print(\"removed [\"+text+\"]\")\n",
    "# print(reviews)\n",
    "# print(\"########################################################################\")\n",
    "# print(new_reviews)\n",
    "reviews= new_reviews\n",
    "\n",
    "# END PRODUCTS: reviews"
   ]
  },
  {
   "cell_type": "code",
   "execution_count": 4,
   "metadata": {},
   "outputs": [],
   "source": [
    "# FILTER TEXT BY LANGUAGE\n",
    "\n",
    "filtered_reviews= []\n",
    "filtered_polarity= []\n",
    "filtered_are_early= []\n",
    "for i, text in enumerate(reviews):\n",
    "    try:\n",
    "        langs = detect_langs(text)\n",
    "    except:\n",
    "        print(\"[\"+text+\"]\")\n",
    "        print(\"ERROR: langs failed to define itself. Happens occassionally - just rerun\")\n",
    "        pass\n",
    "    for lang in langs:\n",
    "        if str(lang)[0:2] == 'en':\n",
    "            if float(str(lang)[3:]) > MIN_ENGLISH:\n",
    "                filtered_reviews.append(reviews[i])\n",
    "                filtered_polarity.append(polarity[i])\n",
    "                filtered_are_early.append(are_early[i])\n",
    "reviews= filtered_reviews\n",
    "polarity= filtered_polarity\n",
    "are_early= filtered_are_early\n",
    "\n",
    "#print(reviews)\n",
    "# END PRODUCTS: reviews, polarity, are_early"
   ]
  },
  {
   "cell_type": "code",
   "execution_count": 5,
   "metadata": {},
   "outputs": [],
   "source": [
    "# FILTER TEXT BY WORD TYPE\n",
    "\n",
    "#print(reviews)\n",
    "filtered_reviews= []\n",
    "for i, text in enumerate(reviews):\n",
    "    #print(\"-------------------------------------\")\n",
    "    new_text= []\n",
    "    split_text= text.split()\n",
    "    tags= nltk.pos_tag(split_text)\n",
    "    #print(tags)\n",
    "    #print(\"#############\")\n",
    "    lemd_split_text= []\n",
    "    for word in split_text:\n",
    "        lemd_split_text.append(WNL.lemmatize(word))\n",
    "    tags= nltk.pos_tag(lemd_split_text)\n",
    "    #print(tags)\n",
    "    for j, word in enumerate(lemd_split_text):\n",
    "        if tags[j][1] in ACCEPTABLE_TAGS:\n",
    "            new_text.append(word)\n",
    "    filtered_reviews.append(new_text)\n",
    "reviews= [' '.join([str(elem) for elem in sublist]) for sublist in filtered_reviews]\n",
    "\n",
    "# END PRODUCTS: reviews, polarity, are_early"
   ]
  },
  {
   "cell_type": "code",
   "execution_count": 6,
   "metadata": {},
   "outputs": [],
   "source": [
    "# GET REVIEWS AS LIST OF LISTS\n",
    "\n",
    "no_sentences= 0\n",
    "reviews_as_ll= [] # ll denoting the list of list data\n",
    "for text in reviews:\n",
    "    split_text= text.split()\n",
    "    reviews_as_ll.append(split_text)\n",
    "    no_sentences+= 1\n",
    "\n",
    "# END PRODUCTS: reviews_as_ll, no_sentences"
   ]
  },
  {
   "cell_type": "code",
   "execution_count": 7,
   "metadata": {},
   "outputs": [],
   "source": [
    "# MAKE REVIEWS LOWER CASER\n",
    "\n",
    "for i, review in enumerate(reviews_as_ll):\n",
    "    for j, word in enumerate(review):\n",
    "        reviews_as_ll[i][j]= word.lower()\n",
    "\n",
    "# END PRODUCTS: reviews_as_ll"
   ]
  },
  {
   "cell_type": "code",
   "execution_count": 8,
   "metadata": {
    "scrolled": true
   },
   "outputs": [],
   "source": [
    "# MODEL RELATED\n",
    "\n",
    "#X_train, X_test, y_train, y_test= train_test_split(reviews_as_ll, polarity, test_size=0.33, random_state=42)\n",
    "\n",
    "model= gensim.models.Word2Vec(min_count= MIN_WORD_OCCURRENCES, vector_size=VEC_SIZE)\n",
    "model.build_vocab(reviews_as_ll)\n",
    "model.train(reviews_as_ll, total_examples=no_sentences, epochs=model.epochs) # can be a non-repeatable, 1-pass generator\n",
    "\n",
    "# Store just the words + their trained embeddings.\n",
    "word_vectors = model.wv\n",
    "word_vectors.save(\"word2vec.wordvectors\")\n",
    "\n",
    "# Load back with memory-mapping = read-only, shared across processes.\n",
    "wv = KeyedVectors.load(\"word2vec.wordvectors\", mmap='r')\n",
    "\n",
    "# END PRODUCTS: wv"
   ]
  },
  {
   "cell_type": "code",
   "execution_count": 9,
   "metadata": {},
   "outputs": [],
   "source": [
    "# MAKE FILTERS\n",
    "\n",
    "filters= []\n",
    "for i in range(AMOUNT_OF_FILTS):\n",
    "    filter= []\n",
    "    n_gram= random.randint(2, MAX_GRAMS)\n",
    "    for j in range(n_gram):\n",
    "        filter_layer= []\n",
    "        for k in range(VEC_SIZE):\n",
    "            filter_layer.append(random.uniform(-1, 1))\n",
    "        filter.append(filter_layer)\n",
    "    filter= np.array([np.array(xi) for xi in filter])\n",
    "    filters.append(filter)\n",
    "\n",
    "# END PRODUCTS: filters (list of numpy.ndarray)"
   ]
  },
  {
   "cell_type": "code",
   "execution_count": 10,
   "metadata": {},
   "outputs": [],
   "source": [
    "# GENERATE FEATURES\n",
    "\n",
    "# rows, cols = (len(reviews_as_ll), AMOUNT_OF_FILTS)\n",
    "# greatest_activations = [[0]*cols]*rows # greatest (absolute) filter activation values\n",
    "greatest_activations= {}\n",
    "# dict_name[(conv_i, filt_i)] = greatest_conv_float\n",
    "\n",
    "for review_i, review in enumerate(reviews_as_ll):\n",
    "    for filt_i, filt in enumerate(filters):\n",
    "        filt= filt.ravel()\n",
    "        greatest_conv_value= 0\n",
    "        n_gram= round(filt.size / VEC_SIZE) # round being used to convert to int\n",
    "        convolutions_per_filt= len(review) - n_gram + 1\n",
    "        for convolution_i in range(convolutions_per_filt):\n",
    "            vec_matrix= []\n",
    "            for i in range(n_gram):\n",
    "                vec_matrix.append(wv[review[convolution_i + i]]) # WV is a dict\n",
    "            vec_matrix= np.array([np.array(xi) for xi in vec_matrix]).ravel() # list of lists to 1d nd numpy\n",
    "            conv_result= np.convolve(filt, vec_matrix, 'valid')\n",
    "            if abs(conv_result) > abs(greatest_conv_value):\n",
    "                greatest_conv_value= conv_result\n",
    "        if type(greatest_conv_value) != int:\n",
    "            greatest_conv_value= greatest_conv_value[0].astype(float).item()\n",
    "        if type(greatest_conv_value) == int:\n",
    "            greatest_conv_value= np.float64(greatest_conv_value).item()\n",
    "        #print(type(greatest_conv_value))\n",
    "        #greatest_activations[review_i][filt_i]= greatest_conv_value\n",
    "        greatest_activations[(review_i, filt_i)]= greatest_conv_value\n",
    "        #print(review_i, filt_i, \" = \", greatest_conv_value)\n",
    "        #print(greatest_conv_value)\n",
    "\n",
    "amount_rows= round(len(greatest_activations) / AMOUNT_OF_FILTS)\n",
    "greatest_activations_as_ll= []\n",
    "for i in range(amount_rows):\n",
    "    next_list= []\n",
    "    for j in range(AMOUNT_OF_FILTS):\n",
    "        next_list.append(greatest_activations[i, j])\n",
    "    greatest_activations_as_ll.append(next_list)\n",
    "    \n",
    "# END PRODUCTS: greatest_activations_as_ll"
   ]
  },
  {
   "cell_type": "code",
   "execution_count": 11,
   "metadata": {},
   "outputs": [
    {
     "name": "stderr",
     "output_type": "stream",
     "text": [
      "/Library/Frameworks/Python.framework/Versions/3.9/lib/python3.9/site-packages/sklearn/neural_network/_multilayer_perceptron.py:582: ConvergenceWarning: Stochastic Optimizer: Maximum iterations (1000) reached and the optimization hasn't converged yet.\n",
      "  warnings.warn(\n"
     ]
    }
   ],
   "source": [
    "clf= MLPClassifier(random_state=1, max_iter=1000).fit(greatest_activations_as_ll, polarity)\n",
    "y_pred= clf.predict(greatest_activations_as_ll)"
   ]
  },
  {
   "cell_type": "code",
   "execution_count": 12,
   "metadata": {},
   "outputs": [
    {
     "name": "stdout",
     "output_type": "stream",
     "text": [
      "overall accuracy:  0.9848484848484849\n"
     ]
    },
    {
     "data": {
      "text/plain": [
       "Text(0.5, 0.98, 'Confusion Matrix')"
      ]
     },
     "execution_count": 12,
     "metadata": {},
     "output_type": "execute_result"
    },
    {
     "data": {
      "image/png": "[encoded data removed]",
      "text/plain": [
       "<Figure size 432x288 with 2 Axes>"
      ]
     },
     "metadata": {
      "needs_background": "light"
     },
     "output_type": "display_data"
    }
   ],
   "source": [
    "print(\"overall accuracy: \", clf.score(greatest_activations_as_ll, polarity))\n",
    "fig= plot_confusion_matrix(clf, greatest_activations_as_ll, polarity)\n",
    "fig.figure_.suptitle(\"Confusion Matrix\")"
   ]
  }
 ],
 "metadata": {
  "kernelspec": {
   "display_name": "Python 3",
   "language": "python",
   "name": "python3"
  },
  "language_info": {
   "codemirror_mode": {
    "name": "ipython",
    "version": 3
   },
   "file_extension": ".py",
   "mimetype": "text/x-python",
   "name": "python",
   "nbconvert_exporter": "python",
   "pygments_lexer": "ipython3",
   "version": "3.9.1"
  }
 },
 "nbformat": 4,
 "nbformat_minor": 4
}
