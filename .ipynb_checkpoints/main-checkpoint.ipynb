{
 "cells": [
  {
   "cell_type": "code",
   "execution_count": null,
   "metadata": {},
   "outputs": [],
   "source": [
    "import json_lines\n",
    "from langdetect import detect\n",
    "from langdetect import detect_langs\n",
    "#from nltk.stem import WordNetLemmatizer\n",
    "\n",
    "MIN_ENGLISH = 0.9999\n",
    "LIMIT_INPUT_ROWS = 50 # to stop run times hindering development\n",
    "\n",
    "X= []; y= []; z= [];\n",
    "with open ('reviews.json', 'rb') as f:\n",
    "    for i, item in enumerate(json_lines.reader(f)):\n",
    "        if i <= LIMIT_INPUT_ROWS:\n",
    "            try:\n",
    "                langs = detect_langs(item['text'])\n",
    "            except:\n",
    "                pass\n",
    "            for i, lang in enumerate(langs):\n",
    "                if str(lang)[0:2] == 'en':\n",
    "                    if float(str(lang)[3:]) > MIN_ENGLISH:\n",
    "                        #print (str(lang)[3:])\n",
    "                        X.append(item['text'])\n",
    "                        y.append(item['voted_up'])\n",
    "                        z.append(item['early_access'])"
   ]
  },
  {
   "cell_type": "code",
   "execution_count": null,
   "metadata": {},
   "outputs": [],
   "source": [
    "for i, text in enumerate(X):\n",
    "    text = text.split()\n",
    "    for j, word in enumerate(text):\n",
    "        text[j] = lemmatizer.lemmatize(word)\n",
    "    X[i] = text"
   ]
  },
  {
   "cell_type": "code",
   "execution_count": 47,
   "metadata": {},
   "outputs": [
    {
     "name": "stdout",
     "output_type": "stream",
     "text": [
      "X[ 0 ]:  Kinda decent f2p mmorpg that has no class limitations(hooray!)(and that game where i drained too much hours...) Community: In PvE, you may encounter friendly ppl(i managed to even encounter person that i love :o), while in PvP mostly complainers(those who complain about AT&T releasing too much of 1st in battle xD) or persons that make you turn into complainer.(As always!) Main review part: Graphics: Everything looks kinda pretty, but performance is not what expected for java and openGL...(8/10) Gameplay: SK features huge choice of equipment, which adds variety to the gear and gameplay itself(like you can use guns, or bombs, or swords.. or 2 of those... or all 3 xD) But because this game features grinding in big quantities you  may get bored(or may not if you do co-op with your friend(s))(8/10) Controls: In order to rekt m8s you need to change much(like binding weps to keys)(8/10) Setting: Kinda variable even if its supposed to be under ground.(10/10) Story: It's kinda interesting but begins to be rly interesting only when OOO decides to release new missions xD(like those new levels featuring herex 'n stuff)(8/10) Late game playability: This game features much equipment/accessories/stuff that will make you grind it to get it. Also getting last prestige badge which can take up to 5 months.(7/10) Overall rating: This game can be very good if you have friends and you're patient, but if not then it's not for ya... anyway this game doesn't cost a penny, so better try it out! Rank: A (8,2/10) P.S. review got updated at 30.10.15 and game's rank reduced.\n",
      "y[ 0 ]:  True\n",
      "z[ 0 ]:  False\n",
      "\n",
      "\n",
      "X[ 1 ]:  the games content is limited, but if you're playing with friends you are in for a fun and good time.\n",
      "y[ 1 ]:  True\n",
      "z[ 1 ]:  False\n",
      "\n",
      "\n"
     ]
    }
   ],
   "source": [
    "for i, item in enumerate(X):\n",
    "    print( \"X[\", str(i), \"]: \", str(X[i]) )\n",
    "    print( \"y[\", str(i), \"]: \", str(y[i]) )\n",
    "    print( \"z[\", str(i), \"]: \", str(z[i]) )\n",
    "    print( \"\\n\" )"
   ]
  }
 ],
 "metadata": {
  "kernelspec": {
   "display_name": "Python 3",
   "language": "python",
   "name": "python3"
  },
  "language_info": {
   "codemirror_mode": {
    "name": "ipython",
    "version": 3
   },
   "file_extension": ".py",
   "mimetype": "text/x-python",
   "name": "python",
   "nbconvert_exporter": "python",
   "pygments_lexer": "ipython3",
   "version": "3.9.1"
  }
 },
 "nbformat": 4,
 "nbformat_minor": 4
}
