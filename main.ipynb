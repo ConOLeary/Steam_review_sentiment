{
 "cells": [
  {
   "cell_type": "code",
   "execution_count": 1,
   "metadata": {},
   "outputs": [],
   "source": [
    "import json_lines\n",
    "from langdetect import detect\n",
    "from langdetect import detect_langs\n",
    "import nltk\n",
    "from nltk.stem import WordNetLemmatizer\n",
    "from nltk.corpus import wordnet\n",
    "\n",
    "lemmatizer = WordNetLemmatizer()\n",
    "REMOVEABLES = \"123456789\\/&()?:!.,;'\"\n",
    "ALL_TAGS = ['CC', 'CD', 'DT', 'EX', 'FW', 'IN', 'JJ', 'JJR', 'JJS', 'LS', 'MD', 'NN', 'NNS', 'NNP', 'NNPS', 'PDT',\n",
    " 'POS', 'PRP', 'PRP$', 'RB', 'RBR', 'RBS', 'RP', 'TO', 'UH', 'VB', 'VBD', 'VBG', 'VBN', 'VBP', 'VBZ', 'WDT', 'WP',\n",
    " 'WP$', 'WRB']\n",
    "ACCEPTABLE_TAGS = ['CC', 'CD', 'DT', 'EX', 'FW', 'IN', 'JJ', 'JJR', 'JJS', 'LS', 'MD', 'NN', 'NNS', 'NNP', 'NNPS', 'PDT',\n",
    " 'POS', 'PRP', 'PRP$', 'RB', 'RBR', 'RBS', 'RP', 'TO', 'UH', 'VB', 'VBD', 'VBG', 'VBN', 'VBP', 'VBZ', 'WDT', 'WP',\n",
    " 'WP$', 'WRB']\n",
    "MIN_ENGLISH = 0.9999\n",
    "LIMIT_INPUT_ROWS = 20 # to stop run times hindering development\n",
    "\n",
    "def get_wordnet_pos(tag):\n",
    "    if tag.startswith('J'):\n",
    "        return wordnet.ADJ\n",
    "    elif tag.startswith('V'):\n",
    "        return wordnet.VERB\n",
    "    elif tag.startswith('N'):\n",
    "        return wordnet.NOUN\n",
    "    elif tag.startswith('R'):\n",
    "        return wordnet.ADV\n",
    "    else:\n",
    "        return ''"
   ]
  },
  {
   "cell_type": "code",
   "execution_count": 2,
   "metadata": {},
   "outputs": [],
   "source": [
    "X= []; y= []; z= [];\n",
    "with open ('reviews.json', 'rb') as f:\n",
    "    for i, item in enumerate(json_lines.reader(f)):\n",
    "        if i <= LIMIT_INPUT_ROWS:\n",
    "            try:\n",
    "                langs = detect_langs(item['text'])\n",
    "            except:\n",
    "                pass\n",
    "            for i, lang in enumerate(langs):\n",
    "                if str(lang)[0:2] == 'en':\n",
    "                    if float(str(lang)[3:]) > MIN_ENGLISH:\n",
    "                        X.append(item['text'])\n",
    "                        y.append(item['voted_up'])\n",
    "                        z.append(item['early_access'])"
   ]
  },
  {
   "cell_type": "code",
   "execution_count": 3,
   "metadata": {
    "scrolled": true
   },
   "outputs": [
    {
     "name": "stdout",
     "output_type": "stream",
     "text": [
      "X[ 0 ]:  neat little game. play if your staple fps game's server is down or sth. maps and weapon distribution system needs rework.\n",
      "y[ 0 ]:  True\n",
      "z[ 0 ]:  True\n",
      "\n",
      "\n",
      "X[ 1 ]:  Kinda decent f2p mmorpg that has no class limitations(hooray!)(and that game where i drained too much hours...) Community: In PvE, you may encounter friendly ppl(i managed to even encounter person that i love :o), while in PvP mostly complainers(those who complain about AT&T releasing too much of 1st in battle xD) or persons that make you turn into complainer.(As always!) Main review part: Graphics: Everything looks kinda pretty, but performance is not what expected for java and openGL...(8/10) Gameplay: SK features huge choice of equipment, which adds variety to the gear and gameplay itself(like you can use guns, or bombs, or swords.. or 2 of those... or all 3 xD) But because this game features grinding in big quantities you  may get bored(or may not if you do co-op with your friend(s))(8/10) Controls: In order to rekt m8s you need to change much(like binding weps to keys)(8/10) Setting: Kinda variable even if its supposed to be under ground.(10/10) Story: It's kinda interesting but begins to be rly interesting only when OOO decides to release new missions xD(like those new levels featuring herex 'n stuff)(8/10) Late game playability: This game features much equipment/accessories/stuff that will make you grind it to get it. Also getting last prestige badge which can take up to 5 months.(7/10) Overall rating: This game can be very good if you have friends and you're patient, but if not then it's not for ya... anyway this game doesn't cost a penny, so better try it out! Rank: A (8,2/10) P.S. review got updated at 30.10.15 and game's rank reduced.\n",
      "y[ 1 ]:  True\n",
      "z[ 1 ]:  False\n",
      "\n",
      "\n",
      "X[ 2 ]:  The gameplay is so buggy that it need to be Optimize or rework HOWEVER, The Perfect blend between story and music will make you forget about Reality <3\n",
      "y[ 2 ]:  True\n",
      "z[ 2 ]:  False\n",
      "\n",
      "\n",
      "X[ 3 ]:  You have a team of champions, towers and units fight by your side. The job is to guide them to victory.  By hand picking units and dropping them off where you want them to go. If your situation doesn't go according to your plan, don't worry. You have miracles like sprinkling healing powder on your units or dropping ice on enemies units that you found in your freezer. As time goes you are able to upgrade the team, find new miracles and develop new strategies to conquer your enemies! Personally I just adore the art style in this game and the hole setting that everything takes place in a mystical little shop. Not too surprising for me because I like the Nimble Neurons other games too which also has a very detailed and neat art style. The only negative for me is that the game is F2P. There will be instances where you face another player that has much stronger units because they have spent a bit of money. But I still recommend this game, give it a try!\n",
      "y[ 3 ]:  True\n",
      "z[ 3 ]:  False\n",
      "\n",
      "\n",
      "X[ 4 ]:  I thought this will be a quick match game, but surprisingly it didn't bother me at all. Some things need to get balanced I think.\n",
      "y[ 4 ]:  True\n",
      "z[ 4 ]:  True\n",
      "\n",
      "\n"
     ]
    }
   ],
   "source": [
    "for i, item in enumerate(X):\n",
    "    print( \"X[\", str(i), \"]: \", str(X[i]) )\n",
    "    print( \"y[\", str(i), \"]: \", str(y[i]) )\n",
    "    print( \"z[\", str(i), \"]: \", str(z[i]) )\n",
    "    print( \"\\n\" )"
   ]
  },
  {
   "cell_type": "code",
   "execution_count": 4,
   "metadata": {},
   "outputs": [
    {
     "name": "stdout",
     "output_type": "stream",
     "text": [
      "[('neat', 'RB'), ('little', 'JJ'), ('game', 'NN'), ('.', '.'), ('play', 'VB'), ('if', 'IN'), ('your', 'PRP$'), ('staple', 'NN'), ('fps', 'JJ'), ('game', 'NN'), (\"'s\", 'POS'), ('server', 'NN'), ('is', 'VBZ'), ('down', 'RB'), ('or', 'CC'), ('sth', 'VB'), ('.', '.'), ('maps', 'NNS'), ('and', 'CC'), ('weapon', 'VB'), ('distribution', 'NN'), ('system', 'NN'), ('needs', 'VBZ'), ('rework', 'NN'), ('.', '.')]\n",
      "[('kinda', 'VB'), ('decent', 'JJ'), ('f2p', 'NN'), ('mmorpg', 'NN'), ('that', 'WDT'), ('has', 'VBZ'), ('no', 'DT'), ('class', 'NN'), ('limitations', 'NNS'), ('(', '('), ('hooray', 'NN'), ('!', '.'), (')', ')'), ('(', '('), ('and', 'CC'), ('that', 'DT'), ('game', 'NN'), ('where', 'WRB'), ('i', 'NN'), ('drained', 'VBD'), ('too', 'RB'), ('much', 'JJ'), ('hours', 'NNS'), ('...', ':'), (')', ')'), ('community', 'NN'), (':', ':'), ('in', 'IN'), ('pve', 'NN'), (',', ','), ('you', 'PRP'), ('may', 'MD'), ('encounter', 'VB'), ('friendly', 'JJ'), ('ppl', 'NN'), ('(', '('), ('i', 'VB'), ('managed', 'VBN'), ('to', 'TO'), ('even', 'RB'), ('encounter', 'VB'), ('person', 'NN'), ('that', 'IN'), ('i', 'JJ'), ('love', 'VBP'), (':', ':'), ('o', 'NN'), (')', ')'), (',', ','), ('while', 'IN'), ('in', 'IN'), ('pvp', 'NN'), ('mostly', 'RB'), ('complainers', 'NNS'), ('(', '('), ('those', 'DT'), ('who', 'WP'), ('complain', 'VBP'), ('about', 'IN'), ('at', 'IN'), ('&', 'CC'), ('t', 'VB'), ('releasing', 'VBG'), ('too', 'RB'), ('much', 'JJ'), ('of', 'IN'), ('1st', 'CD'), ('in', 'IN'), ('battle', 'NN'), ('xd', 'NN'), (')', ')'), ('or', 'CC'), ('persons', 'NNS'), ('that', 'WDT'), ('make', 'VBP'), ('you', 'PRP'), ('turn', 'VBP'), ('into', 'IN'), ('complainer', 'NN'), ('.', '.'), ('(', '('), ('as', 'IN'), ('always', 'RB'), ('!', '.'), (')', ')'), ('main', 'JJ'), ('review', 'JJ'), ('part', 'NN'), (':', ':'), ('graphics', 'NNS'), (':', ':'), ('everything', 'NN'), ('looks', 'VBZ'), ('kinda', 'JJ'), ('pretty', 'RB'), (',', ','), ('but', 'CC'), ('performance', 'NN'), ('is', 'VBZ'), ('not', 'RB'), ('what', 'WP'), ('expected', 'VBD'), ('for', 'IN'), ('java', 'NN'), ('and', 'CC'), ('opengl', 'NN'), ('...', ':'), ('(', '('), ('8/10', 'CD'), (')', ')'), ('gameplay', 'NN'), (':', ':'), ('sk', 'NN'), ('features', 'NNS'), ('huge', 'JJ'), ('choice', 'NN'), ('of', 'IN'), ('equipment', 'NN'), (',', ','), ('which', 'WDT'), ('adds', 'VBZ'), ('variety', 'NN'), ('to', 'TO'), ('the', 'DT'), ('gear', 'NN'), ('and', 'CC'), ('gameplay', 'VB'), ('itself', 'PRP'), ('(', '('), ('like', 'IN'), ('you', 'PRP'), ('can', 'MD'), ('use', 'VB'), ('guns', 'NNS'), (',', ','), ('or', 'CC'), ('bombs', 'NNS'), (',', ','), ('or', 'CC'), ('swords', 'NNS'), ('..', 'CD'), ('or', 'CC'), ('2', 'CD'), ('of', 'IN'), ('those', 'DT'), ('...', ':'), ('or', 'CC'), ('all', 'DT'), ('3', 'CD'), ('xd', 'NNS'), (')', ')'), ('but', 'CC'), ('because', 'IN'), ('this', 'DT'), ('game', 'NN'), ('features', 'VBZ'), ('grinding', 'VBG'), ('in', 'IN'), ('big', 'JJ'), ('quantities', 'NNS'), ('you', 'PRP'), ('may', 'MD'), ('get', 'VB'), ('bored', 'VBN'), ('(', '('), ('or', 'CC'), ('may', 'MD'), ('not', 'RB'), ('if', 'IN'), ('you', 'PRP'), ('do', 'VBP'), ('co-op', 'JJ'), ('with', 'IN'), ('your', 'PRP$'), ('friend', 'NN'), ('(', '('), ('s', 'PRP'), (')', ')'), (')', ')'), ('(', '('), ('8/10', 'CD'), (')', ')'), ('controls', 'NNS'), (':', ':'), ('in', 'IN'), ('order', 'NN'), ('to', 'TO'), ('rekt', 'VB'), ('m8s', 'NN'), ('you', 'PRP'), ('need', 'VBP'), ('to', 'TO'), ('change', 'VB'), ('much', 'RB'), ('(', '('), ('like', 'IN'), ('binding', 'VBG'), ('weps', 'NNS'), ('to', 'TO'), ('keys', 'NNS'), (')', ')'), ('(', '('), ('8/10', 'CD'), (')', ')'), ('setting', 'NN'), (':', ':'), ('kinda', 'NN'), ('variable', 'JJ'), ('even', 'RB'), ('if', 'IN'), ('its', 'PRP$'), ('supposed', 'VBN'), ('to', 'TO'), ('be', 'VB'), ('under', 'IN'), ('ground', 'NN'), ('.', '.'), ('(', '('), ('10/10', 'CD'), (')', ')'), ('story', 'NN'), (':', ':'), ('it', 'PRP'), (\"'s\", 'VBZ'), ('kinda', 'JJ'), ('interesting', 'JJ'), ('but', 'CC'), ('begins', 'VBZ'), ('to', 'TO'), ('be', 'VB'), ('rly', 'RB'), ('interesting', 'VBG'), ('only', 'RB'), ('when', 'WRB'), ('ooo', 'JJ'), ('decides', 'NNS'), ('to', 'TO'), ('release', 'VB'), ('new', 'JJ'), ('missions', 'NNS'), ('xd', 'VBP'), ('(', '('), ('like', 'IN'), ('those', 'DT'), ('new', 'JJ'), ('levels', 'NNS'), ('featuring', 'VBG'), ('herex', 'NN'), (\"'\", \"''\"), ('n', 'JJ'), ('stuff', 'NN'), (')', ')'), ('(', '('), ('8/10', 'CD'), (')', ')'), ('late', 'JJ'), ('game', 'NN'), ('playability', 'NN'), (':', ':'), ('this', 'DT'), ('game', 'NN'), ('features', 'VBZ'), ('much', 'RB'), ('equipment/accessories/stuff', 'NN'), ('that', 'WDT'), ('will', 'MD'), ('make', 'VB'), ('you', 'PRP'), ('grind', 'VB'), ('it', 'PRP'), ('to', 'TO'), ('get', 'VB'), ('it', 'PRP'), ('.', '.'), ('also', 'RB'), ('getting', 'VBG'), ('last', 'JJ'), ('prestige', 'NN'), ('badge', 'NN'), ('which', 'WDT'), ('can', 'MD'), ('take', 'VB'), ('up', 'RP'), ('to', 'TO'), ('5', 'CD'), ('months', 'NNS'), ('.', '.'), ('(', '('), ('7/10', 'CD'), (')', ')'), ('overall', 'JJ'), ('rating', 'NN'), (':', ':'), ('this', 'DT'), ('game', 'NN'), ('can', 'MD'), ('be', 'VB'), ('very', 'RB'), ('good', 'JJ'), ('if', 'IN'), ('you', 'PRP'), ('have', 'VBP'), ('friends', 'NNS'), ('and', 'CC'), ('you', 'PRP'), (\"'re\", 'VBP'), ('patient', 'JJ'), (',', ','), ('but', 'CC'), ('if', 'IN'), ('not', 'RB'), ('then', 'RB'), ('it', 'PRP'), (\"'s\", 'VBZ'), ('not', 'RB'), ('for', 'IN'), ('ya', 'NN'), ('...', ':'), ('anyway', 'RB'), ('this', 'DT'), ('game', 'NN'), ('does', 'VBZ'), (\"n't\", 'RB'), ('cost', 'VB'), ('a', 'DT'), ('penny', 'NN'), (',', ','), ('so', 'RB'), ('better', 'RB'), ('try', 'VB'), ('it', 'PRP'), ('out', 'RP'), ('!', '.'), ('rank', 'NN'), (':', ':'), ('a', 'DT'), ('(', '('), ('8,2/10', 'CD'), (')', ')'), ('p.s', 'NN'), ('.', '.'), ('review', 'NN'), ('got', 'VBD'), ('updated', 'VBN'), ('at', 'IN'), ('30.10.15', 'CD'), ('and', 'CC'), ('game', 'NN'), (\"'s\", 'POS'), ('rank', 'NN'), ('reduced', 'VBD'), ('.', '.')]\n",
      "[('the', 'DT'), ('gameplay', 'NN'), ('is', 'VBZ'), ('so', 'RB'), ('buggy', 'JJ'), ('that', 'IN'), ('it', 'PRP'), ('need', 'VBP'), ('to', 'TO'), ('be', 'VB'), ('optimize', 'JJ'), ('or', 'CC'), ('rework', 'NN'), ('however', 'RB'), (',', ','), ('the', 'DT'), ('perfect', 'JJ'), ('blend', 'NN'), ('between', 'IN'), ('story', 'NN'), ('and', 'CC'), ('music', 'NN'), ('will', 'MD'), ('make', 'VB'), ('you', 'PRP'), ('forget', 'VB'), ('about', 'IN'), ('reality', 'NN'), ('<', 'VBP'), ('3', 'CD')]\n",
      "[('you', 'PRP'), ('have', 'VBP'), ('a', 'DT'), ('team', 'NN'), ('of', 'IN'), ('champions', 'NNS'), (',', ','), ('towers', 'NNS'), ('and', 'CC'), ('units', 'NNS'), ('fight', 'VBN'), ('by', 'IN'), ('your', 'PRP$'), ('side', 'NN'), ('.', '.'), ('the', 'DT'), ('job', 'NN'), ('is', 'VBZ'), ('to', 'TO'), ('guide', 'VB'), ('them', 'PRP'), ('to', 'TO'), ('victory', 'NN'), ('.', '.'), ('by', 'IN'), ('hand', 'NN'), ('picking', 'VBG'), ('units', 'NNS'), ('and', 'CC'), ('dropping', 'VBG'), ('them', 'PRP'), ('off', 'RP'), ('where', 'WRB'), ('you', 'PRP'), ('want', 'VBP'), ('them', 'PRP'), ('to', 'TO'), ('go', 'VB'), ('.', '.'), ('if', 'IN'), ('your', 'PRP$'), ('situation', 'NN'), ('does', 'VBZ'), (\"n't\", 'RB'), ('go', 'VB'), ('according', 'VBG'), ('to', 'TO'), ('your', 'PRP$'), ('plan', 'NN'), (',', ','), ('do', 'VBP'), (\"n't\", 'RB'), ('worry', 'VB'), ('.', '.'), ('you', 'PRP'), ('have', 'VBP'), ('miracles', 'NNS'), ('like', 'IN'), ('sprinkling', 'VBG'), ('healing', 'VBG'), ('powder', 'NN'), ('on', 'IN'), ('your', 'PRP$'), ('units', 'NNS'), ('or', 'CC'), ('dropping', 'VBG'), ('ice', 'NN'), ('on', 'IN'), ('enemies', 'NNS'), ('units', 'NNS'), ('that', 'IN'), ('you', 'PRP'), ('found', 'VBD'), ('in', 'IN'), ('your', 'PRP$'), ('freezer', 'NN'), ('.', '.'), ('as', 'IN'), ('time', 'NN'), ('goes', 'VBZ'), ('you', 'PRP'), ('are', 'VBP'), ('able', 'JJ'), ('to', 'TO'), ('upgrade', 'VB'), ('the', 'DT'), ('team', 'NN'), (',', ','), ('find', 'VBP'), ('new', 'JJ'), ('miracles', 'NNS'), ('and', 'CC'), ('develop', 'VB'), ('new', 'JJ'), ('strategies', 'NNS'), ('to', 'TO'), ('conquer', 'VB'), ('your', 'PRP$'), ('enemies', 'NNS'), ('!', '.'), ('personally', 'RB'), ('i', 'JJ'), ('just', 'RB'), ('adore', 'IN'), ('the', 'DT'), ('art', 'NN'), ('style', 'NN'), ('in', 'IN'), ('this', 'DT'), ('game', 'NN'), ('and', 'CC'), ('the', 'DT'), ('hole', 'NN'), ('setting', 'VBG'), ('that', 'IN'), ('everything', 'NN'), ('takes', 'VBZ'), ('place', 'NN'), ('in', 'IN'), ('a', 'DT'), ('mystical', 'JJ'), ('little', 'JJ'), ('shop', 'NN'), ('.', '.'), ('not', 'RB'), ('too', 'RB'), ('surprising', 'JJ'), ('for', 'IN'), ('me', 'PRP'), ('because', 'IN'), ('i', 'NN'), ('like', 'IN'), ('the', 'DT'), ('nimble', 'JJ'), ('neurons', 'NNS'), ('other', 'JJ'), ('games', 'NNS'), ('too', 'RB'), ('which', 'WDT'), ('also', 'RB'), ('has', 'VBZ'), ('a', 'DT'), ('very', 'RB'), ('detailed', 'JJ'), ('and', 'CC'), ('neat', 'JJ'), ('art', 'NN'), ('style', 'NN'), ('.', '.'), ('the', 'DT'), ('only', 'JJ'), ('negative', 'NN'), ('for', 'IN'), ('me', 'PRP'), ('is', 'VBZ'), ('that', 'IN'), ('the', 'DT'), ('game', 'NN'), ('is', 'VBZ'), ('f2p', 'RB'), ('.', '.'), ('there', 'EX'), ('will', 'MD'), ('be', 'VB'), ('instances', 'NNS'), ('where', 'WRB'), ('you', 'PRP'), ('face', 'VBP'), ('another', 'DT'), ('player', 'NN'), ('that', 'WDT'), ('has', 'VBZ'), ('much', 'RB'), ('stronger', 'JJR'), ('units', 'NNS'), ('because', 'IN'), ('they', 'PRP'), ('have', 'VBP'), ('spent', 'VBN'), ('a', 'DT'), ('bit', 'NN'), ('of', 'IN'), ('money', 'NN'), ('.', '.'), ('but', 'CC'), ('i', 'VBP'), ('still', 'RB'), ('recommend', 'VB'), ('this', 'DT'), ('game', 'NN'), (',', ','), ('give', 'VB'), ('it', 'PRP'), ('a', 'DT'), ('try', 'NN'), ('!', '.')]\n",
      "[('i', 'NN'), ('thought', 'VBD'), ('this', 'DT'), ('will', 'MD'), ('be', 'VB'), ('a', 'DT'), ('quick', 'JJ'), ('match', 'NN'), ('game', 'NN'), (',', ','), ('but', 'CC'), ('surprisingly', 'RB'), ('it', 'PRP'), ('did', 'VBD'), (\"n't\", 'RB'), ('bother', 'VB'), ('me', 'PRP'), ('at', 'IN'), ('all', 'DT'), ('.', '.'), ('some', 'DT'), ('things', 'NNS'), ('need', 'VBP'), ('to', 'TO'), ('get', 'VB'), ('balanced', 'JJ'), ('i', 'NN'), ('think', 'VBP'), ('.', '.')]\n"
     ]
    }
   ],
   "source": [
    "for i, text in enumerate(X):\n",
    "    text_words = nltk.word_tokenize(text.lower())\n",
    "    tags = nltk.pos_tag(text_words)\n",
    "    print(tags)\n",
    "    new_text= [];\n",
    "    for j, word in enumerate(text_words):\n",
    "        if tags[j][1] in ACCEPTABLE_TAGS:\n",
    "            for char in word:\n",
    "                if char in REMOVEABLES:\n",
    "                    break\n",
    "            else:\n",
    "                wordnet_pos = get_wordnet_pos(tags[j][1])\n",
    "                if wordnet_pos != '':\n",
    "                    new_text.append(lemmatizer.lemmatize(word, wordnet_pos))\n",
    "                    #print(\"word: \", word, \". wordnet_pos: \", wordnet_pos, \"lemmad: \",lemmatizer.lemmatize(word, wordnet_pos),\"\\n\")\n",
    "                continue\n",
    "    X[i] = new_text"
   ]
  },
  {
   "cell_type": "code",
   "execution_count": 5,
   "metadata": {},
   "outputs": [
    {
     "name": "stdout",
     "output_type": "stream",
     "text": [
      "X[ 0 ]:  ['neat', 'little', 'game', 'play', 'staple', 'fps', 'game', 'server', 'be', 'down', 'sth', 'map', 'weapon', 'distribution', 'system', 'need', 'rework']\n",
      "y[ 0 ]:  True\n",
      "z[ 0 ]:  True\n",
      "\n",
      "\n",
      "X[ 1 ]:  ['kinda', 'decent', 'mmorpg', 'have', 'class', 'limitation', 'hooray', 'game', 'i', 'drain', 'too', 'much', 'hour', 'community', 'pve', 'encounter', 'friendly', 'ppl', 'i', 'manage', 'even', 'encounter', 'person', 'i', 'love', 'o', 'pvp', 'mostly', 'complainer', 'complain', 't', 'release', 'too', 'much', 'battle', 'xd', 'person', 'make', 'turn', 'complainer', 'always', 'main', 'review', 'part', 'graphic', 'everything', 'look', 'kinda', 'pretty', 'performance', 'be', 'not', 'expect', 'java', 'opengl', 'gameplay', 'sk', 'feature', 'huge', 'choice', 'equipment', 'add', 'variety', 'gear', 'gameplay', 'use', 'gun', 'bomb', 'sword', 'xd', 'game', 'feature', 'grind', 'big', 'quantity', 'get', 'bore', 'not', 'do', 'co-op', 'friend', 'control', 'order', 'rekt', 'need', 'change', 'much', 'bind', 'weps', 'key', 'setting', 'kinda', 'variable', 'even', 'suppose', 'be', 'ground', 'story', 'kinda', 'interesting', 'begin', 'be', 'rly', 'interest', 'only', 'ooo', 'decides', 'release', 'new', 'mission', 'xd', 'new', 'level', 'feature', 'herex', 'n', 'stuff', 'late', 'game', 'playability', 'game', 'feature', 'much', 'make', 'grind', 'get', 'also', 'get', 'last', 'prestige', 'badge', 'take', 'up', 'month', 'overall', 'rating', 'game', 'be', 'very', 'good', 'have', 'friend', 'patient', 'not', 'then', 'not', 'ya', 'anyway', 'game', 'do', 'cost', 'penny', 'so', 'well', 'try', 'out', 'rank', 'review', 'get', 'update', 'game', 'rank', 'reduce']\n",
      "y[ 1 ]:  True\n",
      "z[ 1 ]:  False\n",
      "\n",
      "\n",
      "X[ 2 ]:  ['gameplay', 'be', 'so', 'buggy', 'need', 'be', 'optimize', 'rework', 'however', 'perfect', 'blend', 'story', 'music', 'make', 'forget', 'reality', '<']\n",
      "y[ 2 ]:  True\n",
      "z[ 2 ]:  False\n",
      "\n",
      "\n",
      "X[ 3 ]:  ['have', 'team', 'champion', 'tower', 'unit', 'fight', 'side', 'job', 'be', 'guide', 'victory', 'hand', 'pick', 'unit', 'drop', 'off', 'want', 'go', 'situation', 'do', 'go', 'accord', 'plan', 'do', 'worry', 'have', 'miracle', 'sprinkle', 'heal', 'powder', 'unit', 'drop', 'ice', 'enemy', 'unit', 'find', 'freezer', 'time', 'go', 'be', 'able', 'upgrade', 'team', 'find', 'new', 'miracle', 'develop', 'new', 'strategy', 'conquer', 'enemy', 'personally', 'i', 'just', 'art', 'style', 'game', 'hole', 'set', 'everything', 'take', 'place', 'mystical', 'little', 'shop', 'not', 'too', 'surprising', 'i', 'nimble', 'neuron', 'other', 'game', 'too', 'also', 'have', 'very', 'detailed', 'neat', 'art', 'style', 'only', 'negative', 'be', 'game', 'be', 'be', 'instance', 'face', 'player', 'have', 'much', 'strong', 'unit', 'have', 'spend', 'bit', 'money', 'i', 'still', 'recommend', 'game', 'give', 'try']\n",
      "y[ 3 ]:  True\n",
      "z[ 3 ]:  False\n",
      "\n",
      "\n",
      "X[ 4 ]:  ['i', 'think', 'be', 'quick', 'match', 'game', 'surprisingly', 'do', 'bother', 'thing', 'need', 'get', 'balanced', 'i', 'think']\n",
      "y[ 4 ]:  True\n",
      "z[ 4 ]:  True\n",
      "\n",
      "\n"
     ]
    }
   ],
   "source": [
    "for i, item in enumerate(X):\n",
    "    print( \"X[\", str(i), \"]: \", str(X[i]) )\n",
    "    print( \"y[\", str(i), \"]: \", str(y[i]) )\n",
    "    print( \"z[\", str(i), \"]: \", str(z[i]) )\n",
    "    print( \"\\n\" )"
   ]
  }
 ],
 "metadata": {
  "kernelspec": {
   "display_name": "Python 3",
   "language": "python",
   "name": "python3"
  },
  "language_info": {
   "codemirror_mode": {
    "name": "ipython",
    "version": 3
   },
   "file_extension": ".py",
   "mimetype": "text/x-python",
   "name": "python",
   "nbconvert_exporter": "python",
   "pygments_lexer": "ipython3",
   "version": "3.9.1"
  }
 },
 "nbformat": 4,
 "nbformat_minor": 4
}
